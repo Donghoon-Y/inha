{
  "nbformat": 4,
  "nbformat_minor": 0,
  "metadata": {
    "colab": {
      "provenance": []
    },
    "kernelspec": {
      "display_name": "Python 3",
      "language": "python",
      "name": "python3"
    }
  },
  "cells": [
    {
      "cell_type": "markdown",
      "metadata": {
        "id": "7gI-cY4cmMoZ"
      },
      "source": [
        "# Numpy module"
      ]
    },
    {
      "cell_type": "markdown",
      "metadata": {
        "id": "2Y1dQ8F_mMob"
      },
      "source": [
        "__<div style=\"text-align: right\"> ASE3001: Computational Experiments for Aerospace Engineering, Inha University. </div>__\n",
        "_<div style=\"text-align: right\"> Jong-Han Kim (jonghank@inha.ac.kr) </div>_"
      ]
    },
    {
      "cell_type": "markdown",
      "metadata": {
        "id": "lM3GudtSmMod"
      },
      "source": [
        "Numpy is the core library for scientific computing in Python. It provides a high-performance multidimensional array object, and tools for working with these arrays.\n",
        "\n",
        "To use Numpy, you first need to import the `numpy` package, with the optional `as np` that declares the alias."
      ]
    },
    {
      "cell_type": "code",
      "metadata": {
        "id": "moY2FidMmMog"
      },
      "source": [
        "import numpy as np"
      ],
      "execution_count": null,
      "outputs": []
    },
    {
      "cell_type": "markdown",
      "metadata": {
        "id": "hlvF9cyemMol"
      },
      "source": [
        "### Arrays"
      ]
    },
    {
      "cell_type": "markdown",
      "metadata": {
        "id": "POunHG0GmMom"
      },
      "source": [
        "A `numpy` array is a grid of values, all of the same type, and is indexed by a tuple of nonnegative integers. The number of dimensions is the rank of the array; the shape of an array is a tuple of integers giving the size of the array along each dimension.\n",
        "\n",
        "We can initialize numpy arrays from nested Python lists, and access elements using square brackets:"
      ]
    },
    {
      "cell_type": "code",
      "metadata": {
        "id": "jAihrzKtmMon"
      },
      "source": [
        "a = np.array([1, 2, 3])               # this creates a 1d array\n",
        "b = np.array([[4, 5, 6], [7, 8, 9]])  # this creates a 2d array"
      ],
      "execution_count": null,
      "outputs": []
    },
    {
      "cell_type": "code",
      "metadata": {
        "id": "9zLioOIDmMop",
        "outputId": "24888309-26e7-4b3c-c2df-f43e919a9ebc",
        "colab": {
          "base_uri": "https://localhost:8080/"
        }
      },
      "source": [
        "type(a), type(b)"
      ],
      "execution_count": null,
      "outputs": [
        {
          "output_type": "execute_result",
          "data": {
            "text/plain": [
              "(numpy.ndarray, numpy.ndarray)"
            ]
          },
          "metadata": {},
          "execution_count": 3
        }
      ]
    },
    {
      "cell_type": "markdown",
      "metadata": {
        "id": "AGpqc8KbmMou"
      },
      "source": [
        "Usual slicing by `:` also applies for `numpy` ndarray elements."
      ]
    },
    {
      "cell_type": "code",
      "metadata": {
        "id": "AYnpOwbYmMov",
        "outputId": "a0fd2332-4ad6-4ec5-b587-6d92d7de1970",
        "colab": {
          "base_uri": "https://localhost:8080/"
        }
      },
      "source": [
        "print(a[0])     # accessing an element in a 1d array\n",
        "print(a[1:])    # accessing elements in a 1d array\n",
        "print(b[1,1])   # accessing an element in a 2d array\n",
        "print(b[:,::2])  # accessing elements in a 2d array"
      ],
      "execution_count": null,
      "outputs": [
        {
          "output_type": "stream",
          "name": "stdout",
          "text": [
            "1\n",
            "[2 3]\n",
            "8\n",
            "[[4 6]\n",
            " [7 9]]\n"
          ]
        }
      ]
    },
    {
      "cell_type": "markdown",
      "metadata": {
        "id": "9DYJeMJXmMoy"
      },
      "source": [
        "You can also change its elements."
      ]
    },
    {
      "cell_type": "code",
      "metadata": {
        "id": "xkweEfnUmMoy",
        "outputId": "978f006d-aaf9-4558-fc3b-70c8f4059552",
        "colab": {
          "base_uri": "https://localhost:8080/"
        }
      },
      "source": [
        "b[1,1] = -8\n",
        "print(b)"
      ],
      "execution_count": null,
      "outputs": [
        {
          "output_type": "stream",
          "name": "stdout",
          "text": [
            "[[ 4  5  6]\n",
            " [ 7 -8  9]]\n"
          ]
        }
      ]
    },
    {
      "cell_type": "markdown",
      "metadata": {
        "id": "Ct_PNY9emMo1"
      },
      "source": [
        "Be careful. The following three are all different, though they contain the same numbers. Using 1d arrays for defining vectors, for example $x\\in\\mathbb{R}^n$, is desirable."
      ]
    },
    {
      "cell_type": "code",
      "metadata": {
        "id": "kTMSLnKtmMo1"
      },
      "source": [
        "a_1 = np.array([1, 2, 3])              # this creates a 1d array\n",
        "a_2 = np.array([[1, 2, 3]])            # this creates a 2d array, which is different from the above\n",
        "a_3 = np.array([[1], [2], [3]])        # this creates a 2d array, which is different from the above"
      ],
      "execution_count": null,
      "outputs": []
    },
    {
      "cell_type": "code",
      "metadata": {
        "id": "31UjNEaYmMo3",
        "outputId": "98cb188c-810c-4ba6-b89b-9a072ba7d5e2",
        "colab": {
          "base_uri": "https://localhost:8080/"
        }
      },
      "source": [
        "print(a_1)\n",
        "print(a_2)\n",
        "print(a_3)"
      ],
      "execution_count": null,
      "outputs": [
        {
          "output_type": "stream",
          "name": "stdout",
          "text": [
            "[1 2 3]\n",
            "[[1 2 3]]\n",
            "[[1]\n",
            " [2]\n",
            " [3]]\n"
          ]
        }
      ]
    },
    {
      "cell_type": "code",
      "metadata": {
        "id": "rZw-ZH_cmMo4",
        "outputId": "f7924986-b221-4882-d042-28c8765a2c2f",
        "colab": {
          "base_uri": "https://localhost:8080/"
        }
      },
      "source": [
        "print(a_1.shape)\n",
        "print(a_2.shape)\n",
        "print(a_3.shape)"
      ],
      "execution_count": null,
      "outputs": [
        {
          "output_type": "stream",
          "name": "stdout",
          "text": [
            "(3,)\n",
            "(1, 3)\n",
            "(3, 1)\n"
          ]
        }
      ]
    },
    {
      "cell_type": "markdown",
      "metadata": {
        "id": "Iunn3rT_mMo6"
      },
      "source": [
        "Numpy module also provides many functions to create arrays."
      ]
    },
    {
      "cell_type": "code",
      "metadata": {
        "id": "9k2n7vmimMo7",
        "outputId": "7cedafad-5943-4b14-ef47-e9e5d31c1fd6",
        "colab": {
          "base_uri": "https://localhost:8080/"
        }
      },
      "source": [
        "a = np.ones(5)       # this creates a 1d array with all ones\n",
        "print(a)\n",
        "print(a.shape)"
      ],
      "execution_count": null,
      "outputs": [
        {
          "output_type": "stream",
          "name": "stdout",
          "text": [
            "[1. 1. 1. 1. 1.]\n",
            "(5,)\n"
          ]
        }
      ]
    },
    {
      "cell_type": "code",
      "metadata": {
        "id": "2MecueCvmMo9",
        "outputId": "4794347d-8809-4087-91b9-98d217145eca",
        "colab": {
          "base_uri": "https://localhost:8080/"
        }
      },
      "source": [
        "b = np.ones((5,3))    # this creates a 2d array with all ones\n",
        "print(b)\n",
        "print(b.shape)"
      ],
      "execution_count": null,
      "outputs": [
        {
          "output_type": "stream",
          "name": "stdout",
          "text": [
            "[[1. 1. 1.]\n",
            " [1. 1. 1.]\n",
            " [1. 1. 1.]\n",
            " [1. 1. 1.]\n",
            " [1. 1. 1.]]\n",
            "(5, 3)\n"
          ]
        }
      ]
    },
    {
      "cell_type": "code",
      "metadata": {
        "id": "yVrp_L-2mMo-",
        "outputId": "410cf62c-2b7a-4c39-9ebf-9a11a28f81b8",
        "colab": {
          "base_uri": "https://localhost:8080/"
        }
      },
      "source": [
        "np.zeros((3,2))   # this creates a 2d array with all zeros"
      ],
      "execution_count": null,
      "outputs": [
        {
          "output_type": "execute_result",
          "data": {
            "text/plain": [
              "array([[0., 0.],\n",
              "       [0., 0.],\n",
              "       [0., 0.]])"
            ]
          },
          "metadata": {},
          "execution_count": 11
        }
      ]
    },
    {
      "cell_type": "code",
      "metadata": {
        "id": "o_EfvKRFmMpA",
        "outputId": "76a9e405-8bf0-4071-cdfd-2cb6d7f9ceeb",
        "colab": {
          "base_uri": "https://localhost:8080/"
        }
      },
      "source": [
        "np.eye(4)         # this creates a 4x4 identity matrix"
      ],
      "execution_count": null,
      "outputs": [
        {
          "output_type": "execute_result",
          "data": {
            "text/plain": [
              "array([[1., 0., 0., 0.],\n",
              "       [0., 1., 0., 0.],\n",
              "       [0., 0., 1., 0.],\n",
              "       [0., 0., 0., 1.]])"
            ]
          },
          "metadata": {},
          "execution_count": 12
        }
      ]
    },
    {
      "cell_type": "markdown",
      "metadata": {
        "id": "3H2pq21kmMpC"
      },
      "source": [
        "When creating arrays, you can specify data types."
      ]
    },
    {
      "cell_type": "code",
      "metadata": {
        "id": "vDQw7LZcmMpC",
        "outputId": "067724b3-cf60-4ea4-be96-c083c2cab695",
        "colab": {
          "base_uri": "https://localhost:8080/"
        }
      },
      "source": [
        "np.eye(4, dtype=int)   # this creates an integer identity matrix"
      ],
      "execution_count": null,
      "outputs": [
        {
          "output_type": "execute_result",
          "data": {
            "text/plain": [
              "array([[1, 0, 0, 0],\n",
              "       [0, 1, 0, 0],\n",
              "       [0, 0, 1, 0],\n",
              "       [0, 0, 0, 1]])"
            ]
          },
          "metadata": {},
          "execution_count": 13
        }
      ]
    },
    {
      "cell_type": "markdown",
      "metadata": {
        "id": "GWO2jhRqmMpE"
      },
      "source": [
        "Matrix transpose."
      ]
    },
    {
      "cell_type": "code",
      "metadata": {
        "id": "WUT2mx-gmMpE",
        "outputId": "3a39869e-f97f-4964-e565-1536ad587c0b",
        "colab": {
          "base_uri": "https://localhost:8080/"
        }
      },
      "source": [
        "x = np.random.randn(4,2)\n",
        "print (x)\n",
        "print (x.T)"
      ],
      "execution_count": null,
      "outputs": [
        {
          "output_type": "stream",
          "name": "stdout",
          "text": [
            "[[-1.36184302  1.47140008]\n",
            " [-0.30969926  1.64302166]\n",
            " [ 0.76424765 -0.29306326]\n",
            " [ 0.23602831 -0.36898313]]\n",
            "[[-1.36184302 -0.30969926  0.76424765  0.23602831]\n",
            " [ 1.47140008  1.64302166 -0.29306326 -0.36898313]]\n"
          ]
        }
      ]
    },
    {
      "cell_type": "markdown",
      "metadata": {
        "id": "rXnl5gCXmMpG"
      },
      "source": [
        "### Random sampling (`numpy.random`)"
      ]
    },
    {
      "cell_type": "markdown",
      "metadata": {
        "id": "ewhyJvQkmMpH"
      },
      "source": [
        "Arrays can be filled with random variables.\n",
        "\n",
        "Specifying the seed is optional; it can be called for repeatibility in your results."
      ]
    },
    {
      "cell_type": "code",
      "metadata": {
        "id": "F1wff1pemMpH"
      },
      "source": [
        "np.random.seed(0)"
      ],
      "execution_count": null,
      "outputs": []
    },
    {
      "cell_type": "code",
      "metadata": {
        "id": "rOY1E3Pqb_xI",
        "outputId": "d56350dc-bc3a-482f-dc86-9ca1cc499fea",
        "colab": {
          "base_uri": "https://localhost:8080/"
        }
      },
      "source": [
        "np.random.rand(1,2)"
      ],
      "execution_count": null,
      "outputs": [
        {
          "output_type": "execute_result",
          "data": {
            "text/plain": [
              "array([[0.5488135 , 0.71518937]])"
            ]
          },
          "metadata": {},
          "execution_count": 16
        }
      ]
    },
    {
      "cell_type": "markdown",
      "metadata": {
        "id": "d4y-ypjomMpI"
      },
      "source": [
        "The following creates a random 1d array filled with uniform random samples from [0,1)."
      ]
    },
    {
      "cell_type": "code",
      "metadata": {
        "id": "2JKOD68gmMpI",
        "outputId": "3797ec84-7463-4d8a-b618-f0a1cac366f8",
        "colab": {
          "base_uri": "https://localhost:8080/"
        }
      },
      "source": [
        "np.random.rand(5)"
      ],
      "execution_count": null,
      "outputs": [
        {
          "output_type": "execute_result",
          "data": {
            "text/plain": [
              "array([0.60276338, 0.54488318, 0.4236548 , 0.64589411, 0.43758721])"
            ]
          },
          "metadata": {},
          "execution_count": 17
        }
      ]
    },
    {
      "cell_type": "markdown",
      "metadata": {
        "id": "DY4Qn2HdmMpK"
      },
      "source": [
        "or the following creates a $5\\times 4$ 2d array filled with random samples from standard normal distribution."
      ]
    },
    {
      "cell_type": "code",
      "metadata": {
        "id": "HUtts5JLmMpL",
        "outputId": "479136b7-443a-4419-a214-3ab7efe2a399",
        "colab": {
          "base_uri": "https://localhost:8080/"
        }
      },
      "source": [
        "np.random.randn(5,4)"
      ],
      "execution_count": null,
      "outputs": [
        {
          "output_type": "execute_result",
          "data": {
            "text/plain": [
              "array([[ 1.26611853, -0.50587654,  2.54520078,  1.08081191],\n",
              "       [ 0.48431215,  0.57914048, -0.18158257,  1.41020463],\n",
              "       [-0.37447169,  0.27519832, -0.96075461,  0.37692697],\n",
              "       [ 0.03343893,  0.68056724, -1.56349669, -0.56669762],\n",
              "       [-0.24214951,  1.51439128, -0.3330574 ,  0.04736482]])"
            ]
          },
          "metadata": {},
          "execution_count": 18
        }
      ]
    },
    {
      "cell_type": "markdown",
      "metadata": {
        "id": "n1iGDRPNmMpN"
      },
      "source": [
        "You can check for yourself if you don't believe me."
      ]
    },
    {
      "cell_type": "code",
      "metadata": {
        "id": "476YyKEAmMpO",
        "outputId": "3bdfebc0-09bc-4895-8c11-2ab99a946079",
        "colab": {
          "base_uri": "https://localhost:8080/"
        }
      },
      "source": [
        "A = np.random.randn(1000000)  # generates a million random samples from standard normal distribution\n",
        "print(np.mean(A))             # computes mean of A\n",
        "print(np.std(A))              # computes standard deviation of A"
      ],
      "execution_count": null,
      "outputs": [
        {
          "output_type": "stream",
          "name": "stdout",
          "text": [
            "0.001303836981544996\n",
            "1.0001491820084765\n"
          ]
        }
      ]
    },
    {
      "cell_type": "markdown",
      "metadata": {
        "id": "pIbIH1iTmMpQ"
      },
      "source": [
        "Below looks a bit more complicated, but still pretty intuitive."
      ]
    },
    {
      "cell_type": "code",
      "metadata": {
        "id": "oXqCAa0nmMpQ",
        "outputId": "4274d81a-90ac-4ff9-aed5-6aa7b5fea76e",
        "colab": {
          "base_uri": "https://localhost:8080/"
        }
      },
      "source": [
        "np.random.randint(12, size=(10,2))  # generate 10 random nonnegative integers less than 12"
      ],
      "execution_count": null,
      "outputs": [
        {
          "output_type": "execute_result",
          "data": {
            "text/plain": [
              "array([[ 6,  4],\n",
              "       [10,  6],\n",
              "       [ 1, 11],\n",
              "       [ 8, 10],\n",
              "       [ 3,  1],\n",
              "       [ 8,  1],\n",
              "       [ 1, 11],\n",
              "       [ 7, 11],\n",
              "       [ 2,  7],\n",
              "       [11,  6]])"
            ]
          },
          "metadata": {},
          "execution_count": 20
        }
      ]
    },
    {
      "cell_type": "markdown",
      "metadata": {
        "id": "4GT9aKvEmMpR"
      },
      "source": [
        "This too."
      ]
    },
    {
      "cell_type": "code",
      "metadata": {
        "id": "Fyxq41vsmMpS",
        "outputId": "1f85ee6b-a271-4592-a25a-73acf4eccb2a",
        "colab": {
          "base_uri": "https://localhost:8080/"
        }
      },
      "source": [
        "np.random.randint(12, size=(4,6))"
      ],
      "execution_count": null,
      "outputs": [
        {
          "output_type": "execute_result",
          "data": {
            "text/plain": [
              "array([[ 8, 10,  7,  3,  3,  1],\n",
              "       [ 2,  0,  8,  8,  4,  9],\n",
              "       [11,  0, 11,  6,  0,  1],\n",
              "       [ 4,  7,  5, 11,  3, 10]])"
            ]
          },
          "metadata": {},
          "execution_count": 21
        }
      ]
    },
    {
      "cell_type": "markdown",
      "metadata": {
        "id": "2Aqk4zTamMpT"
      },
      "source": [
        "### Linear algebra (`numpy.linalg`)"
      ]
    },
    {
      "cell_type": "markdown",
      "metadata": {
        "id": "-jdJxM6FmMpT"
      },
      "source": [
        "A variety of linear algebra functions are provided in `numpy.linalg` submodule.\n",
        "\n",
        "The following computes the dot product of the two vectors in $a,b\\in\\mathbb{R}^{100}$, for example, $c=a^Tb$."
      ]
    },
    {
      "cell_type": "code",
      "metadata": {
        "id": "ewm-GRWsmMpU",
        "outputId": "4771336f-16b0-439d-d26c-152914201d92",
        "colab": {
          "base_uri": "https://localhost:8080/"
        }
      },
      "source": [
        "a = np.random.randn(100)\n",
        "b = np.random.randn(100)\n",
        "c = np.dot(a,b)\n",
        "print(f'a: {a}')\n",
        "print(f'b: {b}')\n",
        "print(f'c: {c}')"
      ],
      "execution_count": null,
      "outputs": [
        {
          "output_type": "stream",
          "name": "stdout",
          "text": [
            "a: [-1.9009238   0.28935549 -1.28437573  0.17780921 -1.92589813  0.43802726\n",
            "  0.37781957 -0.08647453 -1.06238588  0.46165237  1.296416    1.84641107\n",
            "  0.67483867  0.41427821  1.96942914 -0.83681911 -1.63608965  2.42771526\n",
            "  1.99936621  2.34797529 -0.5755259  -0.16876416  1.83576466 -0.16462552\n",
            " -0.52701926  0.87596903  1.68727136 -0.9951795   1.00509845 -1.33275259\n",
            "  0.77301917 -0.64882116 -0.02091705 -1.71040392 -1.54878897  0.64700171\n",
            " -0.33910418 -1.03807702  1.51193532 -0.11534194  0.54318385  1.40493927\n",
            "  0.01721471 -1.31887513 -0.27496354  0.61146012  0.01442526 -1.88102142\n",
            " -0.0270724  -0.34359156  0.68952659 -0.8445424  -0.48438966  0.63409559\n",
            " -0.31550132 -0.12581501  1.30986638 -1.95836066 -1.70325382 -0.51544332\n",
            "  0.35293091 -0.1427622   0.18339413  0.34349156  0.22517099 -1.5019687\n",
            " -0.85900378 -0.5454091  -0.1810538  -0.38693739  1.02462647  0.19025948\n",
            "  0.78362134  2.97775511  0.58458589  0.77620586 -0.17438896  0.27328699\n",
            " -1.79178769 -1.59928359  1.14611776  0.75215148 -1.96045463 -0.55303336\n",
            "  1.5051253   0.0406573  -0.48492032  1.07164754 -1.05458335  0.90964077\n",
            " -2.67170598 -1.19189517 -1.94452581 -0.77592691 -1.53618178 -0.09778313\n",
            " -0.2652586   1.6973941   1.83324467 -0.54164549]\n",
            "b: [ 1.8365915   0.17627841 -0.85977547 -0.82963771 -0.02134992  0.1659182\n",
            "  0.85760683 -1.01746145  0.18170317 -1.99180384  0.67804282 -0.61247192\n",
            " -1.54066382  0.47028491  0.96914251 -0.2595392  -0.41291905 -0.0072431\n",
            " -0.85847594  1.19571615 -1.31360737  0.46777281  0.91882365  0.60731274\n",
            "  1.37837684 -0.14308472  0.45472133  0.23403994 -3.12368094 -1.61458509\n",
            "  0.27701666  0.90695153 -0.64504311  0.89463209  0.70092891  0.00517023\n",
            " -0.36834985 -0.22692995  0.28904216 -1.63460217  0.86267484 -0.75342835\n",
            "  1.2355697  -0.53850669  0.06830749  2.06096587 -1.16481003  0.55673546\n",
            "  0.59021362 -0.32343365 -0.49632719 -1.1366272  -0.45412708  0.89353374\n",
            "  0.20700112 -0.1389855   1.29390811  0.35338032  0.67559277 -0.71832563\n",
            " -0.50777414 -0.10777544  0.60455513  1.06482939 -0.02313094 -0.15772943\n",
            " -0.36773971  0.24611642 -0.94591027 -0.40794174  2.5521659   0.4456354\n",
            " -0.95778694 -1.39748622 -0.79821171  0.76147543  0.82631412 -0.82814167\n",
            "  1.48352868 -1.5716616  -0.72630572  0.1590967   1.10017665 -0.21762467\n",
            "  0.52991978  1.26717238  0.01467085  1.20580692 -0.98941763  0.89692896\n",
            " -0.86599882  0.55796482  0.02122712  0.87294012  0.31450078  0.47340551\n",
            "  1.44545047 -0.16223358 -0.86079762 -0.08157982]\n",
            "c: -1.42294678374963\n"
          ]
        }
      ]
    },
    {
      "cell_type": "markdown",
      "metadata": {
        "id": "2hsiA1rRmMpV"
      },
      "source": [
        "If $A$ and $B$ were matrices, it means the matrix multiplication. In the example below, $A\\in\\mathbb{R}^{100\\times 50}$, $B\\in\\mathbb{R}^{50\\times 20}$, and $C = AB \\in\\mathbb{R}^{100\\times 20}$."
      ]
    },
    {
      "cell_type": "code",
      "metadata": {
        "id": "SU5-kchpmMpV",
        "outputId": "8df7b29f-139d-4aff-c483-49172c305996",
        "colab": {
          "base_uri": "https://localhost:8080/"
        }
      },
      "source": [
        "A = np.random.randn(100,50)\n",
        "B = np.random.randn(50,20)\n",
        "C = np.dot(A,B)\n",
        "print(C.shape)"
      ],
      "execution_count": null,
      "outputs": [
        {
          "output_type": "stream",
          "name": "stdout",
          "text": [
            "(100, 20)\n"
          ]
        }
      ]
    },
    {
      "cell_type": "markdown",
      "metadata": {
        "id": "LbQ8X5ejmMpX"
      },
      "source": [
        "Matrix multiplication can be done by `@` operator, from Python 3."
      ]
    },
    {
      "cell_type": "code",
      "metadata": {
        "id": "arhBFnSTmMpX",
        "outputId": "9bb8647f-18e2-4416-f154-7e4e1b67f43e",
        "colab": {
          "base_uri": "https://localhost:8080/"
        }
      },
      "source": [
        "C2 = A@B\n",
        "print(np.max(abs(C-C2)))   # check if C and C2 are equal"
      ],
      "execution_count": null,
      "outputs": [
        {
          "output_type": "stream",
          "name": "stdout",
          "text": [
            "0.0\n"
          ]
        }
      ]
    },
    {
      "cell_type": "markdown",
      "metadata": {
        "id": "QPDJQmP-mMpZ"
      },
      "source": [
        "Or if the second one is a vector, it also makes sense.\n",
        "Say, $A\\in\\mathbb{R}^{100\\times 50}$, $b\\in\\mathbb{R}^{50}$, and $C = Ab \\in\\mathbb{R}^{100}$."
      ]
    },
    {
      "cell_type": "code",
      "metadata": {
        "id": "xgSXoil5mMpZ",
        "outputId": "1dd09294-7d5b-46b7-fbdf-db07492da4df",
        "colab": {
          "base_uri": "https://localhost:8080/"
        }
      },
      "source": [
        "A = np.random.randn(100,50)\n",
        "b = np.random.randn(50)\n",
        "C = np.dot(A,b)\n",
        "print(C.shape)"
      ],
      "execution_count": null,
      "outputs": [
        {
          "output_type": "stream",
          "name": "stdout",
          "text": [
            "(100,)\n"
          ]
        }
      ]
    },
    {
      "cell_type": "code",
      "metadata": {
        "id": "Iwi8ht10mMpa",
        "outputId": "5112a6dc-c002-4916-efea-a469e28d910c",
        "colab": {
          "base_uri": "https://localhost:8080/"
        }
      },
      "source": [
        "C2 = A@b\n",
        "print(np.max(abs(C-C2)))   # check if C and C2 are equal"
      ],
      "execution_count": null,
      "outputs": [
        {
          "output_type": "stream",
          "name": "stdout",
          "text": [
            "0.0\n"
          ]
        }
      ]
    },
    {
      "cell_type": "markdown",
      "metadata": {
        "id": "6cNP57bDmMpb"
      },
      "source": [
        "You might remember that there was an easier way to define the size of vectors (or matrices). The norms. The `numpy.linalg` submodule presents some member functions computing them.\n",
        "\n",
        "First of all, `numpy.linalg.norm(x)` without any other additional argument, it means the 2-norm of $x$,\n",
        "\n",
        "$$\n",
        "    \\|x\\|_2 = \\left( \\sum_i |x_i|^2 \\right)^{1/2}\n",
        "$$"
      ]
    },
    {
      "cell_type": "code",
      "metadata": {
        "id": "9wwujak9mMpb",
        "outputId": "1462254e-40fb-4b6e-ddf7-07c92ce09b61",
        "colab": {
          "base_uri": "https://localhost:8080/"
        }
      },
      "source": [
        "x = np.arange(-6,5,2)\n",
        "print(x)"
      ],
      "execution_count": null,
      "outputs": [
        {
          "output_type": "stream",
          "name": "stdout",
          "text": [
            "[-6 -4 -2  0  2  4]\n"
          ]
        }
      ]
    },
    {
      "cell_type": "code",
      "metadata": {
        "id": "NkKgVa9wmMpd",
        "outputId": "b0ed036f-bb7d-492f-b8c3-51303e3081f9",
        "colab": {
          "base_uri": "https://localhost:8080/"
        }
      },
      "source": [
        "np.linalg.norm(x)"
      ],
      "execution_count": null,
      "outputs": [
        {
          "output_type": "execute_result",
          "data": {
            "text/plain": [
              "8.717797887081348"
            ]
          },
          "metadata": {},
          "execution_count": 28
        }
      ]
    },
    {
      "cell_type": "markdown",
      "metadata": {
        "id": "YlWUxGPTmMpe"
      },
      "source": [
        "This is equal to"
      ]
    },
    {
      "cell_type": "code",
      "metadata": {
        "id": "4BlDZZPomMpe",
        "outputId": "2723e643-ca6e-42c0-e0a1-9955e714c945",
        "colab": {
          "base_uri": "https://localhost:8080/"
        }
      },
      "source": [
        "np.linalg.norm(x,2)"
      ],
      "execution_count": null,
      "outputs": [
        {
          "output_type": "execute_result",
          "data": {
            "text/plain": [
              "8.717797887081348"
            ]
          },
          "metadata": {},
          "execution_count": 29
        }
      ]
    },
    {
      "cell_type": "markdown",
      "metadata": {
        "id": "gSLZ1QL-mMpf"
      },
      "source": [
        "so the second argument explains which norm are you interested in.\n",
        "\n",
        "If you specify which, say `numpy.linalg.norm(x,1)`, this implies the 1-norm of $x$, which is given by\n",
        "\n",
        "$$\n",
        "    \\|x\\|_1 =  \\left( \\sum_i |x_i|^1 \\right)^{1/1} = \\sum_i |x_i|   \n",
        "$$"
      ]
    },
    {
      "cell_type": "code",
      "metadata": {
        "id": "iwX_cs4fmMpf",
        "outputId": "9acd8db4-ec0b-43f7-a98d-afc63b4a1bda",
        "colab": {
          "base_uri": "https://localhost:8080/"
        }
      },
      "source": [
        "np.linalg.norm(x,1)"
      ],
      "execution_count": null,
      "outputs": [
        {
          "output_type": "execute_result",
          "data": {
            "text/plain": [
              "18.0"
            ]
          },
          "metadata": {},
          "execution_count": 30
        }
      ]
    },
    {
      "cell_type": "markdown",
      "metadata": {
        "id": "-YYnt4j5mMph"
      },
      "source": [
        "which is nothing but"
      ]
    },
    {
      "cell_type": "code",
      "metadata": {
        "id": "xgH4wEZRmMph",
        "outputId": "b2517bb5-bbdc-49ec-b31a-4ea0c94b4d3f",
        "colab": {
          "base_uri": "https://localhost:8080/"
        }
      },
      "source": [
        "sum(abs(x))"
      ],
      "execution_count": null,
      "outputs": [
        {
          "output_type": "execute_result",
          "data": {
            "text/plain": [
              "18"
            ]
          },
          "metadata": {},
          "execution_count": 31
        }
      ]
    },
    {
      "cell_type": "markdown",
      "metadata": {
        "id": "v8wM2mA6mMpi"
      },
      "source": [
        "and `numpy.linalg.norm(x,np.inf)` stands for the infinity norm,\n",
        "\n",
        "$$\n",
        "    \\|x\\|_\\infty =  \\lim_{p\\rightarrow\\infty}\\left( \\sum_i |x_i|^p \\right)^{1/p} = \\max_i |x_i|   \n",
        "$$"
      ]
    },
    {
      "cell_type": "code",
      "metadata": {
        "id": "lzYS4h6MmMpi",
        "outputId": "d5fe3cf4-a9ea-44ca-e873-8a1642408e1a",
        "colab": {
          "base_uri": "https://localhost:8080/"
        }
      },
      "source": [
        "np.linalg.norm(x,np.inf)"
      ],
      "execution_count": null,
      "outputs": [
        {
          "output_type": "execute_result",
          "data": {
            "text/plain": [
              "6.0"
            ]
          },
          "metadata": {},
          "execution_count": 32
        }
      ]
    },
    {
      "cell_type": "markdown",
      "metadata": {
        "id": "2rusfSGGmMpj"
      },
      "source": [
        "which is equal to"
      ]
    },
    {
      "cell_type": "code",
      "metadata": {
        "id": "OJ01-YYYmMpk",
        "outputId": "1ae908ca-7c71-4488-f884-667bbd6e29ab",
        "colab": {
          "base_uri": "https://localhost:8080/"
        }
      },
      "source": [
        "np.max(abs(x))"
      ],
      "execution_count": null,
      "outputs": [
        {
          "output_type": "execute_result",
          "data": {
            "text/plain": [
              "6"
            ]
          },
          "metadata": {},
          "execution_count": 33
        }
      ]
    },
    {
      "cell_type": "markdown",
      "metadata": {
        "id": "or8KMjVAmMpl"
      },
      "source": [
        "Things get a tiny bit complicated if you are talking about the size of matrices.\n",
        "\n",
        "An easy-to-understand matrix norm is probably the _Frobenius_ norm defined by\n",
        "\n",
        "$$\n",
        "    \\|A\\|_F = \\left( \\sum_{i}\\sum_{j} |A_{ij}|^2 \\right)^{1/2}\n",
        "$$"
      ]
    },
    {
      "cell_type": "code",
      "metadata": {
        "id": "u8lMk7d9oCLy",
        "colab": {
          "base_uri": "https://localhost:8080/"
        },
        "outputId": "a78926ac-1cc6-4313-a61c-b9f4f06481ca"
      },
      "source": [
        "A = np.array([[1,2],[3,4]])\n",
        "norm_A_fro = np.linalg.norm(A,'fro')\n",
        "print(norm_A_fro**2)"
      ],
      "execution_count": null,
      "outputs": [
        {
          "output_type": "stream",
          "name": "stdout",
          "text": [
            "30.0\n"
          ]
        }
      ]
    },
    {
      "cell_type": "markdown",
      "metadata": {
        "id": "zsU4smhinN-u"
      },
      "source": [
        "The 2-norm of a matrix $A$ is something more complicated; it is defined by\n",
        "\n",
        "$$\n",
        "    \\|A\\|_2 = \\sup_{\\|x\\|\\ne0}\\frac{\\|Ax\\|_2}{\\|x\\|_2} = \\sigma_1(A)\n",
        "$$\n",
        "\n",
        "where $\\sigma_1(A)$ stands for the largest singular value of $A$. This implies nothing but the maximum gain achievable from the linear mapping defined by $x \\mapsto Ax$."
      ]
    },
    {
      "cell_type": "code",
      "metadata": {
        "id": "YhbL9qSfmMpl",
        "outputId": "00f0b403-4e7f-4944-8480-8fd4ad2d76d9",
        "colab": {
          "base_uri": "https://localhost:8080/"
        }
      },
      "source": [
        "A = np.random.randn(10,5)\n",
        "np.linalg.norm(A,2)"
      ],
      "execution_count": null,
      "outputs": [
        {
          "output_type": "execute_result",
          "data": {
            "text/plain": [
              "4.492111518378933"
            ]
          },
          "metadata": {},
          "execution_count": 35
        }
      ]
    },
    {
      "cell_type": "markdown",
      "metadata": {
        "id": "Z5X8YOvwmMpm"
      },
      "source": [
        "The singular value decomposition of $A$ is such that\n",
        "$$\n",
        "    A = U\\Sigma V^T\n",
        "$$\n",
        "with orthogonal $U$, $V$, and diagonal $\\Sigma$. The diagonals of $\\Sigma$ are called the singular values, and the orthogonal columns of $U$ and $V$ are corresponding output and input singular vectors."
      ]
    },
    {
      "cell_type": "code",
      "metadata": {
        "id": "Qb8VbPPvmMpm",
        "outputId": "0b1653f2-a0b4-4315-c9fb-9b3e4079e110",
        "colab": {
          "base_uri": "https://localhost:8080/"
        }
      },
      "source": [
        "U, S, VT = np.linalg.svd(A, full_matrices=False)   # singular value decomposition of A\n",
        "print(S)                                           # print singular values of A\n",
        "print(np.linalg.norm(U@np.diag(S)@VT-A))           # check if A=U*S*VT"
      ],
      "execution_count": null,
      "outputs": [
        {
          "output_type": "stream",
          "name": "stdout",
          "text": [
            "[4.49211152 3.46800403 3.10044635 2.43457361 1.49252417]\n",
            "4.8580632841451e-15\n"
          ]
        }
      ]
    },
    {
      "cell_type": "markdown",
      "metadata": {
        "id": "9dVCyYLA0UsM"
      },
      "source": [
        "There are lots of different complicated norms which we won't talk about here. However one thing you will want to remember about the norms is that $\\|x\\|$ (any norm) being small implies that $x$ is small in some sense."
      ]
    },
    {
      "cell_type": "markdown",
      "metadata": {
        "id": "GSAo2As0mMpo"
      },
      "source": [
        "Most of you will be more familiar with eigenvalues than the singular values.\n",
        "The eigenvalues and the eigenvectors can be found by `numpy.linalg.eig()`\n",
        "\n"
      ]
    },
    {
      "cell_type": "code",
      "metadata": {
        "id": "JZqu95TQvbA_",
        "colab": {
          "base_uri": "https://localhost:8080/"
        },
        "outputId": "46358894-348c-4dbc-87bd-e8d48554d064"
      },
      "source": [
        "A = np.random.randn(3,3)\n",
        "D, Q = np.linalg.eig(A)   # eigenvalues and eigenvectors of A\n",
        "print(D)                  # eigenvalues of A\n",
        "print(Q)                  # eigenvectors of A"
      ],
      "execution_count": null,
      "outputs": [
        {
          "output_type": "stream",
          "name": "stdout",
          "text": [
            "[0.96313763+0.j         0.32569092+0.49397679j 0.32569092-0.49397679j]\n",
            "[[-0.97590063+0.j          0.66077361+0.j          0.66077361-0.j        ]\n",
            " [ 0.10413783+0.j          0.3245128 -0.16154894j  0.3245128 +0.16154894j]\n",
            " [ 0.19176359+0.j         -0.02675779+0.65670057j -0.02675779-0.65670057j]]\n"
          ]
        }
      ]
    },
    {
      "cell_type": "markdown",
      "metadata": {
        "id": "wSnL0T3XvKFC"
      },
      "source": [
        "When $A$ is symmetric, these results correspond to the eigenvalue-eigenvector decomposition satisfying\n",
        "\n",
        "$$\n",
        "A = QDQ^T\n",
        "$$\n"
      ]
    },
    {
      "cell_type": "code",
      "metadata": {
        "scrolled": true,
        "id": "HGJIca8smMpo",
        "outputId": "8bcffb21-d1d6-4718-96da-49aa14cbb9ff",
        "colab": {
          "base_uri": "https://localhost:8080/"
        }
      },
      "source": [
        "A = np.random.randn(10,10)\n",
        "A = A + A.T                               # make A symmteric\n",
        "D, Q = np.linalg.eig(A)                   # eigenvalues and eigenvectors of A\n",
        "print(D)                                  # print eigenvalues of A\n",
        "print(np.linalg.norm(Q@np.diag(D)@Q.T-A)) # check if A=Q*D*Q.T"
      ],
      "execution_count": null,
      "outputs": [
        {
          "output_type": "stream",
          "name": "stdout",
          "text": [
            "[-6.65809472  8.42846474 -3.87162692  5.82154576  4.93306479  3.54683678\n",
            "  2.30748122 -1.45080261 -0.78394975 -0.12886109]\n",
            "1.8149887723345015e-14\n"
          ]
        }
      ]
    },
    {
      "cell_type": "markdown",
      "metadata": {
        "id": "qM_S59pRmMpr"
      },
      "source": [
        "One feature you will most frequently be using from `numpy.linalg` is solving system of linear equations.\n",
        "\n",
        "Suppose you are given $Ax=y$, with $A\\in\\mathbb{R}^{n\\times n}$ and $y\\in\\mathbb{R}^n$ known, and you are to find $x\\in\\mathbb{R}^n$."
      ]
    },
    {
      "cell_type": "code",
      "metadata": {
        "id": "69gFmFOkmMpr"
      },
      "source": [
        "n = 1000;\n",
        "x = np.random.randn(n);\n",
        "A = np.random.randn(n,n)\n",
        "y = np.dot(A,x)\n",
        "x_hat = np.linalg.solve(A,y)"
      ],
      "execution_count": null,
      "outputs": []
    },
    {
      "cell_type": "markdown",
      "metadata": {
        "id": "uGESdxrCmMps"
      },
      "source": [
        "You can check that it's correct."
      ]
    },
    {
      "cell_type": "code",
      "metadata": {
        "id": "GJi7XtfvmMps",
        "outputId": "524a259a-3580-4a88-baf6-457c9eb133b4",
        "colab": {
          "base_uri": "https://localhost:8080/"
        }
      },
      "source": [
        "print(np.linalg.norm(x))\n",
        "print(np.linalg.norm(x_hat-x))"
      ],
      "execution_count": null,
      "outputs": [
        {
          "output_type": "stream",
          "name": "stdout",
          "text": [
            "31.908158783195507\n",
            "1.6375161047167425e-10\n"
          ]
        }
      ]
    },
    {
      "cell_type": "code",
      "metadata": {
        "id": "rOnAr7GHmMpt",
        "outputId": "fda38e53-98a0-48dc-caa0-f40037ec55be",
        "colab": {
          "base_uri": "https://localhost:8080/"
        }
      },
      "source": [
        "x[0:10]"
      ],
      "execution_count": null,
      "outputs": [
        {
          "output_type": "execute_result",
          "data": {
            "text/plain": [
              "array([-0.51305379,  1.13880826,  1.31896878, -0.60254182,  1.08339105,\n",
              "       -0.21921745, -1.4299178 , -0.97948736, -0.19321832,  2.65070217])"
            ]
          },
          "metadata": {},
          "execution_count": 41
        }
      ]
    },
    {
      "cell_type": "code",
      "metadata": {
        "id": "04eavxqSmMpv",
        "outputId": "28dab281-7577-4425-fd96-707e37383465",
        "colab": {
          "base_uri": "https://localhost:8080/"
        }
      },
      "source": [
        "x_hat[0:10]"
      ],
      "execution_count": null,
      "outputs": [
        {
          "output_type": "execute_result",
          "data": {
            "text/plain": [
              "array([-0.51305379,  1.13880826,  1.31896878, -0.60254182,  1.08339105,\n",
              "       -0.21921745, -1.4299178 , -0.97948736, -0.19321832,  2.65070217])"
            ]
          },
          "metadata": {},
          "execution_count": 42
        }
      ]
    },
    {
      "cell_type": "markdown",
      "metadata": {
        "id": "g0MmQZHdmMpw"
      },
      "source": [
        "### Broadcasting"
      ]
    },
    {
      "cell_type": "markdown",
      "metadata": {
        "id": "VQ8KQ0XhmMpw"
      },
      "source": [
        "Broadcasting is a powerful mechanism that allows `numpy` to work with arrays of different shapes when performing arithmetic operations. Frequently we have a smaller array and a larger array, and we want to use the smaller array multiple times to perform some operation on the larger array.\n",
        "\n",
        "For example, suppose that we want to add a constant vector to each row of a matrix. We could do it like this:"
      ]
    },
    {
      "cell_type": "code",
      "metadata": {
        "id": "eerGYPndmMpw",
        "outputId": "2f2446ae-664d-40d0-fcd0-566b78eec75c",
        "colab": {
          "base_uri": "https://localhost:8080/"
        }
      },
      "source": [
        "x = np.array([[1,2,3], [4,5,6], [7,8,9], [10, 11, 12]])\n",
        "v = np.random.randn(3)  # random noise\n",
        "y = np.zeros(x.shape)   # creates a zero matrix with the same shape as x\n",
        "\n",
        "print(f'v: {v}')\n",
        "\n",
        "for i in range(x.shape[0]):\n",
        "    y[i, :] = x[i, :] + v\n",
        "print(y)"
      ],
      "execution_count": null,
      "outputs": [
        {
          "output_type": "stream",
          "name": "stdout",
          "text": [
            "v: [ 1.35548733 -0.50326222 -0.51925648]\n",
            "[[ 2.35548733  1.49673778  2.48074352]\n",
            " [ 5.35548733  4.49673778  5.48074352]\n",
            " [ 8.35548733  7.49673778  8.48074352]\n",
            " [11.35548733 10.49673778 11.48074352]]\n"
          ]
        }
      ]
    },
    {
      "cell_type": "markdown",
      "metadata": {
        "id": "SDgrDJY3mMpy"
      },
      "source": [
        "This works; however when the matrix `x` is very large, computing an explicit loop in Python could be slow. Note that adding the vector `v` to each row of the matrix `x` is equivalent to forming a matrix `vv` by stacking multiple copies of `v` vertically, then performing elementwise summation of `x` and `vv`. We could implement this approach like this:"
      ]
    },
    {
      "cell_type": "code",
      "metadata": {
        "id": "xv0CoJhrmMpz",
        "outputId": "1ed72f99-6479-43a5-d190-e4a4d6ed7cf6",
        "colab": {
          "base_uri": "https://localhost:8080/"
        }
      },
      "source": [
        "vv = np.tile(v, (x.shape[0], 1))  # Stack 4 copies of v on top of each other\n",
        "y = x + vv\n",
        "print(y)"
      ],
      "execution_count": null,
      "outputs": [
        {
          "output_type": "stream",
          "name": "stdout",
          "text": [
            "[[ 2.35548733  1.49673778  2.48074352]\n",
            " [ 5.35548733  4.49673778  5.48074352]\n",
            " [ 8.35548733  7.49673778  8.48074352]\n",
            " [11.35548733 10.49673778 11.48074352]]\n"
          ]
        }
      ]
    },
    {
      "cell_type": "markdown",
      "metadata": {
        "id": "rxDemOOmmMp0"
      },
      "source": [
        "The same result can be obtained by further simplified statement."
      ]
    },
    {
      "cell_type": "code",
      "metadata": {
        "id": "kJWdL67RmMp0",
        "outputId": "5457da03-091a-46f2-8368-1c851206244f",
        "colab": {
          "base_uri": "https://localhost:8080/"
        }
      },
      "source": [
        "y = x + v\n",
        "print(y)"
      ],
      "execution_count": null,
      "outputs": [
        {
          "output_type": "stream",
          "name": "stdout",
          "text": [
            "[[ 2.35548733  1.49673778  2.48074352]\n",
            " [ 5.35548733  4.49673778  5.48074352]\n",
            " [ 8.35548733  7.49673778  8.48074352]\n",
            " [11.35548733 10.49673778 11.48074352]]\n"
          ]
        }
      ]
    },
    {
      "cell_type": "markdown",
      "metadata": {
        "id": "msMbKvvMmMp1"
      },
      "source": [
        "We will look at a couple more examples like this. Though they all look mathematically incorrect, they all work in python due to the broadcasting mechanism and will make your code more concise and faster."
      ]
    },
    {
      "cell_type": "code",
      "metadata": {
        "id": "C5ibhVbKmMp1",
        "outputId": "06024abb-70fd-47f2-a1c4-9afbb2d1e0fd",
        "colab": {
          "base_uri": "https://localhost:8080/"
        }
      },
      "source": [
        "# outer product\n",
        "v = np.array([1,2,3])  # v has shape (3,)\n",
        "w = np.array([4,5])    # w has shape (2,)\n",
        "x = v.reshape(3,1)*w\n",
        "print(x)"
      ],
      "execution_count": null,
      "outputs": [
        {
          "output_type": "stream",
          "name": "stdout",
          "text": [
            "[[ 4  5]\n",
            " [ 8 10]\n",
            " [12 15]]\n"
          ]
        }
      ]
    },
    {
      "cell_type": "code",
      "metadata": {
        "id": "PpJjsCMAmMp2",
        "outputId": "a293b0d1-d4a4-4e7b-cb50-7f3f7392d24d",
        "colab": {
          "base_uri": "https://localhost:8080/"
        }
      },
      "source": [
        "# adding a vector to each row of a matrix\n",
        "x = np.array([[1,2,3], [4,5,6]])\n",
        "print(x+v)"
      ],
      "execution_count": null,
      "outputs": [
        {
          "output_type": "stream",
          "name": "stdout",
          "text": [
            "[[2 4 6]\n",
            " [5 7 9]]\n"
          ]
        }
      ]
    },
    {
      "cell_type": "code",
      "metadata": {
        "id": "KU_dYetymMp3",
        "outputId": "7848552a-0769-4dd6-8eab-733c8e091e61",
        "colab": {
          "base_uri": "https://localhost:8080/"
        }
      },
      "source": [
        "# adding a vector to each column of a matrix\n",
        "print(x+w.reshape(2, 1))"
      ],
      "execution_count": null,
      "outputs": [
        {
          "output_type": "stream",
          "name": "stdout",
          "text": [
            "[[ 5  6  7]\n",
            " [ 9 10 11]]\n"
          ]
        }
      ]
    }
  ]
}