{
 "cells": [
  {
   "cell_type": "markdown",
   "id": "4f46c49c",
   "metadata": {
    "deletable": false,
    "editable": false,
    "nbgrader": {
     "cell_type": "markdown",
     "checksum": "f49c9ecd4e4419d54bb03f02cfa61d44",
     "grade": false,
     "grade_id": "cell-7e1ed028fd887dfd",
     "locked": true,
     "schema_version": 3,
     "solution": false,
     "task": false
    }
   },
   "source": [
    "# Exercise: Root Finding 2\n",
    "**강좌**: *Numerical Analysis*\n",
    "\n",
    "**Due**: 2024/10/8"
   ]
  },
  {
   "cell_type": "markdown",
   "id": "381e5f6a",
   "metadata": {
    "deletable": false,
    "editable": false,
    "nbgrader": {
     "cell_type": "markdown",
     "checksum": "0ee972418ee853e6fe4a859bc51fc2b5",
     "grade": false,
     "grade_id": "cell-f68fb90ec9f75fe1",
     "locked": true,
     "schema_version": 3,
     "solution": false,
     "task": false
    }
   },
   "source": [
    "## Problem #1\n",
    "Write a function to find a root using the Newton method with the following specifications:\n",
    "- Use a for loop with a specified maximum number of iterations.\n",
    "- Input parameters\n",
    "   * function *f*\n",
    "   * derivative *fp*\n",
    "   * intial guess: x0\n",
    "   * tolerance *tol*\n",
    "   * maximum iterations *iter_max*\n",
    "   * (Optional) Boolean verbose keyword to print intermediate results. The default is False.\n",
    "- Additionally, include a proper docstring to describe the function's behavior, parameters, and return values."
   ]
  },
  {
   "cell_type": "code",
   "execution_count": null,
   "id": "627f1ba4",
   "metadata": {
    "deletable": false,
    "nbgrader": {
     "cell_type": "code",
     "checksum": "8011efb42eefd86d1b1d3e23474f22ed",
     "grade": false,
     "grade_id": "cell-fe271d986d99dd1f",
     "locked": false,
     "schema_version": 3,
     "solution": true,
     "task": false
    }
   },
   "outputs": [],
   "source": [
    "# Write your answer\n",
    "def newton(f, fp, x0, tol=1e-6, iter_max=50):\n",
    "    # YOUR CODE HERE\n",
    "    raise NotImplementedError()"
   ]
  },
  {
   "cell_type": "code",
   "execution_count": null,
   "id": "1023b5fa-9c29-4d13-beb8-1150436797f3",
   "metadata": {
    "deletable": false,
    "editable": false,
    "nbgrader": {
     "cell_type": "code",
     "checksum": "474e1feb1ae7f81b6b54fcec9edff1ec",
     "grade": true,
     "grade_id": "cell-962d2cf9716a6461",
     "locked": true,
     "points": 5,
     "schema_version": 3,
     "solution": false,
     "task": false
    }
   },
   "outputs": [],
   "source": [
    "import numpy as np\n",
    "f = lambda x : x**2 + 10*np.sin(x)\n",
    "fp = lambda x: 2*x + 10*np.cos(x)\n",
    "\n",
    "assert abs(newton(f, fp, x0=-4) - (-2.47948)) < 5e-5\n",
    "assert abs(newton(f, fp, x0=-1) - (0.0)) < 1e-6\n",
    "assert abs(newton(f, fp, x0=0)- (0.0)) < 1e-6"
   ]
  },
  {
   "cell_type": "markdown",
   "id": "5ede5245",
   "metadata": {
    "deletable": false,
    "editable": false,
    "nbgrader": {
     "cell_type": "markdown",
     "checksum": "1c2113e4e67b92e98742a1fbe6b8bff1",
     "grade": false,
     "grade_id": "cell-cee5d5bcc4cb6723",
     "locked": true,
     "schema_version": 3,
     "solution": false,
     "task": false
    }
   },
   "source": [
    "## Problem #2\n",
    "Write a function to find a root using the Secant method with the following specifications:\n",
    "- Use a for loop with a specified maximum number of iterations.\n",
    "- Input parameters\n",
    "   * function *f*\n",
    "   * intial guesses: $x_0$, $x_{-1}$\n",
    "   * tolerance *tol*\n",
    "   * maximum iterations *iter_max*\n",
    "   * (Optional) Boolean verbose keyword to print intermediate results. The default is False.\n",
    "- Additionally, include a proper docstring to describe the function's behavior, parameters, and return values."
   ]
  },
  {
   "cell_type": "code",
   "execution_count": null,
   "id": "ab2cafec",
   "metadata": {
    "deletable": false,
    "nbgrader": {
     "cell_type": "code",
     "checksum": "86c50f13f844f913c94e165105154392",
     "grade": false,
     "grade_id": "cell-604cece7f9e1450f",
     "locked": false,
     "schema_version": 3,
     "solution": true,
     "task": false
    }
   },
   "outputs": [],
   "source": [
    "# Write your answer\n",
    "def secant(f, x0, x1, tol=1e-6, iter_max=50):\n",
    "    # YOUR CODE HERE\n",
    "    raise NotImplementedError()"
   ]
  },
  {
   "cell_type": "code",
   "execution_count": null,
   "id": "148884ab-3434-41a2-9574-fbf8ef485383",
   "metadata": {
    "deletable": false,
    "editable": false,
    "nbgrader": {
     "cell_type": "code",
     "checksum": "5fc89acb26ed708c9b1a5731c073b9f6",
     "grade": true,
     "grade_id": "cell-f84270eb85482c08",
     "locked": true,
     "points": 5,
     "schema_version": 3,
     "solution": false,
     "task": false
    }
   },
   "outputs": [],
   "source": [
    "f = lambda x : x**2 + 10*np.sin(x)\n",
    "\n",
    "assert abs(secant(f, x0=-4, x1=-5) - (-2.47948)) < 5e-5\n",
    "assert abs(secant(f, x0=-1, x1=-1.1) - (0.0)) < 1e-6\n",
    "assert abs(secant(f, x0=0, x1=-1)- (0.0)) < 1e-6"
   ]
  },
  {
   "cell_type": "markdown",
   "id": "e61dc867",
   "metadata": {
    "deletable": false,
    "editable": false,
    "nbgrader": {
     "cell_type": "markdown",
     "checksum": "4ba009c35e6fdd00b7dd32412d8716db",
     "grade": false,
     "grade_id": "cell-8be80bcd040bc00e",
     "locked": true,
     "schema_version": 3,
     "solution": false,
     "task": false
    }
   },
   "source": [
    "# Problem #3\n",
    "Determine the highest real root of\n",
    "\n",
    "$$\n",
    "f(x) = 2x^3 - 11.7x^2 + 17.7x - 5\n",
    "$$\n",
    "\n",
    "(a) Graphically.\n",
    "\n",
    "(b) Newton-Raphson method with $x_0 = 3$.\n",
    "\n",
    "(c) Secant method with $x_{-1}=3, x_0=4$."
   ]
  },
  {
   "cell_type": "code",
   "execution_count": null,
   "id": "8ef378c3",
   "metadata": {
    "deletable": false,
    "nbgrader": {
     "cell_type": "code",
     "checksum": "5605b7ef1b9e4b7458219452049ae2e5",
     "grade": true,
     "grade_id": "cell-f6c57147fce4c063",
     "locked": false,
     "points": 1,
     "schema_version": 3,
     "solution": true,
     "task": false
    }
   },
   "outputs": [],
   "source": [
    "# YOUR CODE HERE\n",
    "raise NotImplementedError()"
   ]
  },
  {
   "cell_type": "code",
   "execution_count": null,
   "id": "eacb3f96-41bc-41c1-a291-b82a07080814",
   "metadata": {
    "deletable": false,
    "nbgrader": {
     "cell_type": "code",
     "checksum": "f2fade6484ff79a7de728bbac60e91f9",
     "grade": false,
     "grade_id": "cell-57a9b7c6abe35785",
     "locked": false,
     "schema_version": 3,
     "solution": true,
     "task": false
    }
   },
   "outputs": [],
   "source": [
    "# Write your answers (b)\n",
    "# Save the result in ans_b\n",
    "\n",
    "# YOUR CODE HERE\n",
    "raise NotImplementedError()"
   ]
  },
  {
   "cell_type": "code",
   "execution_count": null,
   "id": "a557d5a2-a05d-4061-952a-dd026eb3a740",
   "metadata": {
    "deletable": false,
    "editable": false,
    "nbgrader": {
     "cell_type": "code",
     "checksum": "6ff5fc4a2604a6df3e6baa8adee2e974",
     "grade": true,
     "grade_id": "cell-5b6fd022369d37ae",
     "locked": true,
     "points": 2,
     "schema_version": 3,
     "solution": false,
     "task": false
    }
   },
   "outputs": [],
   "source": [
    "# Do not remove!!!"
   ]
  },
  {
   "cell_type": "code",
   "execution_count": null,
   "id": "5f095798-ca4b-4c74-9eff-ff0eb8b096a5",
   "metadata": {
    "deletable": false,
    "nbgrader": {
     "cell_type": "code",
     "checksum": "4e942d268f5423d0939d60e62f1084f6",
     "grade": false,
     "grade_id": "cell-ccc08edda3d585d2",
     "locked": false,
     "schema_version": 3,
     "solution": true,
     "task": false
    }
   },
   "outputs": [],
   "source": [
    "# Write your answers (c)\n",
    "# Save the result in ans_c\n",
    "\n",
    "# YOUR CODE HERE\n",
    "raise NotImplementedError()"
   ]
  },
  {
   "cell_type": "code",
   "execution_count": null,
   "id": "b5ccbc9a-4b58-4c5a-b7c4-9f3828ce6a9b",
   "metadata": {
    "deletable": false,
    "editable": false,
    "nbgrader": {
     "cell_type": "code",
     "checksum": "9b8b3963b233be9f55082bf045fb0010",
     "grade": true,
     "grade_id": "cell-01ff38e473ed2c83",
     "locked": true,
     "points": 2,
     "schema_version": 3,
     "solution": false,
     "task": false
    }
   },
   "outputs": [],
   "source": [
    "# Do not remove!!!"
   ]
  },
  {
   "cell_type": "markdown",
   "id": "b579a401",
   "metadata": {
    "deletable": false,
    "editable": false,
    "nbgrader": {
     "cell_type": "markdown",
     "checksum": "ffc787f4491eddb530a1df626d130537",
     "grade": false,
     "grade_id": "cell-74f8ce63076a76a4",
     "locked": true,
     "schema_version": 3,
     "solution": false,
     "task": false
    }
   },
   "source": [
    "## Problem #4\n",
    "Aerospace engineers sometimes compute the trajectories of projectiles like rockets. A related problem deals with the trajectory of a\n",
    "thrown ball. The trajectory of a ball is defi ned by the (x, y) coordinates. The trajectory can be modeled as\n",
    "$$\n",
    "y = \\tan(\\theta_0)x - \\frac{g}{2v_0^2\\cos^2\\theta_0} x^2+y_0\n",
    "$$\n",
    "Find the appropriate initial angle $\\theta_0$, if the initial velocity $v_0=20m/s$ and the disctance to the catcher $x$ is $40m$. Note that the ball leaves the thrower’s hand at an elevation of $y_0=1.8 m$ and and the catcher receives it at $1m$. Express the fi nal result in degrees. Use a value of $9.81m/s^2$ for $gG.\n",
    "\n",
    "(a) Graphically and determine the initial guess\n",
    "\n",
    "(b) Secant method"
   ]
  },
  {
   "cell_type": "code",
   "execution_count": null,
   "id": "06ee6150-39d8-4827-bbdc-14bfd46198ef",
   "metadata": {
    "deletable": false,
    "nbgrader": {
     "cell_type": "code",
     "checksum": "bc4220990bab4e9d6c6deadc1f02767d",
     "grade": true,
     "grade_id": "cell-9b7cadf3621cc1ce",
     "locked": false,
     "points": 2,
     "schema_version": 3,
     "solution": true,
     "task": false
    }
   },
   "outputs": [],
   "source": [
    "# YOUR CODE HERE\n",
    "raise NotImplementedError()"
   ]
  },
  {
   "cell_type": "code",
   "execution_count": null,
   "id": "48e6c6c0",
   "metadata": {
    "deletable": false,
    "nbgrader": {
     "cell_type": "code",
     "checksum": "e3cc45eaf71e4f49bf8583901aa0d0d4",
     "grade": false,
     "grade_id": "cell-7e4cca84c8892f74",
     "locked": false,
     "schema_version": 3,
     "solution": true,
     "task": false
    }
   },
   "outputs": [],
   "source": [
    "# Write your answers (b)\n",
    "# Save the result in ans_b\n",
    "\n",
    "# YOUR CODE HERE\n",
    "raise NotImplementedError()"
   ]
  },
  {
   "cell_type": "code",
   "execution_count": null,
   "id": "40ca2564-e2ee-412e-863d-70274652f47d",
   "metadata": {
    "deletable": false,
    "editable": false,
    "nbgrader": {
     "cell_type": "code",
     "checksum": "7202ec4243be3f614428c2abe3256c1f",
     "grade": true,
     "grade_id": "cell-19245e5c403472e1",
     "locked": true,
     "points": 3,
     "schema_version": 3,
     "solution": false,
     "task": false
    }
   },
   "outputs": [],
   "source": [
    "# Do not remove!!!"
   ]
  }
 ],
 "metadata": {
  "kernelspec": {
   "display_name": "Python 3 (ipykernel)",
   "language": "python",
   "name": "python3"
  },
  "language_info": {
   "codemirror_mode": {
    "name": "ipython",
    "version": 3
   },
   "file_extension": ".py",
   "mimetype": "text/x-python",
   "name": "python",
   "nbconvert_exporter": "python",
   "pygments_lexer": "ipython3",
   "version": "3.12.6"
  },
  "widgets": {
   "application/vnd.jupyter.widget-state+json": {
    "state": {},
    "version_major": 1,
    "version_minor": 0
   }
  }
 },
 "nbformat": 4,
 "nbformat_minor": 5
}
