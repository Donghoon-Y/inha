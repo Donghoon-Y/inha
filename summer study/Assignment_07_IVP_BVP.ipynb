{
 "cells": [
  {
   "cell_type": "markdown",
   "id": "ff736112",
   "metadata": {},
   "source": [
    "Before you turn this problem in, make sure everything runs as expected. First, **restart the kernel** (in the menubar, select Kernel $\\rightarrow$ Restart) and then **run all cells** (in the menubar, select Cell $\\rightarrow$ Run All).\n",
    "\n",
    "Make sure you fill in any place that says `YOUR CODE HERE` or \"YOUR ANSWER HERE\", as well as your name and collaborators below:"
   ]
  },
  {
   "cell_type": "code",
   "execution_count": null,
   "id": "3da54a9c",
   "metadata": {},
   "outputs": [],
   "source": [
    "NAME = \"\"\n",
    "COLLABORATORS = \"\""
   ]
  },
  {
   "cell_type": "markdown",
   "id": "c238d048",
   "metadata": {},
   "source": [
    "---"
   ]
  },
  {
   "cell_type": "code",
   "execution_count": null,
   "id": "7264d486",
   "metadata": {},
   "outputs": [],
   "source": [
    "%matplotlib inline\n",
    "from matplotlib import pyplot as plt\n",
    "\n",
    "import numpy as np\n",
    "\n",
    "plt.style.use('ggplot')\n",
    "plt.rcParams['figure.dpi'] = 150"
   ]
  },
  {
   "cell_type": "markdown",
   "id": "4f46c49c",
   "metadata": {
    "deletable": false,
    "editable": false,
    "nbgrader": {
     "cell_type": "markdown",
     "checksum": "a2552dbf87c914904ef4cd2df9877a96",
     "grade": false,
     "grade_id": "cell-7e1ed028fd887dfd",
     "locked": true,
     "schema_version": 3,
     "solution": false,
     "task": false
    }
   },
   "source": [
    "# Exercise: Initial Value Problem and Boundary Value Problem\n",
    "**강좌**: *Numerical Analysis*\n",
    "\n",
    "**Due**: 2024/12/19"
   ]
  },
  {
   "cell_type": "markdown",
   "id": "381e5f6a",
   "metadata": {
    "deletable": false,
    "editable": false,
    "nbgrader": {
     "cell_type": "markdown",
     "checksum": "2272319b1b2bab3240ca840cd8fc7200",
     "grade": false,
     "grade_id": "cell-f68fb90ec9f75fe1",
     "locked": true,
     "schema_version": 3,
     "solution": false,
     "task": false
    }
   },
   "source": [
    "## Problem 1  \n",
    "\n",
    "Write code to solve the initial value problem (for a scalar variable) using the following numerical methods:  \n",
    "\n",
    "1. Explicit Euler Method  \n",
    "2. Second-Order Runge-Kutta Method (Richardson)  \n",
    "3. Fourth-Order Runge-Kutta Method  \n",
    "\n",
    "Additionally, use the implemented methods to solve the **paratrooper problem** presented in the lecture notes.  \n",
    "\n",
    "### Requirements:  \n",
    "- Implement each method in Python as a separate function.  \n",
    "- Test your implementations on the paratrooper problem with the given initial conditions and parameters.  \n",
    "- Compare the numerical solutions by varying the time step ($h$) as follows:  \n",
    "  - $h = 0.5, 1.0, 2.0, 5.0, 10.0, 15.0$\n",
    "- Discuss how the choice of time step affects the accuracy and stability of the solutions.  "
   ]
  },
  {
   "cell_type": "code",
   "execution_count": null,
   "id": "627f1ba4",
   "metadata": {
    "deletable": false,
    "nbgrader": {
     "cell_type": "code",
     "checksum": "7013da337afc736271841eccd2947ccc",
     "grade": false,
     "grade_id": "cell-fe271d986d99dd1f",
     "locked": false,
     "schema_version": 3,
     "solution": true,
     "task": false
    }
   },
   "outputs": [],
   "source": [
    "# Write Explicit Euler\n",
    "def explicit_euler(f, tspan, y0, h):\n",
    "    \"\"\"\n",
    "    Explicit Euler Method\n",
    "    \n",
    "    Parameter\n",
    "    ---------\n",
    "    f : function\n",
    "        Derivative\n",
    "    tspan : tuple\n",
    "        Initial and final time ex) (ti, te)\n",
    "    y0 : float\n",
    "        Initial solution\n",
    "    h: float\n",
    "        Time step size\n",
    "        \n",
    "    Return\n",
    "    ------\n",
    "    t : array\n",
    "        Time series\n",
    "    y : array\n",
    "        solutions\n",
    "    \"\"\"\n",
    "    # YOUR CODE HERE\n",
    "\n",
    "    return t, y"
   ]
  },
  {
   "cell_type": "code",
   "execution_count": null,
   "id": "150e22e6-5c6c-452c-a905-36e9041f878c",
   "metadata": {
    "deletable": false,
    "nbgrader": {
     "cell_type": "code",
     "checksum": "7c63f1f11aabcef847cba7d736649f02",
     "grade": false,
     "grade_id": "cell-ffb7da9baaf80d92",
     "locked": false,
     "schema_version": 3,
     "solution": true,
     "task": false
    }
   },
   "outputs": [],
   "source": [
    "# Write 2nd-order Runge Kutta\n",
    "def runge_kutta2(f, tspan, y0, h):\n",
    "    \"\"\"\n",
    "    Explicit Euler Method\n",
    "    \n",
    "    Parameter\n",
    "    ---------\n",
    "    f : function\n",
    "        Derivative\n",
    "    tspan : tuple\n",
    "        Initial and final time ex) (ti, te)\n",
    "    y0 : float\n",
    "        Initial solution\n",
    "    h: float\n",
    "        Time step size\n",
    "        \n",
    "    Return\n",
    "    ------\n",
    "    t : array\n",
    "        Time series\n",
    "    y : array\n",
    "        solutions\n",
    "    \"\"\"\n",
    "    # YOUR CODE HERE\n",
    "\n",
    "    return t, y"
   ]
  },
  {
   "cell_type": "code",
   "execution_count": null,
   "id": "f0296cce",
   "metadata": {
    "deletable": false,
    "nbgrader": {
     "cell_type": "code",
     "checksum": "c7bb2557dccf88a67a884768cebdcd57",
     "grade": false,
     "grade_id": "cell-3a1cc593f678b4ce",
     "locked": false,
     "schema_version": 3,
     "solution": true,
     "task": false
    }
   },
   "outputs": [],
   "source": [
    "# Write 4th-order Runge Kutta\n",
    "def runge_kutta4(f, tspan, y0, h):\n",
    "    \"\"\"\n",
    "    Explicit Euler Method\n",
    "    \n",
    "    Parameter\n",
    "    ---------\n",
    "    f : function\n",
    "        Derivative\n",
    "    tspan : tuple\n",
    "        Initial and final time ex) (ti, te)\n",
    "    y0 : float\n",
    "        Initial solution\n",
    "    h: float\n",
    "        Time step size\n",
    "        \n",
    "    Return\n",
    "    ------\n",
    "    t : array\n",
    "        Time series\n",
    "    y : array\n",
    "        solutions\n",
    "    \"\"\"\n",
    "    # YOUR CODE HERE\n",
    "\n",
    "    return t, y"
   ]
  },
  {
   "cell_type": "code",
   "execution_count": null,
   "id": "1023b5fa-9c29-4d13-beb8-1150436797f3",
   "metadata": {},
   "outputs": [],
   "source": [
    "import numpy as np\n",
    "\n",
    "# Paratrooper problem\n",
    "m, c, g = 68.1, 12.5, 9.81\n",
    "\n",
    "# function\n",
    "def f(t, v):\n",
    "    return g - c/m*v\n",
    "\n",
    "# Time step\n",
    "h = 2.0\n",
    "eet, eey = explicit_euler(f, (0, 50), 0, h)\n",
    "r2t, r2y = runge_kutta2(f, (0, 50), 0, h)\n",
    "r4t, r4y = runge_kutta4(f, (0, 50), 0, h)\n",
    "\n",
    "# Verification\n",
    "# Plot exact solution and numerical solution\n",
    "\n"
   ]
  },
  {
   "cell_type": "code",
   "execution_count": null,
   "id": "6a9b80de",
   "metadata": {
    "deletable": false,
    "editable": false,
    "nbgrader": {
     "cell_type": "code",
     "checksum": "59deea845122678e9ee5f98d49b001b1",
     "grade": true,
     "grade_id": "cell-2da89e50fbcfa95b",
     "locked": true,
     "points": 5,
     "schema_version": 3,
     "solution": false,
     "task": false
    }
   },
   "outputs": [],
   "source": [
    "# Check your solution\n",
    "assert r4y[25] - 53.439347 < 1e-6"
   ]
  },
  {
   "cell_type": "markdown",
   "id": "5ede5245",
   "metadata": {
    "deletable": false,
    "editable": false,
    "nbgrader": {
     "cell_type": "markdown",
     "checksum": "fce5978f4133c03573afda4defa2cabf",
     "grade": false,
     "grade_id": "cell-cee5d5bcc4cb6723",
     "locked": true,
     "schema_version": 3,
     "solution": false,
     "task": false
    }
   },
   "source": [
    "## Problem 2  \n",
    "\n",
    "Write code to solve the initial value problem (for a vector variable) using the following numerical methods:  \n",
    "\n",
    "1. Explicit Euler Method  \n",
    "2. Second-Order Runge-Kutta Method (Richardson)  \n",
    "3. Fourth-Order Runge-Kutta Method  \n",
    "\n",
    "Use the implemented methods to solve the **spring-mass problem** described in the lecture notes.  \n",
    "\n",
    "### Requirements:  \n",
    "- Implement each method in Python as a separate function to handle vector-valued problems.  \n",
    "- Apply the methods to solve the spring-mass problem with the given initial conditions and parameters. \n",
    "- Compare the numerical solutions by varying the time step ($h$) as follows:  \n",
    "  - $h = 0.01, 0.05, 0.1, 0.2$\n",
    "- Compare the results for the different methods, analyzing accuracy and stability.  "
   ]
  },
  {
   "cell_type": "code",
   "execution_count": null,
   "id": "e7333262-0c30-44e4-9c3e-76eddce4130b",
   "metadata": {
    "deletable": false,
    "nbgrader": {
     "cell_type": "code",
     "checksum": "f491a6fb2da2564acffdbfee8d320a9d",
     "grade": false,
     "grade_id": "cell-bce534231aa2aea3",
     "locked": false,
     "schema_version": 3,
     "solution": true,
     "task": false
    }
   },
   "outputs": [],
   "source": [
    "# Write Explicit Euler (for vector y)\n",
    "def explicit_euler(f, tspan, y0, h):\n",
    "    \"\"\"\n",
    "    Explicit Euler Method\n",
    "    \n",
    "    Parameter\n",
    "    ---------\n",
    "    f : function\n",
    "        Derivative\n",
    "    tspan : tuple\n",
    "        Initial and final time ex) (ti, te)\n",
    "    y0 : float\n",
    "        Initial solution\n",
    "    h: float\n",
    "        Time step size\n",
    "        \n",
    "    Return\n",
    "    ------\n",
    "    t : array\n",
    "        Time series\n",
    "    y : array\n",
    "        solutions\n",
    "    \"\"\"\n",
    "    # YOUR CODE HERE\n",
    "\n",
    "    return t, y"
   ]
  },
  {
   "cell_type": "code",
   "execution_count": null,
   "id": "9aaf46ad",
   "metadata": {
    "deletable": false,
    "nbgrader": {
     "cell_type": "code",
     "checksum": "fdfc2808b4399ad2cfd5a256d940b130",
     "grade": false,
     "grade_id": "cell-788bf67c14c058a7",
     "locked": false,
     "schema_version": 3,
     "solution": true,
     "task": false
    }
   },
   "outputs": [],
   "source": [
    "# Write 2nd-order Runge Kutta (for vector y)\n",
    "def runge_kutta2(f, tspan, y0, h):\n",
    "    \"\"\"\n",
    "    Explicit Euler Method\n",
    "    \n",
    "    Parameter\n",
    "    ---------\n",
    "    f : function\n",
    "        Derivative\n",
    "    tspan : tuple\n",
    "        Initial and final time ex) (ti, te)\n",
    "    y0 : float\n",
    "        Initial solution\n",
    "    h: float\n",
    "        Time step size\n",
    "        \n",
    "    Return\n",
    "    ------\n",
    "    t : array\n",
    "        Time series\n",
    "    y : array\n",
    "        solutions\n",
    "    \"\"\"\n",
    "    # YOUR CODE HERE\n",
    "\n",
    "    return t, y"
   ]
  },
  {
   "cell_type": "code",
   "execution_count": null,
   "id": "d2860fc0",
   "metadata": {
    "deletable": false,
    "nbgrader": {
     "cell_type": "code",
     "checksum": "079f52a78fd9772922261885184edee5",
     "grade": false,
     "grade_id": "cell-e563507ed654ca8c",
     "locked": false,
     "schema_version": 3,
     "solution": true,
     "task": false
    }
   },
   "outputs": [],
   "source": [
    "# Write 4th-order Runge Kutta (for vector y)\n",
    "def runge_kutta4(f, tspan, y0, h):\n",
    "    \"\"\"\n",
    "    Explicit Euler Method\n",
    "    \n",
    "    Parameter\n",
    "    ---------\n",
    "    f : function\n",
    "        Derivative\n",
    "    tspan : tuple\n",
    "        Initial and final time ex) (ti, te)\n",
    "    y0 : float\n",
    "        Initial solution\n",
    "    h: float\n",
    "        Time step size\n",
    "        \n",
    "    Return\n",
    "    ------\n",
    "    t : array\n",
    "        Time series\n",
    "    y : array\n",
    "        solutions\n",
    "    \"\"\"\n",
    "    # YOUR CODE HERE\n",
    "\n",
    "    return t, y"
   ]
  },
  {
   "cell_type": "code",
   "execution_count": null,
   "id": "a89acfb6",
   "metadata": {},
   "outputs": [],
   "source": [
    "# Paratrooper problem\n",
    "m, k = 1, 16\n",
    "\n",
    "# Derivative\n",
    "def f(t, y):\n",
    "    return np.array([y[1], -k/m*y[0]])\n",
    "\n",
    "# Initial condition\n",
    "y0 = np.array([1, 0])\n",
    "\n",
    "# Time step\n",
    "h = 0.05\n",
    "eet, eey = explicit_euler(f, (0, 5), y0, h)\n",
    "r2t, r2y = runge_kutta2(f, (0, 5), y0, h)\n",
    "r4t, r4y = runge_kutta4(f, (0, 5), y0, h)\n",
    "\n",
    "# Verification\n",
    "# Plot exact solution and numerical solution\n"
   ]
  },
  {
   "cell_type": "code",
   "execution_count": null,
   "id": "39907501",
   "metadata": {
    "deletable": false,
    "editable": false,
    "nbgrader": {
     "cell_type": "code",
     "checksum": "2f9a2c80c9767fe8138e6bac41dc013f",
     "grade": true,
     "grade_id": "cell-37c27501552fe516",
     "locked": true,
     "points": 5,
     "schema_version": 3,
     "solution": false,
     "task": false
    }
   },
   "outputs": [],
   "source": [
    "# Check your solution\n",
    "assert r4y[0, 100] - 0.408303 < 1e-6"
   ]
  },
  {
   "cell_type": "markdown",
   "id": "196f9dd8",
   "metadata": {
    "deletable": false,
    "editable": false,
    "nbgrader": {
     "cell_type": "markdown",
     "checksum": "b4045868b7329e29a70033331f4e4568",
     "grade": false,
     "grade_id": "cell-f80b381fb777f87e",
     "locked": true,
     "schema_version": 3,
     "solution": false,
     "task": false
    }
   },
   "source": [
    "## Problem 3  \n",
    "\n",
    "A forced damped spring-mass system is described by the following nonlinear ordinary differential equation of motion:  \n",
    "\n",
    "$$\n",
    "m \\frac{d^2 x}{dt^2} + a \\left| \\frac{dx}{dt} \\right| \\frac{dx}{dt} + kx = F_o \\sin (\\omega t)\n",
    "$$  \n",
    "\n",
    "where:  \n",
    "- $x(t)$: Displacement from equilibrium.  \n",
    "- $t$: Time.  \n",
    "- $m = 2 \\, \\text{kg} $: Mass.  \n",
    "- $ a = 5 \\, \\text{N}/(\\text{m/s})^2 $: Damping coefficient (nonlinear air damping).  \n",
    "- $ k = 6 \\, \\text{N/m} $: Spring stiffness.  \n",
    "- $F_o = 2.5 \\, \\text{N} $: Amplitude of the forcing function.  \n",
    "- $ \\omega = 0.5 \\, \\text{rad/sec} $: Angular frequency of the forcing function.  \n",
    "\n",
    "### Initial Conditions  \n",
    "- Initial velocity: $ \\frac{dx}{dt} = 0 \\, \\text{m/s} $.  \n",
    "- Initial displacement: $ x = 1 \\, \\text{m} $.  \n",
    "\n",
    "### Task  \n",
    "Solve the equation numerically using the **4th-order Runge-Kutta method** over the time period $0 \\leq t \\leq 15 \\, \\text{s} $.  \n"
   ]
  },
  {
   "cell_type": "code",
   "execution_count": null,
   "id": "05ba3934",
   "metadata": {
    "deletable": false,
    "nbgrader": {
     "cell_type": "code",
     "checksum": "939949a694e70f3a8d028a58d6adcf78",
     "grade": false,
     "grade_id": "cell-5683929632f1c3db",
     "locked": false,
     "schema_version": 3,
     "solution": true,
     "task": false
    }
   },
   "outputs": [],
   "source": [
    "# YOUR CODE HERE\n",
    "\n",
    "\n",
    "# Verification\n",
    "# Plot exact solution and numerical solution"
   ]
  },
  {
   "cell_type": "code",
   "execution_count": null,
   "id": "63a05c1e",
   "metadata": {
    "deletable": false,
    "editable": false,
    "nbgrader": {
     "cell_type": "code",
     "checksum": "1231c3277c13b45cfcf93e2e9b4c6eb8",
     "grade": true,
     "grade_id": "cell-bc3d28c6459e143d",
     "locked": true,
     "points": 5,
     "schema_version": 3,
     "solution": false,
     "task": false
    }
   },
   "outputs": [],
   "source": [
    "# Check your solution\n",
    "assert r4y[0, 100] - 0.711351 < 1e-6"
   ]
  },
  {
   "cell_type": "markdown",
   "id": "a0c144f6",
   "metadata": {
    "deletable": false,
    "editable": false,
    "nbgrader": {
     "cell_type": "markdown",
     "checksum": "0f77c4d7fb342590530df4d17acc6637",
     "grade": false,
     "grade_id": "cell-b55c8f71d2698594",
     "locked": true,
     "schema_version": 3,
     "solution": false,
     "task": false
    }
   },
   "source": [
    "## Problem 4\n",
    "Repeat the boundary value problem (BVP) example provided in the lecture notes using the **shooting method**. Implement the **4th-order Runge-Kutta method** instead of using the `solve_ivp` function.  "
   ]
  },
  {
   "cell_type": "code",
   "execution_count": null,
   "id": "d6e91309",
   "metadata": {
    "deletable": false,
    "nbgrader": {
     "cell_type": "code",
     "checksum": "4177bd59f114d36fa8de831736548da6",
     "grade": false,
     "grade_id": "cell-d134483c7b632131",
     "locked": false,
     "schema_version": 3,
     "solution": true,
     "task": false
    }
   },
   "outputs": [],
   "source": [
    "from scipy.optimize import root_scalar\n",
    "\n",
    "\n",
    "# Constants\n",
    "Ta, T1, T2 = 20, 40, 200\n",
    "h = 0.01\n",
    "\n",
    "# derivative function\n",
    "def dydx(t, y):\n",
    "    # y[0], y[1] : T and z\n",
    "    return np.array([y[1], h*(y[0] - Ta)])\n",
    "\n",
    "# YOUR CODE HERE\n"
   ]
  },
  {
   "cell_type": "code",
   "execution_count": null,
   "id": "f8647982",
   "metadata": {
    "deletable": false,
    "editable": false,
    "nbgrader": {
     "cell_type": "code",
     "checksum": "d25af87cf543fd84108e3f25298b6732",
     "grade": true,
     "grade_id": "cell-1423b2b37a373b61",
     "locked": true,
     "points": 5,
     "schema_version": 3,
     "solution": false,
     "task": false
    }
   },
   "outputs": [],
   "source": [
    "# Check your solution\n",
    "assert y[1, 1000] - 21.932798 < 1e-6"
   ]
  },
  {
   "cell_type": "markdown",
   "id": "8feef0a1",
   "metadata": {
    "deletable": false,
    "editable": false,
    "nbgrader": {
     "cell_type": "markdown",
     "checksum": "b4aff21bb6e73aec2dedbe258fb83dab",
     "grade": false,
     "grade_id": "cell-5045e1ce03f8b6a6",
     "locked": true,
     "schema_version": 3,
     "solution": false,
     "task": false
    }
   },
   "source": [
    "## Problem 5\n",
    "The boundary layer velocity profile can be obtained by solving the Blasius equation:  \n",
    "\n",
    "$$\n",
    "2 f''' +f f'' =0\n",
    "$$\n",
    "\n",
    "### Boundary Conditions \n",
    "- $f(0) = 0, f'(0)=0$\n",
    "- $f'(\\infty)=1$\n",
    "\n",
    "Using the shooting method, solve this problem by assuming the initial condition of $f''(0)$.\n",
    "\n",
    "### Tasks  \n",
    "1. **Problem Setup**:  \n",
    "   - Solve the equation using the **shooting method** on $x\\in[0, 10]$.  \n",
    "   - Assume an initial guess for $f''(0)$ and iteratively refine it to satisfy the boundary condition $f'(10) = 1$.   \n",
    "\n",
    "2. **Analysis**:  \n",
    "   - Compute and plot the velocity profile $f'(x)$.  \n",
    "   - Determine the boundary layer thickness, defined as the location where $f'(x)$ reaches 99% of the free-stream velocity (i.e., $f'(x) = 0.99$).  "
   ]
  },
  {
   "cell_type": "code",
   "execution_count": null,
   "id": "4db78166",
   "metadata": {
    "deletable": false,
    "nbgrader": {
     "cell_type": "code",
     "checksum": "2c4ca5747683800928b4aafe35a6d715",
     "grade": false,
     "grade_id": "cell-2e4412c90dc501b1",
     "locked": false,
     "schema_version": 3,
     "solution": true,
     "task": false
    }
   },
   "outputs": [],
   "source": [
    "# YOUR CODE HERE\n",
    "\n",
    "# Plot numerical solution save the result as f\n",
    "# ex) x, f = runge_kutta4"
   ]
  },
  {
   "cell_type": "code",
   "execution_count": null,
   "id": "acec931e",
   "metadata": {
    "deletable": false,
    "editable": false,
    "nbgrader": {
     "cell_type": "code",
     "checksum": "d63c9ac167fb24e832c944ff817b381d",
     "grade": true,
     "grade_id": "cell-34ccc7fb300c80e8",
     "locked": true,
     "points": 5,
     "schema_version": 3,
     "solution": false,
     "task": false
    }
   },
   "outputs": [],
   "source": [
    "# Check your solution\n",
    "assert np.linalg.norm(f[:, 100] - [0.16557173, 0.32978003, 0.32300712]) < 1e-6"
   ]
  }
 ],
 "metadata": {
  "kernelspec": {
   "display_name": "Python 3 (ipykernel)",
   "language": "python",
   "name": "python3"
  },
  "language_info": {
   "codemirror_mode": {
    "name": "ipython",
    "version": 3
   },
   "file_extension": ".py",
   "mimetype": "text/x-python",
   "name": "python",
   "nbconvert_exporter": "python",
   "pygments_lexer": "ipython3",
   "version": "3.12.2"
  },
  "widgets": {
   "application/vnd.jupyter.widget-state+json": {
    "state": {},
    "version_major": 1,
    "version_minor": 0
   }
  }
 },
 "nbformat": 4,
 "nbformat_minor": 5
}
