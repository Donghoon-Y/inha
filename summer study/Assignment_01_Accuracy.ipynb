{
 "cells": [
  {
   "cell_type": "markdown",
   "id": "0ad58969",
   "metadata": {},
   "source": [
    "# 실습: 수의 정확도, 오차\n",
    "**강좌**: *수치해석*\n",
    "\n",
    "**Due**: 2024/09/26"
   ]
  },
  {
   "cell_type": "markdown",
   "id": "cb642dc7",
   "metadata": {},
   "source": [
    "## Problem #1\n",
    "$\\cos(x)$ 과 $\\sin(x)$ 함수는 Taylor expansion에 의해 다음과 같이 표현할 수 있다.\n",
    "\n",
    "$$\n",
    "\\begin{align}\n",
    "\\cos x &= 1 - \\frac{x^2}{2!} + \\frac{x^4}{4!} - \\frac{x^6}{6!} + ... \\\\\n",
    "\\sin x &= x - \\frac{x^3}{3!} + \\frac{x^5}{5!} - \\frac{x^7}{7!} + ...\n",
    "\\end{align}\n",
    "$$\n",
    "\n",
    "여기서 $x$의 단위는 radian이다.\n",
    "\n",
    "$x$가 5도 각도일 때 근사항의 갯수에 따른 절대오차, 참 상대오차, 근사 상대 오차를 구하고 이를 그래프로 표현하시오.\n",
    "\n",
    "Tip) `np.deg2rad`, `np.rad2deg` 함수 참고할 것"
   ]
  },
  {
   "cell_type": "code",
   "execution_count": null,
   "id": "4f9d1c98",
   "metadata": {},
   "outputs": [],
   "source": [
    "# Write your answer"
   ]
  },
  {
   "cell_type": "markdown",
   "id": "dddaca64",
   "metadata": {},
   "source": [
    "## Problem #2\n",
    "단정밀도 (np.float32) 대해서 머신 Epsilon을 구하고, 뺄샘의 무효화, Overflow, Underflow 상황을 만들어 보시오."
   ]
  },
  {
   "cell_type": "code",
   "execution_count": null,
   "id": "fa858537",
   "metadata": {},
   "outputs": [],
   "source": [
    "# Write your answer\n",
    "\n",
    "# Machine epsilon\n",
    "\n",
    "# 뺄샘의 무효화\n",
    "\n",
    "# Overflow\n",
    "\n",
    "# Underflow"
   ]
  },
  {
   "cell_type": "markdown",
   "id": "3514e9dd",
   "metadata": {},
   "source": [
    "## Problem #3\n",
    "$\\sin(x)$ 를 $a=\\pi/4$ 를 기준으로 Taylor series를 이용하여 근사식을 구하고, $[0, \\pi/2]$ 구간에서 근사해와 이론해를 비교하시오. 전단오차의 크기를 확인하시오."
   ]
  },
  {
   "cell_type": "code",
   "execution_count": null,
   "id": "67bacf73",
   "metadata": {},
   "outputs": [],
   "source": [
    "# Write your answer"
   ]
  },
  {
   "cell_type": "markdown",
   "id": "01174854",
   "metadata": {},
   "source": [
    "## Problem #4\n",
    "Condition 수를 구하고 그 의미를 설명하시오.\n",
    "\n",
    "(a) $f(x) = \\sqrt{|x-1|} + 1$, $x=1.00001$\n",
    "\n",
    "(b) $f(x) = \\frac{\\sin(x)}{\\cos(x) + 1}$, $x=1.0001\\pi$"
   ]
  },
  {
   "cell_type": "code",
   "execution_count": null,
   "id": "6be2704c",
   "metadata": {},
   "outputs": [],
   "source": [
    "# Write your answer for (a)\n",
    "...\n",
    "\n",
    "cond = # Condition number\n",
    "\n",
    "# 의미: ..."
   ]
  },
  {
   "cell_type": "code",
   "execution_count": null,
   "id": "ade1ed06",
   "metadata": {},
   "outputs": [],
   "source": [
    "# Write your answer for (b)\n",
    "...\n",
    "cond = # Condition number\n",
    "\n",
    "# 의미: ..."
   ]
  }
 ],
 "metadata": {
  "kernelspec": {
   "display_name": "Python 3 (ipykernel)",
   "language": "python",
   "name": "python3"
  },
  "language_info": {
   "codemirror_mode": {
    "name": "ipython",
    "version": 3
   },
   "file_extension": ".py",
   "mimetype": "text/x-python",
   "name": "python",
   "nbconvert_exporter": "python",
   "pygments_lexer": "ipython3",
   "version": "3.11.2"
  },
  "widgets": {
   "application/vnd.jupyter.widget-state+json": {
    "state": {},
    "version_major": 1,
    "version_minor": 0
   }
  }
 },
 "nbformat": 4,
 "nbformat_minor": 5
}
