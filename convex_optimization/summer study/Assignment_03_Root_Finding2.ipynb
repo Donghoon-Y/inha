{
 "cells": [
  {
   "cell_type": "markdown",
   "id": "4f46c49c",
   "metadata": {
    "deletable": false,
    "editable": false,
    "nbgrader": {
     "cell_type": "markdown",
     "checksum": "f49c9ecd4e4419d54bb03f02cfa61d44",
     "grade": false,
     "grade_id": "cell-7e1ed028fd887dfd",
     "locked": true,
     "schema_version": 3,
     "solution": false,
     "task": false
    }
   },
   "source": [
    "# Exercise: Root Finding 2\n",
    "**강좌**: *Numerical Analysis*\n",
    "\n",
    "**Due**: 2024/10/8"
   ]
  },
  {
   "cell_type": "markdown",
   "id": "381e5f6a",
   "metadata": {
    "deletable": false,
    "editable": false,
    "nbgrader": {
     "cell_type": "markdown",
     "checksum": "0ee972418ee853e6fe4a859bc51fc2b5",
     "grade": false,
     "grade_id": "cell-f68fb90ec9f75fe1",
     "locked": true,
     "schema_version": 3,
     "solution": false,
     "task": false
    }
   },
   "source": [
    "## Problem #1\n",
    "Write a function to find a root using the Newton method with the following specifications:\n",
    "- Use a for loop with a specified maximum number of iterations.\n",
    "- Input parameters\n",
    "   * function *f*\n",
    "   * derivative *fp*\n",
    "   * intial guess: x0\n",
    "   * tolerance *tol*\n",
    "   * maximum iterations *iter_max*\n",
    "   * (Optional) Boolean verbose keyword to print intermediate results. The default is False.\n",
    "- Additionally, include a proper docstring to describe the function's behavior, parameters, and return values."
   ]
  },
  {
   "cell_type": "code",
   "execution_count": 11,
   "id": "627f1ba4",
   "metadata": {
    "deletable": false,
    "nbgrader": {
     "cell_type": "code",
     "checksum": "8011efb42eefd86d1b1d3e23474f22ed",
     "grade": false,
     "grade_id": "cell-fe271d986d99dd1f",
     "locked": false,
     "schema_version": 3,
     "solution": true,
     "task": false
    }
   },
   "outputs": [],
   "source": [
    "# Write your answer\n",
    "def newton(f, fp, x0, tol=1e-6, iter_max=50):\n",
    "    # YOUR CODE HERE\n",
    "    '''\n",
    "    Newton-Raphson method\n",
    "    --------\n",
    "    f : function \n",
    "        원함수\n",
    "    fp : function\n",
    "        미분 함수\n",
    "    initial quess : float\n",
    "        초기값\n",
    "    tol : float\n",
    "        허용오차\n",
    "    iter_max : int\n",
    "        최대 반복 횟수\n",
    "    '''\n",
    "    for i in range(iter_max) :\n",
    "        xn = x0 - f(x0)/fp(x0)\n",
    "        error = abs(xn - x0) \n",
    "\n",
    "        if error > tol :\n",
    "            x0 = xn \n",
    "            print(f\"converged {i}: {x0}, error : {error}\")\n",
    "\n",
    "        else : \n",
    "            print(f\"sol : {xn}\")\n",
    "            return xn\n",
    "    raise ValueError(\"Did not converge within the maximum number of iterations.\")\n"
   ]
  },
  {
   "cell_type": "code",
   "execution_count": null,
   "id": "1023b5fa-9c29-4d13-beb8-1150436797f3",
   "metadata": {
    "deletable": false,
    "editable": false,
    "nbgrader": {
     "cell_type": "code",
     "checksum": "474e1feb1ae7f81b6b54fcec9edff1ec",
     "grade": true,
     "grade_id": "cell-962d2cf9716a6461",
     "locked": true,
     "points": 5,
     "schema_version": 3,
     "solution": false,
     "task": false
    }
   },
   "outputs": [
    {
     "name": "stdout",
     "output_type": "stream",
     "text": [
      "converged 0: -2.3786930568939946, error : 1.6213069431060054\n",
      "converged 1: -2.4831523677029708, error : 0.10445931080897619\n",
      "converged 2: -2.4794860862528916, error : 0.0036662814500791896\n",
      "converged 3: -2.47948183354708, error : 4.252705811502722e-06\n",
      "sol : -2.479481833541344\n",
      "converged 0: 1.1788597139133152, error : 2.1788597139133152\n",
      "converged 1: -0.5421287672056851, error : 1.7209884811190004\n",
      "converged 2: 0.10820416615760131, error : 0.6503329333632865\n",
      "converged 3: 0.0007373735242627161, error : 0.1074667926333386\n",
      "converged 4: 5.423034706703283e-08, error : 0.000737319293915649\n",
      "sol : 2.940929958079106e-16\n",
      "sol : 0.0\n"
     ]
    }
   ],
   "source": [
    "import numpy as np\n",
    "f = lambda x : x**2 + 10*np.sin(x)\n",
    "fp = lambda x: 2*x + 10*np.cos(x)\n",
    "\n",
    "assert abs(newton(f, fp, x0=-4) - (-2.47948)) < 5e-5\n",
    "assert abs(newton(f, fp, x0=-1) - (0.0)) < 1e-6\n",
    "assert abs(newton(f, fp, x0=0)- (0.0)) < 1e-6"
   ]
  },
  {
   "cell_type": "markdown",
   "id": "5ede5245",
   "metadata": {
    "deletable": false,
    "editable": false,
    "nbgrader": {
     "cell_type": "markdown",
     "checksum": "1c2113e4e67b92e98742a1fbe6b8bff1",
     "grade": false,
     "grade_id": "cell-cee5d5bcc4cb6723",
     "locked": true,
     "schema_version": 3,
     "solution": false,
     "task": false
    }
   },
   "source": [
    "## Problem #2\n",
    "Write a function to find a root using the Secant method with the following specifications:\n",
    "- Use a for loop with a specified maximum number of iterations.\n",
    "- Input parameters\n",
    "   * function *f*\n",
    "   * intial guesses: $x_0$, $x_{-1}$\n",
    "   * tolerance *tol*\n",
    "   * maximum iterations *iter_max*\n",
    "   * (Optional) Boolean verbose keyword to print intermediate results. The default is False.\n",
    "- Additionally, include a proper docstring to describe the function's behavior, parameters, and return values."
   ]
  },
  {
   "cell_type": "code",
   "execution_count": 17,
   "id": "ab2cafec",
   "metadata": {
    "deletable": false,
    "nbgrader": {
     "cell_type": "code",
     "checksum": "86c50f13f844f913c94e165105154392",
     "grade": false,
     "grade_id": "cell-604cece7f9e1450f",
     "locked": false,
     "schema_version": 3,
     "solution": true,
     "task": false
    }
   },
   "outputs": [],
   "source": [
    "# Write your answer\n",
    "def secant(f, x0, x1, tol=1e-6, iter_max=50):\n",
    "    # YOUR CODE HERE\n",
    "    '''\n",
    "    Secant method\n",
    "    --------\n",
    "    f : function \n",
    "        원함수\n",
    "    x0 : float\n",
    "        이전값\n",
    "    x1 : float\n",
    "        초기값\n",
    "    tol : float\n",
    "        허용오차\n",
    "    iter_max : int\n",
    "        최대 반복 횟수\n",
    "    '''\n",
    "    for i in range(iter_max) :\n",
    "        xn = x1 - f(x1)*(x1-x0)/(f(x1)-f(x0))\n",
    "        error = abs(xn-x1) \n",
    "        if error > tol :\n",
    "            x0 = x1 \n",
    "            x1 = xn\n",
    "            print(f\"Converged {i} : {x1}, error : {error}\")\n",
    "        else :\n",
    "            print(f\"sol : {xn}\")\n",
    "            return xn\n",
    "        \n",
    "    raise ValueError(\"Did not converge within the maximum number of iterations.\")"
   ]
  },
  {
   "cell_type": "code",
   "execution_count": 18,
   "id": "148884ab-3434-41a2-9574-fbf8ef485383",
   "metadata": {
    "deletable": false,
    "editable": false,
    "nbgrader": {
     "cell_type": "code",
     "checksum": "5fc89acb26ed708c9b1a5731c073b9f6",
     "grade": true,
     "grade_id": "cell-f84270eb85482c08",
     "locked": true,
     "points": 5,
     "schema_version": 3,
     "solution": false,
     "task": false
    }
   },
   "outputs": [
    {
     "name": "stdout",
     "output_type": "stream",
     "text": [
      "Converged 0 : -1.8615770603074728, error : 3.138422939692527\n",
      "Converged 1 : -2.3330450448262763, error : 0.47146798451880345\n",
      "Converged 2 : -2.5281464068110413, error : 0.19510136198476502\n",
      "Converged 3 : -2.477074340329707, error : 0.05107206648133422\n",
      "Converged 4 : -2.479445758492781, error : 0.0023714181630740683\n",
      "Converged 5 : -2.4794818611279075, error : 3.6102635126322724e-05\n",
      "sol : -2.479481833541029\n",
      "Converged 0 : 1.5802523048434418, error : 2.680252304843442\n",
      "Converged 1 : -0.07798502281096842, error : 1.6582373276544102\n",
      "Converged 2 : 0.018609381984013337, error : 0.09659440479498176\n",
      "Converged 3 : -0.00016056873779995637, error : 0.018769950721813294\n",
      "Converged 4 : -2.891040673044126e-07, error : 0.00016027963373265196\n",
      "sol : 4.643426763423285e-12\n",
      "Converged 0 : 0.0, error : 1.0\n",
      "sol : 0.0\n"
     ]
    }
   ],
   "source": [
    "f = lambda x : x**2 + 10*np.sin(x)\n",
    "\n",
    "assert abs(secant(f, x0=-4, x1=-5) - (-2.47948)) < 5e-5\n",
    "assert abs(secant(f, x0=-1, x1=-1.1) - (0.0)) < 1e-6\n",
    "assert abs(secant(f, x0=0, x1=-1)- (0.0)) < 1e-6"
   ]
  },
  {
   "cell_type": "markdown",
   "id": "e61dc867",
   "metadata": {
    "deletable": false,
    "editable": false,
    "nbgrader": {
     "cell_type": "markdown",
     "checksum": "4ba009c35e6fdd00b7dd32412d8716db",
     "grade": false,
     "grade_id": "cell-8be80bcd040bc00e",
     "locked": true,
     "schema_version": 3,
     "solution": false,
     "task": false
    }
   },
   "source": [
    "# Problem #3\n",
    "Determine the highest real root of\n",
    "\n",
    "$$\n",
    "f(x) = 2x^3 - 11.7x^2 + 17.7x - 5\n",
    "$$\n",
    "\n",
    "(a) Graphically.\n",
    "\n",
    "(b) Newton-Raphson method with $x_0 = 3$.\n",
    "\n",
    "(c) Secant method with $x_{-1}=3, x_0=4$."
   ]
  },
  {
   "cell_type": "code",
   "execution_count": 24,
   "id": "8ef378c3",
   "metadata": {
    "deletable": false,
    "nbgrader": {
     "cell_type": "code",
     "checksum": "5605b7ef1b9e4b7458219452049ae2e5",
     "grade": true,
     "grade_id": "cell-f6c57147fce4c063",
     "locked": false,
     "points": 1,
     "schema_version": 3,
     "solution": true,
     "task": false
    }
   },
   "outputs": [
    {
     "data": {
      "image/png": "[encoded data removed]",
      "text/plain": [
       "<Figure size 640x480 with 1 Axes>"
      ]
     },
     "metadata": {},
     "output_type": "display_data"
    }
   ],
   "source": [
    "# YOUR CODE HERE\n",
    "# (a)\n",
    "from matplotlib import pyplot as plt \n",
    "\n",
    "f = lambda x : 2*x**3 - 11.7*x**2 + 17.7*x -5\n",
    "fp = lambda x : 6*x**2 - 23.4*x + 17.7\n",
    "\n",
    "x_interval = np.linspace(-10, 10, 101)\n",
    "\n",
    "plt.plot(x_interval, f(x_interval), label = 'f(x)')\n",
    "plt.scatter(3.5631608248620537, f(3.5631608248620537), label = 'Graphically sol', color = 'r')\n",
    "plt.grid(True)\n",
    "plt.xlabel(\"x\")\n",
    "plt.ylabel(\"f(x)\")\n",
    "plt.legend()\n",
    "plt.show()"
   ]
  },
  {
   "cell_type": "code",
   "execution_count": 22,
   "id": "eacb3f96-41bc-41c1-a291-b82a07080814",
   "metadata": {
    "deletable": false,
    "nbgrader": {
     "cell_type": "code",
     "checksum": "f2fade6484ff79a7de728bbac60e91f9",
     "grade": false,
     "grade_id": "cell-57a9b7c6abe35785",
     "locked": false,
     "schema_version": 3,
     "solution": true,
     "task": false
    }
   },
   "outputs": [
    {
     "name": "stdout",
     "output_type": "stream",
     "text": [
      "converged 0: 5.13333333333332, error : 2.1333333333333204\n",
      "converged 1: 4.26975005653324, error : 0.8635832768000808\n",
      "converged 2: 3.7929344806432264, error : 0.4768155758900132\n",
      "converged 3: 3.5998192883980815, error : 0.19311519224514484\n",
      "converged 4: 3.56433803284734, error : 0.03548125555074133\n",
      "converged 5: 3.5631621003251914, error : 0.0011759325221487593\n",
      "converged 6: 3.5631608248635556, error : 1.2754616358634507e-06\n",
      "sol : 3.5631608248620537\n",
      "newton rhapson sol : 3.5631608248620537\n"
     ]
    }
   ],
   "source": [
    "# Write your answers (b)\n",
    "# Save the result in ans_b\n",
    "\n",
    "# YOUR CODE HERE\n",
    "ans_b = newton(f, fp, 3)\n",
    "\n",
    "print(f\"newton rhapson sol : {ans_b}\")"
   ]
  },
  {
   "cell_type": "code",
   "execution_count": null,
   "id": "a557d5a2-a05d-4061-952a-dd026eb3a740",
   "metadata": {
    "deletable": false,
    "editable": false,
    "nbgrader": {
     "cell_type": "code",
     "checksum": "6ff5fc4a2604a6df3e6baa8adee2e974",
     "grade": true,
     "grade_id": "cell-5b6fd022369d37ae",
     "locked": true,
     "points": 2,
     "schema_version": 3,
     "solution": false,
     "task": false
    }
   },
   "outputs": [],
   "source": [
    "# Do not remove!!!"
   ]
  },
  {
   "cell_type": "code",
   "execution_count": 25,
   "id": "5f095798-ca4b-4c74-9eff-ff0eb8b096a5",
   "metadata": {
    "deletable": false,
    "nbgrader": {
     "cell_type": "code",
     "checksum": "4e942d268f5423d0939d60e62f1084f6",
     "grade": false,
     "grade_id": "cell-ccc08edda3d585d2",
     "locked": false,
     "schema_version": 3,
     "solution": true,
     "task": false
    }
   },
   "outputs": [
    {
     "name": "stdout",
     "output_type": "stream",
     "text": [
      "Converged 0 : 3.326530612244898, error : 0.6734693877551021\n",
      "Converged 1 : 3.4812727094176554, error : 0.15474209717275755\n",
      "Converged 2 : 3.586275384711736, error : 0.10500267529408047\n",
      "Converged 3 : 3.56134020948947, error : 0.024935175222265737\n",
      "Converged 4 : 3.5631226111278784, error : 0.0017824016384082597\n",
      "Converged 5 : 3.5631608890875883, error : 3.827795970989811e-05\n",
      "sol : 3.563160824859791\n",
      "Secant sol : 3.563160824859791\n"
     ]
    }
   ],
   "source": [
    "# Write your answers (c)\n",
    "# Save the result in ans_c\n",
    "\n",
    "# YOUR CODE HERE\n",
    "ans_c = secant(f,3,4)\n",
    "\n",
    "print(f\"Secant sol : {ans_c}\")"
   ]
  },
  {
   "cell_type": "code",
   "execution_count": null,
   "id": "b5ccbc9a-4b58-4c5a-b7c4-9f3828ce6a9b",
   "metadata": {
    "deletable": false,
    "editable": false,
    "nbgrader": {
     "cell_type": "code",
     "checksum": "9b8b3963b233be9f55082bf045fb0010",
     "grade": true,
     "grade_id": "cell-01ff38e473ed2c83",
     "locked": true,
     "points": 2,
     "schema_version": 3,
     "solution": false,
     "task": false
    }
   },
   "outputs": [],
   "source": [
    "# Do not remove!!!"
   ]
  },
  {
   "cell_type": "markdown",
   "id": "b579a401",
   "metadata": {
    "deletable": false,
    "editable": false,
    "nbgrader": {
     "cell_type": "markdown",
     "checksum": "ffc787f4491eddb530a1df626d130537",
     "grade": false,
     "grade_id": "cell-74f8ce63076a76a4",
     "locked": true,
     "schema_version": 3,
     "solution": false,
     "task": false
    }
   },
   "source": [
    "## Problem #4\n",
    "Aerospace engineers sometimes compute the trajectories of projectiles like rockets. A related problem deals with the trajectory of a\n",
    "thrown ball. The trajectory of a ball is defined by the (x, y) coordinates. The trajectory can be modeled as\n",
    "$$\n",
    "y = \\tan(\\theta_0)x - \\frac{g}{2v_0^2\\cos^2\\theta_0} x^2+y_0\n",
    "$$\n",
    "Find the appropriate initial angle $\\theta_0$, if the initial velocity $v_0=20m/s$ and the disctance to the catcher $x$ is $40m$. Note that the ball leaves the thrower’s hand at an elevation of $y_0=1.8 m$ and and the catcher receives it at $1m$. Express the fi nal result in degrees. Use a value of $9.81m/s^2$ for $gG.\n",
    "\n",
    "(a) Graphically and determine the initial guess\n",
    "\n",
    "(b) Secant method"
   ]
  },
  {
   "cell_type": "code",
   "execution_count": 36,
   "id": "06ee6150-39d8-4827-bbdc-14bfd46198ef",
   "metadata": {
    "deletable": false,
    "nbgrader": {
     "cell_type": "code",
     "checksum": "bc4220990bab4e9d6c6deadc1f02767d",
     "grade": true,
     "grade_id": "cell-9b7cadf3621cc1ce",
     "locked": false,
     "points": 2,
     "schema_version": 3,
     "solution": true,
     "task": false
    }
   },
   "outputs": [
    {
     "data": {
      "image/png": "[encoded data removed]",
      "text/plain": [
       "<Figure size 640x480 with 1 Axes>"
      ]
     },
     "metadata": {},
     "output_type": "display_data"
    }
   ],
   "source": [
    "# YOUR CODE HERE\n",
    "# a\n",
    "v0 = 20 #m/s\n",
    "x = 40 #m\n",
    "y0 = 1.8 #m\n",
    "y = 1 #m\n",
    "g = 9.81 #m/s^2\n",
    "\n",
    "f = lambda theta : np.tan(theta)*x - (g*x**2)/(2*v0**2*np.cos(theta)**2) + (y0 - y)\n",
    "\n",
    "theta_interval = np.linspace(0, np.pi/2.5, 1000)\n",
    "\n",
    "plt.plot(theta_interval, f(theta_interval), label =\" sol according Theta \")\n",
    "plt.scatter(0.634947693743998, f(0.634947693743998), label =\"Graphically sol\", color = 'r')\n",
    "plt.xlabel(\"theta\")\n",
    "plt.ylabel('f(theta)')\n",
    "plt.legend()\n",
    "plt.grid(True)\n",
    "plt.show()"
   ]
  },
  {
   "cell_type": "code",
   "execution_count": 39,
   "id": "48e6c6c0",
   "metadata": {
    "deletable": false,
    "nbgrader": {
     "cell_type": "code",
     "checksum": "e3cc45eaf71e4f49bf8583901aa0d0d4",
     "grade": false,
     "grade_id": "cell-7e4cca84c8892f74",
     "locked": false,
     "schema_version": 3,
     "solution": true,
     "task": false
    }
   },
   "outputs": [
    {
     "name": "stdout",
     "output_type": "stream",
     "text": [
      "Converged 0 : 0.6291659865488376, error : 0.02916598654883762\n",
      "Converged 1 : 0.6346007089632424, error : 0.005434722414404791\n",
      "Converged 2 : 0.6349482874555803, error : 0.0003475784923379077\n",
      "Converged 3 : 0.6349522506876872, error : 3.963232106940495e-06\n",
      "sol : 0.6349522534621055\n",
      "0.6349522534621055\n"
     ]
    }
   ],
   "source": [
    "# Write your answers (b)\n",
    "# Save the result in ans_b\n",
    "\n",
    "# YOUR CODE HERE\n",
    "# 초기값을 0.6로 가정하고 구한다.\n",
    "fp = lambda theta: x * (1 / np.cos(theta))**2 + (g * x**2 * np.sin(theta)) / (v0**2 * np.cos(theta)**3)\n",
    "\n",
    "ans_b = secant(f,0.5, 0.6)\n",
    "print(ans_b)"
   ]
  },
  {
   "cell_type": "code",
   "execution_count": null,
   "id": "40ca2564-e2ee-412e-863d-70274652f47d",
   "metadata": {
    "deletable": false,
    "editable": false,
    "nbgrader": {
     "cell_type": "code",
     "checksum": "7202ec4243be3f614428c2abe3256c1f",
     "grade": true,
     "grade_id": "cell-19245e5c403472e1",
     "locked": true,
     "points": 3,
     "schema_version": 3,
     "solution": false,
     "task": false
    }
   },
   "outputs": [],
   "source": [
    "# Do not remove!!!"
   ]
  }
 ],
 "metadata": {
  "kernelspec": {
   "display_name": "Python 3",
   "language": "python",
   "name": "python3"
  },
  "language_info": {
   "codemirror_mode": {
    "name": "ipython",
    "version": 3
   },
   "file_extension": ".py",
   "mimetype": "text/x-python",
   "name": "python",
   "nbconvert_exporter": "python",
   "pygments_lexer": "ipython3",
   "version": "3.13.2"
  },
  "widgets": {
   "application/vnd.jupyter.widget-state+json": {
    "state": {},
    "version_major": 1,
    "version_minor": 0
   }
  }
 },
 "nbformat": 4,
 "nbformat_minor": 5
}
