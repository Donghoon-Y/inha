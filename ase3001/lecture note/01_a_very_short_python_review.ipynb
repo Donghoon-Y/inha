{
  "nbformat": 4,
  "nbformat_minor": 0,
  "metadata": {
    "colab": {
      "provenance": []
    },
    "kernelspec": {
      "display_name": "Python 3",
      "language": "python",
      "name": "python3"
    }
  },
  "cells": [
    {
      "metadata": {
        "id": "j3oCgBcLllez"
      },
      "cell_type": "markdown",
      "source": [
        "# A very short Python review"
      ]
    },
    {
      "metadata": {
        "id": "5b80v9r_lle1"
      },
      "cell_type": "markdown",
      "source": [
        "__<div style=\"text-align: right\"> ASE3001: Computational Experiments for Aerospace Engineering, Inha University. </div>__\n",
        "_<div style=\"text-align: right\"> Jong-Han Kim (jonghank@inha.ac.kr) </div>_"
      ]
    },
    {
      "metadata": {
        "id": "HAyWU4BOlle3"
      },
      "cell_type": "markdown",
      "source": [
        "First of all, comments. In Python, the pound sign (`#`)  is used for comments in your codes."
      ]
    },
    {
      "metadata": {
        "id": "KKIlhHMNlle6"
      },
      "cell_type": "code",
      "source": [
        "# This is a comment.\n",
        "# Use them to write short notes and descriptions in your code."
      ],
      "execution_count": null,
      "outputs": []
    },
    {
      "metadata": {
        "id": "Fiii9eVjlle_"
      },
      "cell_type": "markdown",
      "source": [
        "If you need to comment multiple lines out, you may be able to do this by using triple quotes (`'''`). But this is not recommended, since it treats the expressions inside `'''` as a regular multi-line string varible, so the expressions are not ignored by the interpreter in the same way that `# commented expression` is."
      ]
    },
    {
      "metadata": {
        "id": "4hnZTqF8llfA",
        "outputId": "0e8f511d-b816-4cb8-9353-30f905699e1b",
        "colab": {
          "base_uri": "https://localhost:8080/"
        }
      },
      "cell_type": "code",
      "source": [
        "c = 10\n",
        "'''\n",
        "Multi-line comments can be done like this, but not recommended.\n",
        "a = 10\n",
        "b = 30\n",
        "c = a + b\n",
        "'''\n",
        "print(c)"
      ],
      "execution_count": null,
      "outputs": [
        {
          "output_type": "stream",
          "name": "stdout",
          "text": [
            "10\n"
          ]
        }
      ]
    },
    {
      "metadata": {
        "id": "_d8aSoD2llfG"
      },
      "cell_type": "markdown",
      "source": [
        "### Inputs and outputs"
      ]
    },
    {
      "metadata": {
        "id": "BV97mv-vllfH"
      },
      "cell_type": "markdown",
      "source": [
        "In `Jupyter notebook` environment, the last item in the cell is printed."
      ]
    },
    {
      "metadata": {
        "id": "RTqVq_Y4llfI",
        "outputId": "39820ce6-4dda-45fa-e1e2-01f1c64eb267",
        "colab": {
          "base_uri": "https://localhost:8080/"
        }
      },
      "cell_type": "code",
      "source": [
        "1+2   # this won't be printed\n",
        "3*4   # this will be printed"
      ],
      "execution_count": null,
      "outputs": [
        {
          "output_type": "execute_result",
          "data": {
            "text/plain": [
              "12"
            ]
          },
          "metadata": {},
          "execution_count": 3
        }
      ]
    },
    {
      "metadata": {
        "id": "06scQ97fllfM"
      },
      "cell_type": "markdown",
      "source": [
        "You can use `print()`, to print multiple things out."
      ]
    },
    {
      "metadata": {
        "id": "QHlG-DmullfM",
        "outputId": "14e5dff5-a63b-48bd-a17c-63bb0d7751d9",
        "colab": {
          "base_uri": "https://localhost:8080/"
        }
      },
      "cell_type": "code",
      "source": [
        "print(1+2)\n",
        "print(3*4)"
      ],
      "execution_count": null,
      "outputs": [
        {
          "output_type": "stream",
          "name": "stdout",
          "text": [
            "3\n",
            "12\n"
          ]
        }
      ]
    },
    {
      "metadata": {
        "id": "Ho1ifvDkllfP"
      },
      "cell_type": "markdown",
      "source": [
        "To supress the output of a cell, add a semicolon."
      ]
    },
    {
      "metadata": {
        "id": "rfN9ClrMllfP"
      },
      "cell_type": "code",
      "source": [
        "1+2;\n",
        "3*4;"
      ],
      "execution_count": null,
      "outputs": []
    },
    {
      "metadata": {
        "id": "N6b4adOxllfR"
      },
      "cell_type": "markdown",
      "source": [
        "### Data types"
      ]
    },
    {
      "metadata": {
        "id": "13XUEVdCllfR"
      },
      "cell_type": "markdown",
      "source": [
        "Throughout the class, we will mostly work with the following four variable types. We will frequently use the arrays (with `numpy` module) to handle vectors and matrices. These four types are the building bits for the arrays."
      ]
    },
    {
      "metadata": {
        "id": "TRViTqnLllfS"
      },
      "cell_type": "code",
      "source": [
        "flag = True     # boolean variable\n",
        "clid = 370      # integer variable\n",
        "temp = 25.1     # float variable\n",
        "dept = 'EE'     # string variable"
      ],
      "execution_count": null,
      "outputs": []
    },
    {
      "metadata": {
        "id": "KZ0ZNR9wllfU"
      },
      "cell_type": "markdown",
      "source": [
        "You can check which type a specific variable is, by"
      ]
    },
    {
      "metadata": {
        "id": "xh8i_njellfU",
        "outputId": "9002fb29-849f-45dd-f31f-d4c7d3ceadb6",
        "colab": {
          "base_uri": "https://localhost:8080/"
        }
      },
      "cell_type": "code",
      "source": [
        "type(flag), type(clid), type(temp), type(dept)"
      ],
      "execution_count": null,
      "outputs": [
        {
          "output_type": "execute_result",
          "data": {
            "text/plain": [
              "(bool, int, float, str)"
            ]
          },
          "metadata": {},
          "execution_count": 7
        }
      ]
    },
    {
      "metadata": {
        "id": "uWU1ofrhllfW"
      },
      "cell_type": "markdown",
      "source": [
        "or explicitly print them as follows."
      ]
    },
    {
      "metadata": {
        "id": "m_7ifK_pllfW",
        "outputId": "73620ee2-1c42-4b4f-cf97-8041a914f50e",
        "colab": {
          "base_uri": "https://localhost:8080/"
        }
      },
      "cell_type": "code",
      "source": [
        "print(flag)\n",
        "print(clid)\n",
        "print(temp)\n",
        "print(dept)"
      ],
      "execution_count": null,
      "outputs": [
        {
          "output_type": "stream",
          "name": "stdout",
          "text": [
            "True\n",
            "370\n",
            "25.1\n",
            "EE\n"
          ]
        }
      ]
    },
    {
      "metadata": {
        "id": "mhDoJz_KllfY"
      },
      "cell_type": "markdown",
      "source": [
        "### Basic operators"
      ]
    },
    {
      "metadata": {
        "id": "jDh72vhQllfY"
      },
      "cell_type": "markdown",
      "source": [
        "In Python, there are different types of **operators** (special symbols) that operate on different values. Some of the basic operators include:\n",
        "\n",
        "- arithmetic operators\n",
        "  - **`+`** (addition)\n",
        "  - **`-`** (subtraction)\n",
        "  - **`*`** (multiplication)\n",
        "  - **`/`** (division)\n",
        "  - __`**`__ (exponent)\n",
        "- assignment operators\n",
        "  - **`=`** (assign a value)\n",
        "  - **`+=`** (add and re-assign; increment)\n",
        "  - **`-=`** (subtract and re-assign; decrement)\n",
        "  - **`*=`** (multiply and re-assign)\n",
        "- comparison operators (return either `True` or `False`)\n",
        "  - **`==`** (equal to)\n",
        "  - **`!=`** (not equal to)\n",
        "  - **`<`** (less than)\n",
        "  - **`<=`** (less than or equal to)\n",
        "  - **`>`** (greater than)\n",
        "  - **`>=`** (greater than or equal to)\n",
        "\n"
      ]
    },
    {
      "metadata": {
        "id": "24AI_jHqllfZ"
      },
      "cell_type": "markdown",
      "source": [
        "For integer variables, you will see a couple more complicated division-related operations.\n",
        "\n",
        "- `/` (true division)\n",
        "- `//` (floor division)\n",
        "- `%` (modulo operation)\n",
        "\n",
        "For example you can say something like"
      ]
    },
    {
      "metadata": {
        "id": "toMmdm7UllfZ",
        "outputId": "7d769704-e069-4cb7-e85f-2f0601b909a1",
        "colab": {
          "base_uri": "https://localhost:8080/"
        }
      },
      "cell_type": "code",
      "source": [
        "( 2 * clid + 10 ) % 4"
      ],
      "execution_count": null,
      "outputs": [
        {
          "output_type": "execute_result",
          "data": {
            "text/plain": [
              "2"
            ]
          },
          "metadata": {},
          "execution_count": 9
        }
      ]
    },
    {
      "metadata": {
        "id": "JiQEMvwillfb"
      },
      "cell_type": "markdown",
      "source": [
        "Integer division (floor division) and float division (true division) are different, so"
      ]
    },
    {
      "metadata": {
        "id": "H-cUcZnmllfc",
        "outputId": "f07a901f-be40-4590-baaa-d9c9c525de8a",
        "colab": {
          "base_uri": "https://localhost:8080/"
        }
      },
      "cell_type": "code",
      "source": [
        "print(7/2)    # true division\n",
        "print(7//2)   # floor division"
      ],
      "execution_count": null,
      "outputs": [
        {
          "output_type": "stream",
          "name": "stdout",
          "text": [
            "3.5\n",
            "3\n"
          ]
        }
      ]
    },
    {
      "metadata": {
        "id": "2mFNK1ldllfd"
      },
      "cell_type": "markdown",
      "source": [
        "For floating point numbers, you can say something like"
      ]
    },
    {
      "metadata": {
        "id": "98yqWc6Jllfe",
        "outputId": "f054d3dc-d677-458f-f1f3-69e45eaaa1ef",
        "colab": {
          "base_uri": "https://localhost:8080/"
        }
      },
      "cell_type": "code",
      "source": [
        "temp_in_f = 1.8 * temp + 32\n",
        "print(temp_in_f)"
      ],
      "execution_count": null,
      "outputs": [
        {
          "output_type": "stream",
          "name": "stdout",
          "text": [
            "77.18\n"
          ]
        }
      ]
    },
    {
      "metadata": {
        "id": "cYprbsPVllfg"
      },
      "cell_type": "markdown",
      "source": [
        "which is pretty intuitive."
      ]
    },
    {
      "metadata": {
        "id": "4nVgMO7z0T2I"
      },
      "cell_type": "markdown",
      "source": [
        "You can put `j` or `J` after a number to make it imaginary, so you can write complex literals easily. More to come when we will talk about python modules, including `numpy` or `cmath`.\n"
      ]
    },
    {
      "metadata": {
        "id": "ZLgN_n9Q0X1e",
        "outputId": "052ea528-d9f5-4ef9-b2c0-d16a4473f43a",
        "colab": {
          "base_uri": "https://localhost:8080/"
        }
      },
      "cell_type": "code",
      "source": [
        "1j*1j"
      ],
      "execution_count": null,
      "outputs": [
        {
          "output_type": "execute_result",
          "data": {
            "text/plain": [
              "(-1+0j)"
            ]
          },
          "metadata": {},
          "execution_count": 12
        }
      ]
    },
    {
      "metadata": {
        "id": "siuiwIk00eml",
        "outputId": "3572e43d-8978-457b-e8db-a1356771b17c",
        "colab": {
          "base_uri": "https://localhost:8080/"
        }
      },
      "cell_type": "code",
      "source": [
        "a = 3+4j\n",
        "print (a.real)\n",
        "print (a.imag)\n",
        "print (a.conjugate())\n",
        "print (abs(a))"
      ],
      "execution_count": null,
      "outputs": [
        {
          "output_type": "stream",
          "name": "stdout",
          "text": [
            "3.0\n",
            "4.0\n",
            "(3-4j)\n",
            "5.0\n"
          ]
        }
      ]
    },
    {
      "metadata": {
        "id": "3_GFlF7sllfg"
      },
      "cell_type": "markdown",
      "source": [
        "Assignment operators including increment/decrement operators can be used just like other programming languages."
      ]
    },
    {
      "metadata": {
        "id": "MWQwrvR1llfg",
        "outputId": "ebe3317d-f074-4bc3-c17f-b56edf722cbf",
        "colab": {
          "base_uri": "https://localhost:8080/"
        }
      },
      "cell_type": "code",
      "source": [
        "num1 = temp_in_f\n",
        "print(num1)\n",
        "\n",
        "num1 += 10    # add and reassign\n",
        "print(num1)\n",
        "\n",
        "num1 -= 10    # subtract and reassign\n",
        "print(num1)\n",
        "\n",
        "num1 *= 2     # multiply and reassign\n",
        "print(num1)\n",
        "\n",
        "num1 /= 2     # divide and reassign\n",
        "print(num1)"
      ],
      "execution_count": null,
      "outputs": [
        {
          "output_type": "stream",
          "name": "stdout",
          "text": [
            "77.18\n",
            "87.18\n",
            "77.18\n",
            "154.36\n",
            "77.18\n"
          ]
        }
      ]
    },
    {
      "metadata": {
        "id": "txXwpJL6llfi"
      },
      "cell_type": "markdown",
      "source": [
        "Now the comparison operators:"
      ]
    },
    {
      "metadata": {
        "id": "gavX8xf1llfj",
        "outputId": "2256e8db-4404-4408-b73c-95a37d3106c2",
        "colab": {
          "base_uri": "https://localhost:8080/"
        }
      },
      "cell_type": "code",
      "source": [
        "num2 = 77\n",
        "\n",
        "print(num1 == num2)  # should be False\n",
        "\n",
        "print(num1 != num2)  # should be True\n",
        "\n",
        "print(num1 < num2)   # should be False\n",
        "\n",
        "print(num1 >= num2)  # should be True"
      ],
      "execution_count": null,
      "outputs": [
        {
          "output_type": "stream",
          "name": "stdout",
          "text": [
            "False\n",
            "True\n",
            "False\n",
            "True\n"
          ]
        }
      ]
    },
    {
      "metadata": {
        "id": "SK5Zjfdellfm"
      },
      "cell_type": "markdown",
      "source": [
        "This looks a bit awkward but also works."
      ]
    },
    {
      "metadata": {
        "id": "NRCqG9h0llfn",
        "outputId": "b4ded821-6e1b-45e5-95e1-e4bd013b8a80",
        "colab": {
          "base_uri": "https://localhost:8080/"
        }
      },
      "cell_type": "code",
      "source": [
        "5 > 3 > 4"
      ],
      "execution_count": null,
      "outputs": [
        {
          "output_type": "execute_result",
          "data": {
            "text/plain": [
              "False"
            ]
          },
          "metadata": {},
          "execution_count": 16
        }
      ]
    },
    {
      "metadata": {
        "id": "ZOiB-BZyllfp"
      },
      "cell_type": "markdown",
      "source": [
        "or,"
      ]
    },
    {
      "metadata": {
        "id": "xkt_HE1sllfp",
        "outputId": "0b8a1e18-3bf2-4329-9aad-673a0926e907",
        "colab": {
          "base_uri": "https://localhost:8080/"
        }
      },
      "cell_type": "code",
      "source": [
        "5 > 3 < 4 == 1 + 3"
      ],
      "execution_count": null,
      "outputs": [
        {
          "output_type": "execute_result",
          "data": {
            "text/plain": [
              "True"
            ]
          },
          "metadata": {},
          "execution_count": 17
        }
      ]
    },
    {
      "metadata": {
        "id": "-TGsJcXBllfr"
      },
      "cell_type": "markdown",
      "source": [
        "Python implements all of the usual operators for Boolean logic."
      ]
    },
    {
      "metadata": {
        "id": "aDcbpRv1llfr",
        "outputId": "0844f267-086b-42aa-d84f-05f883acebb4",
        "colab": {
          "base_uri": "https://localhost:8080/"
        }
      },
      "cell_type": "code",
      "source": [
        "t, f = True, False\n",
        "type(t)"
      ],
      "execution_count": null,
      "outputs": [
        {
          "output_type": "execute_result",
          "data": {
            "text/plain": [
              "bool"
            ]
          },
          "metadata": {},
          "execution_count": 18
        }
      ]
    },
    {
      "metadata": {
        "id": "MadFPHyZllft",
        "outputId": "c08e95af-eec7-4434-a957-4b84b7200b16",
        "colab": {
          "base_uri": "https://localhost:8080/"
        }
      },
      "cell_type": "code",
      "source": [
        "print(t and f) # Logical AND;\n",
        "print(t or f)  # Logical OR;\n",
        "print(not t)   # Logical NOT;\n",
        "print(t != f)  # Logical XOR;"
      ],
      "execution_count": null,
      "outputs": [
        {
          "output_type": "stream",
          "name": "stdout",
          "text": [
            "False\n",
            "True\n",
            "False\n",
            "True\n"
          ]
        }
      ]
    },
    {
      "metadata": {
        "id": "moEePcxqllfu"
      },
      "cell_type": "markdown",
      "source": [
        "The followings also work."
      ]
    },
    {
      "metadata": {
        "id": "6X4ugf-Yllfu",
        "outputId": "51040ed5-f2c5-4629-d6a4-ed479e97b4d3",
        "colab": {
          "base_uri": "https://localhost:8080/"
        }
      },
      "cell_type": "code",
      "source": [
        "print(t & f) # Logical AND;\n",
        "print(t | f)  # Logical OR;\n",
        "print(not(t))   # Logical NOT;"
      ],
      "execution_count": null,
      "outputs": [
        {
          "output_type": "stream",
          "name": "stdout",
          "text": [
            "False\n",
            "True\n",
            "False\n"
          ]
        }
      ]
    },
    {
      "metadata": {
        "id": "K_DmsH3Gllfw"
      },
      "cell_type": "markdown",
      "source": [
        "Some similar operations can be intuitively done on string variables."
      ]
    },
    {
      "metadata": {
        "id": "2xDOwBrpllfw",
        "outputId": "f6c1b1b2-007f-47b9-b9ab-bbf246996e8c",
        "colab": {
          "base_uri": "https://localhost:8080/",
          "height": 35
        }
      },
      "cell_type": "code",
      "source": [
        "2*dept"
      ],
      "execution_count": null,
      "outputs": [
        {
          "output_type": "execute_result",
          "data": {
            "text/plain": [
              "'EEEE'"
            ],
            "application/vnd.google.colaboratory.intrinsic+json": {
              "type": "string"
            }
          },
          "metadata": {},
          "execution_count": 21
        }
      ]
    },
    {
      "metadata": {
        "id": "cL2sb0Qzllfx",
        "outputId": "cef2322a-22da-4cb2-fd52-39a9d4867818",
        "colab": {
          "base_uri": "https://localhost:8080/",
          "height": 35
        }
      },
      "cell_type": "code",
      "source": [
        "dept + ' stands for Electronic Engineering'"
      ],
      "execution_count": null,
      "outputs": [
        {
          "output_type": "execute_result",
          "data": {
            "text/plain": [
              "'EE stands for Electronic Engineering'"
            ],
            "application/vnd.google.colaboratory.intrinsic+json": {
              "type": "string"
            }
          },
          "metadata": {},
          "execution_count": 22
        }
      ]
    },
    {
      "metadata": {
        "id": "fNaH-fkJllfy"
      },
      "cell_type": "markdown",
      "source": [
        "However, different types of varaibles can not be added (concatenated)."
      ]
    },
    {
      "metadata": {
        "id": "KHp_8wIcllfz"
      },
      "cell_type": "code",
      "source": [
        "# classname = dept + clid    # attempt to add a string and an integer"
      ],
      "execution_count": null,
      "outputs": []
    },
    {
      "metadata": {
        "id": "FBbs3iQtllf0"
      },
      "cell_type": "markdown",
      "source": [
        "You can do what you wanted by using `repr()` function that returns a string representation of a number."
      ]
    },
    {
      "metadata": {
        "id": "S6xcgB50llf0",
        "outputId": "8ecad6f0-bc35-43dc-ea7e-4c511259a870",
        "colab": {
          "base_uri": "https://localhost:8080/"
        }
      },
      "cell_type": "code",
      "source": [
        "classname = dept + repr(clid)\n",
        "print(classname)"
      ],
      "execution_count": null,
      "outputs": [
        {
          "output_type": "stream",
          "name": "stdout",
          "text": [
            "EE370\n"
          ]
        }
      ]
    },
    {
      "metadata": {
        "id": "garMR79Tllf1"
      },
      "cell_type": "markdown",
      "source": [
        "or, by using `f'...string...'` which stands for 'formatted string'."
      ]
    },
    {
      "metadata": {
        "id": "qlnbrETOllf2",
        "outputId": "35ca32d4-8c02-4224-8b0f-dc1bdd5b01de",
        "colab": {
          "base_uri": "https://localhost:8080/"
        }
      },
      "cell_type": "code",
      "source": [
        "classid = f'The class ID for Software Lab is {dept}{clid}.'\n",
        "print(classid)"
      ],
      "execution_count": null,
      "outputs": [
        {
          "output_type": "stream",
          "name": "stdout",
          "text": [
            "The class ID for Software Lab is EE370.\n"
          ]
        }
      ]
    },
    {
      "metadata": {
        "id": "S45IMdpFllf3"
      },
      "cell_type": "markdown",
      "source": [
        "### tmi"
      ]
    },
    {
      "metadata": {
        "id": "q3uliTgmllf3"
      },
      "cell_type": "markdown",
      "source": [
        "These builtin functions for string variables are not interesting, but sometimes can be useful."
      ]
    },
    {
      "metadata": {
        "id": "9M0recWellf4",
        "outputId": "4d91fdbb-5d68-482b-f444-1da77832d112",
        "colab": {
          "base_uri": "https://localhost:8080/",
          "height": 35
        }
      },
      "cell_type": "code",
      "source": [
        "classid.capitalize()"
      ],
      "execution_count": null,
      "outputs": [
        {
          "output_type": "execute_result",
          "data": {
            "text/plain": [
              "'The class id for software lab is ee370.'"
            ],
            "application/vnd.google.colaboratory.intrinsic+json": {
              "type": "string"
            }
          },
          "metadata": {},
          "execution_count": 26
        }
      ]
    },
    {
      "metadata": {
        "id": "SLo6g3e4llf5",
        "outputId": "e9f12820-8909-419f-b907-2be271bbdc31",
        "colab": {
          "base_uri": "https://localhost:8080/",
          "height": 35
        }
      },
      "cell_type": "code",
      "source": [
        "classid.upper()"
      ],
      "execution_count": null,
      "outputs": [
        {
          "output_type": "execute_result",
          "data": {
            "text/plain": [
              "'THE CLASS ID FOR SOFTWARE LAB IS EE370.'"
            ],
            "application/vnd.google.colaboratory.intrinsic+json": {
              "type": "string"
            }
          },
          "metadata": {},
          "execution_count": 27
        }
      ]
    },
    {
      "metadata": {
        "id": "wPknY1tBllf6",
        "outputId": "74fa0ece-7841-4497-c274-19444310265b",
        "colab": {
          "base_uri": "https://localhost:8080/",
          "height": 35
        }
      },
      "cell_type": "code",
      "source": [
        "classid.lower()"
      ],
      "execution_count": null,
      "outputs": [
        {
          "output_type": "execute_result",
          "data": {
            "text/plain": [
              "'the class id for software lab is ee370.'"
            ],
            "application/vnd.google.colaboratory.intrinsic+json": {
              "type": "string"
            }
          },
          "metadata": {},
          "execution_count": 28
        }
      ]
    },
    {
      "metadata": {
        "id": "UG2ujmUdllf7",
        "outputId": "e0fcc6be-1da8-4f4a-bb81-a8f89732e596",
        "colab": {
          "base_uri": "https://localhost:8080/",
          "height": 35
        }
      },
      "cell_type": "code",
      "source": [
        "classid.replace('EE', 'CS')"
      ],
      "execution_count": null,
      "outputs": [
        {
          "output_type": "execute_result",
          "data": {
            "text/plain": [
              "'The class ID for Software Lab is CS370.'"
            ],
            "application/vnd.google.colaboratory.intrinsic+json": {
              "type": "string"
            }
          },
          "metadata": {},
          "execution_count": 29
        }
      ]
    },
    {
      "metadata": {
        "id": "3uf87d50llf8"
      },
      "cell_type": "markdown",
      "source": [
        "### List"
      ]
    },
    {
      "metadata": {
        "id": "VbZSNarellf9"
      },
      "cell_type": "markdown",
      "source": [
        "We will frequently use a specific type of containers called `list`, which can be used to handle a list of numbers."
      ]
    },
    {
      "metadata": {
        "id": "PCeGH0RZllf9",
        "outputId": "9323a0a7-48ce-49b0-93d9-29534858be27",
        "colab": {
          "base_uri": "https://localhost:8080/"
        }
      },
      "cell_type": "code",
      "source": [
        "a = [1,3,4,8,2,5,9,7,6]   # this is a list\n",
        "print(a)"
      ],
      "execution_count": null,
      "outputs": [
        {
          "output_type": "stream",
          "name": "stdout",
          "text": [
            "[1, 3, 4, 8, 2, 5, 9, 7, 6]\n"
          ]
        }
      ]
    },
    {
      "metadata": {
        "id": "-IuIL4Bdllf-",
        "outputId": "85dc6ed8-945d-407c-f890-70213376b43d",
        "colab": {
          "base_uri": "https://localhost:8080/"
        }
      },
      "cell_type": "code",
      "source": [
        "type(a)"
      ],
      "execution_count": null,
      "outputs": [
        {
          "output_type": "execute_result",
          "data": {
            "text/plain": [
              "list"
            ]
          },
          "metadata": {},
          "execution_count": 31
        }
      ]
    },
    {
      "metadata": {
        "id": "pZtHmS-9llf_"
      },
      "cell_type": "markdown",
      "source": [
        "`len(a)` gives you the length (the number of elements) of it"
      ]
    },
    {
      "metadata": {
        "id": "Nrf1R9IbllgA",
        "outputId": "193ebe79-f6f9-4f45-830f-13fc5ae71f9a",
        "colab": {
          "base_uri": "https://localhost:8080/"
        }
      },
      "cell_type": "code",
      "source": [
        "len(a)"
      ],
      "execution_count": null,
      "outputs": [
        {
          "output_type": "execute_result",
          "data": {
            "text/plain": [
              "9"
            ]
          },
          "metadata": {},
          "execution_count": 32
        }
      ]
    },
    {
      "metadata": {
        "id": "DpeE-7nqllgB"
      },
      "cell_type": "markdown",
      "source": [
        "Be careful. `a*2` does not multiply its elements by `2`, but it duplicates and concatenates the list."
      ]
    },
    {
      "metadata": {
        "id": "p8i6yyIfllgB",
        "outputId": "649b1839-3690-431c-edfe-8d9eb5cd23d2",
        "colab": {
          "base_uri": "https://localhost:8080/"
        }
      },
      "cell_type": "code",
      "source": [
        "a*2"
      ],
      "execution_count": null,
      "outputs": [
        {
          "output_type": "execute_result",
          "data": {
            "text/plain": [
              "[1, 3, 4, 8, 2, 5, 9, 7, 6, 1, 3, 4, 8, 2, 5, 9, 7, 6]"
            ]
          },
          "metadata": {},
          "execution_count": 33
        }
      ]
    },
    {
      "metadata": {
        "id": "B_dRNpIHllgC",
        "outputId": "47dd3ee9-9d8a-4a68-d4c3-b63e7f909f48",
        "colab": {
          "base_uri": "https://localhost:8080/"
        }
      },
      "cell_type": "code",
      "source": [
        "a+a"
      ],
      "execution_count": null,
      "outputs": [
        {
          "output_type": "execute_result",
          "data": {
            "text/plain": [
              "[1, 3, 4, 8, 2, 5, 9, 7, 6, 1, 3, 4, 8, 2, 5, 9, 7, 6]"
            ]
          },
          "metadata": {},
          "execution_count": 34
        }
      ]
    },
    {
      "metadata": {
        "id": "jhHTWSslllgD"
      },
      "cell_type": "markdown",
      "source": [
        "Elements of `a` can be accessed by `a[...]`."
      ]
    },
    {
      "metadata": {
        "id": "hAJWQikfllgE",
        "outputId": "c033eafa-f3c1-45be-ecf1-5635ae0cff4c",
        "colab": {
          "base_uri": "https://localhost:8080/"
        }
      },
      "cell_type": "code",
      "source": [
        "a"
      ],
      "execution_count": null,
      "outputs": [
        {
          "output_type": "execute_result",
          "data": {
            "text/plain": [
              "[1, 3, 4, 8, 2, 5, 9, 7, 6]"
            ]
          },
          "metadata": {},
          "execution_count": 35
        }
      ]
    },
    {
      "metadata": {
        "id": "AUnYmp_qllgF",
        "outputId": "a8121a80-96a3-46f9-c9a0-da89a0943e14",
        "colab": {
          "base_uri": "https://localhost:8080/"
        }
      },
      "cell_type": "code",
      "source": [
        "a[0]   # accessing the first element"
      ],
      "execution_count": null,
      "outputs": [
        {
          "output_type": "execute_result",
          "data": {
            "text/plain": [
              "1"
            ]
          },
          "metadata": {},
          "execution_count": 36
        }
      ]
    },
    {
      "metadata": {
        "id": "GC_iqlvillgG",
        "outputId": "a0a7415f-aeae-46a7-bfa4-caefc80f4b37",
        "colab": {
          "base_uri": "https://localhost:8080/"
        }
      },
      "cell_type": "code",
      "source": [
        "a[-1]   # accessing the last element"
      ],
      "execution_count": null,
      "outputs": [
        {
          "output_type": "execute_result",
          "data": {
            "text/plain": [
              "6"
            ]
          },
          "metadata": {},
          "execution_count": 37
        }
      ]
    },
    {
      "metadata": {
        "id": "OwUKQ4scllgH"
      },
      "cell_type": "markdown",
      "source": [
        "A range of elements in a list can be specified by `a[start_index:end_index:step_size]`."
      ]
    },
    {
      "metadata": {
        "id": "YzVHOPLallgI",
        "outputId": "5f538a1b-e83f-4d52-c036-f0d866fe6202",
        "colab": {
          "base_uri": "https://localhost:8080/"
        }
      },
      "cell_type": "code",
      "source": [
        "a[1:6:1]   # accessing the elements from index 1 up to (but not including) index 6, with step size of 1"
      ],
      "execution_count": null,
      "outputs": [
        {
          "output_type": "execute_result",
          "data": {
            "text/plain": [
              "[3, 4, 8, 2, 5]"
            ]
          },
          "metadata": {},
          "execution_count": 38
        }
      ]
    },
    {
      "metadata": {
        "id": "L7SwYPQxllgJ"
      },
      "cell_type": "markdown",
      "source": [
        "The default value of the `step_size` is `1`, so omitting it results in,"
      ]
    },
    {
      "metadata": {
        "id": "rNccq4mqllgJ",
        "outputId": "b3d0f47c-32fd-41fa-efef-f2295026a1e8",
        "colab": {
          "base_uri": "https://localhost:8080/"
        }
      },
      "cell_type": "code",
      "source": [
        "a[1:6:]"
      ],
      "execution_count": null,
      "outputs": [
        {
          "output_type": "execute_result",
          "data": {
            "text/plain": [
              "[3, 4, 8, 2, 5]"
            ]
          },
          "metadata": {},
          "execution_count": 39
        }
      ]
    },
    {
      "metadata": {
        "id": "SMqjeT0pllgK"
      },
      "cell_type": "markdown",
      "source": [
        "or simply,"
      ]
    },
    {
      "metadata": {
        "id": "ACmhtD35llgK",
        "outputId": "f5b00fe2-265d-4df5-a6fb-95ac06370ae3",
        "colab": {
          "base_uri": "https://localhost:8080/"
        }
      },
      "cell_type": "code",
      "source": [
        "a[1:6]"
      ],
      "execution_count": null,
      "outputs": [
        {
          "output_type": "execute_result",
          "data": {
            "text/plain": [
              "[3, 4, 8, 2, 5]"
            ]
          },
          "metadata": {},
          "execution_count": 40
        }
      ]
    },
    {
      "metadata": {
        "id": "JxQ53ExZllgM"
      },
      "cell_type": "markdown",
      "source": [
        "Or with non-default values,"
      ]
    },
    {
      "metadata": {
        "id": "p-goUmvRllgN",
        "outputId": "a2558dda-0653-4513-e327-f9f0a874e2f2",
        "colab": {
          "base_uri": "https://localhost:8080/"
        }
      },
      "cell_type": "code",
      "source": [
        "a[1:6:2]   # accessing the elements from index 1 up to (but not including) index 6, with steps specified by 2"
      ],
      "execution_count": null,
      "outputs": [
        {
          "output_type": "execute_result",
          "data": {
            "text/plain": [
              "[3, 8, 5]"
            ]
          },
          "metadata": {},
          "execution_count": 41
        }
      ]
    },
    {
      "metadata": {
        "id": "ycx6pKezllgO"
      },
      "cell_type": "markdown",
      "source": [
        "Omitting `start_index` implies 'from the first element', and omitting `end_index` implies 'up to the last element', so omitting every argument will give you the entire list."
      ]
    },
    {
      "metadata": {
        "id": "MiV0U-H1llgO",
        "outputId": "3abf9339-9809-402f-b4b3-52cf38ff0b08",
        "colab": {
          "base_uri": "https://localhost:8080/"
        }
      },
      "cell_type": "code",
      "source": [
        "a[::]"
      ],
      "execution_count": null,
      "outputs": [
        {
          "output_type": "execute_result",
          "data": {
            "text/plain": [
              "[1, 3, 4, 8, 2, 5, 9, 7, 6]"
            ]
          },
          "metadata": {},
          "execution_count": 42
        }
      ]
    },
    {
      "metadata": {
        "id": "5ACTPchlllgP",
        "outputId": "b9537be1-c22b-493a-81e1-eb5feca4873f",
        "colab": {
          "base_uri": "https://localhost:8080/"
        }
      },
      "cell_type": "code",
      "source": [
        "a[::3]"
      ],
      "execution_count": null,
      "outputs": [
        {
          "output_type": "execute_result",
          "data": {
            "text/plain": [
              "[1, 8, 9]"
            ]
          },
          "metadata": {},
          "execution_count": 43
        }
      ]
    },
    {
      "metadata": {
        "id": "dOSvlmurllgQ",
        "outputId": "1e144798-e836-45c7-ee8b-a871136b9da3",
        "colab": {
          "base_uri": "https://localhost:8080/"
        }
      },
      "cell_type": "code",
      "source": [
        "a[2::3]"
      ],
      "execution_count": null,
      "outputs": [
        {
          "output_type": "execute_result",
          "data": {
            "text/plain": [
              "[4, 5, 6]"
            ]
          },
          "metadata": {},
          "execution_count": 44
        }
      ]
    },
    {
      "metadata": {
        "id": "VGOAe7uWllgR"
      },
      "cell_type": "markdown",
      "source": [
        "Different types can be contained in a single `list` container, but we will rarely use it in this class."
      ]
    },
    {
      "metadata": {
        "id": "fpPyFfhfllgR",
        "outputId": "c8a8aa50-5b5b-42c5-d92d-470e4efb20ac",
        "colab": {
          "base_uri": "https://localhost:8080/"
        }
      },
      "cell_type": "code",
      "source": [
        "b = [1,3,'four',8]\n",
        "print(b)"
      ],
      "execution_count": null,
      "outputs": [
        {
          "output_type": "stream",
          "name": "stdout",
          "text": [
            "[1, 3, 'four', 8]\n"
          ]
        }
      ]
    },
    {
      "metadata": {
        "id": "NWijgAOMllgS"
      },
      "cell_type": "markdown",
      "source": [
        "### Range"
      ]
    },
    {
      "metadata": {
        "id": "HWpWI7cIllgS"
      },
      "cell_type": "markdown",
      "source": [
        "We can define a list of discrete values on a range. `range(numer_from,number_to,step_size)` generates integers from `number_from` up to (but not including) `number_to` with step size of `step_size`, so,"
      ]
    },
    {
      "metadata": {
        "id": "bgCbPs4dllgT",
        "outputId": "2071d0a0-d8bf-465e-c2dc-495f92ca068c",
        "colab": {
          "base_uri": "https://localhost:8080/"
        }
      },
      "cell_type": "code",
      "source": [
        "a = range(0,10,1)\n",
        "list(a)"
      ],
      "execution_count": null,
      "outputs": [
        {
          "output_type": "execute_result",
          "data": {
            "text/plain": [
              "[0, 1, 2, 3, 4, 5, 6, 7, 8, 9]"
            ]
          },
          "metadata": {},
          "execution_count": 46
        }
      ]
    },
    {
      "metadata": {
        "id": "y8kRPkiullgU"
      },
      "cell_type": "markdown",
      "source": [
        "The default value of `number_from` is `0`, and the default of the `step_size` is `1`, so  "
      ]
    },
    {
      "metadata": {
        "id": "yLZoaDa6llgU",
        "outputId": "4875641e-b95f-4641-e7e2-99dade05993d",
        "colab": {
          "base_uri": "https://localhost:8080/"
        }
      },
      "cell_type": "code",
      "source": [
        "a = range(10)\n",
        "list(a)"
      ],
      "execution_count": null,
      "outputs": [
        {
          "output_type": "execute_result",
          "data": {
            "text/plain": [
              "[0, 1, 2, 3, 4, 5, 6, 7, 8, 9]"
            ]
          },
          "metadata": {},
          "execution_count": 47
        }
      ]
    },
    {
      "metadata": {
        "id": "X8bquaNZllgW"
      },
      "cell_type": "markdown",
      "source": [
        "Or with non-default values, you will see,"
      ]
    },
    {
      "metadata": {
        "id": "9H8VkUTlllgW",
        "outputId": "cf68b98e-0ab8-436f-faca-7a820a683251",
        "colab": {
          "base_uri": "https://localhost:8080/"
        }
      },
      "cell_type": "code",
      "source": [
        "a = range(3,20)\n",
        "list(a)"
      ],
      "execution_count": null,
      "outputs": [
        {
          "output_type": "execute_result",
          "data": {
            "text/plain": [
              "[3, 4, 5, 6, 7, 8, 9, 10, 11, 12, 13, 14, 15, 16, 17, 18, 19]"
            ]
          },
          "metadata": {},
          "execution_count": 48
        }
      ]
    },
    {
      "metadata": {
        "id": "cfXlNSbTllgX"
      },
      "cell_type": "markdown",
      "source": [
        "and"
      ]
    },
    {
      "metadata": {
        "id": "Xl8f0H2WllgX",
        "outputId": "8b1e832d-1d02-41c7-93ab-3585134d9035",
        "colab": {
          "base_uri": "https://localhost:8080/"
        }
      },
      "cell_type": "code",
      "source": [
        "a = range(3,20,2)\n",
        "list(a)"
      ],
      "execution_count": null,
      "outputs": [
        {
          "output_type": "execute_result",
          "data": {
            "text/plain": [
              "[3, 5, 7, 9, 11, 13, 15, 17, 19]"
            ]
          },
          "metadata": {},
          "execution_count": 49
        }
      ]
    },
    {
      "metadata": {
        "id": "FfUfaFaUllgY"
      },
      "cell_type": "markdown",
      "source": [
        "### For loops"
      ]
    },
    {
      "metadata": {
        "id": "wNNlaO48llgZ"
      },
      "cell_type": "markdown",
      "source": [
        "It is easy to iterate over `list` or `range` using a for loop.\n",
        "\n",
        "The for loop will go through the elements in the specified list, one item at a time, and provide a temporary variable for the current item. You can use this temporary variable like a normal variable.\n",
        "\n",
        "> Note that the command statements under `for` statement (or other control statements) are grouped by indentation (typically by tab), and no grouping brackets `{...}` or `end` are needed."
      ]
    },
    {
      "metadata": {
        "id": "tjSL3NBTllgZ",
        "outputId": "77cc180a-2980-42c8-f2d6-f9080e948866",
        "colab": {
          "base_uri": "https://localhost:8080/"
        }
      },
      "cell_type": "code",
      "source": [
        "a = range(0,100,7)\n",
        "\n",
        "for i in a:\n",
        "    i_squared = i*i\n",
        "    print(i_squared)"
      ],
      "execution_count": null,
      "outputs": [
        {
          "output_type": "stream",
          "name": "stdout",
          "text": [
            "0\n",
            "49\n",
            "196\n",
            "441\n",
            "784\n",
            "1225\n",
            "1764\n",
            "2401\n",
            "3136\n",
            "3969\n",
            "4900\n",
            "5929\n",
            "7056\n",
            "8281\n",
            "9604\n"
          ]
        }
      ]
    },
    {
      "metadata": {
        "id": "01Ot68Pkllga"
      },
      "cell_type": "markdown",
      "source": [
        "### Control statements"
      ]
    },
    {
      "metadata": {
        "id": "V98bT9gvllga"
      },
      "cell_type": "markdown",
      "source": [
        "Conditional expressions can be used with these two conditional statements.\n",
        "\n",
        "The `if` statement allows you to test a condition and perform some actions if the condition evaluates to `True`. You can also provide `elif` and/or `else` clauses to an if statement to take alternative actions if the condition evaluates to `False`.\n",
        "\n",
        "The `while` loop will keep looping until its conditional expression evaluates to `False`.\n",
        "\n",
        "> Note: It is possible to \"loop forever\" when using a while loop with a conditional expression that never evaluates to `False`.\n",
        ">\n",
        "> Note: Since the **for loop** will iterate over a container of items until there are no more, there is no need to specify a \"stop looping\" condition."
      ]
    },
    {
      "metadata": {
        "id": "IdJI7Gytllgb",
        "outputId": "5277c25e-96bb-4f66-ce68-ac698975405f",
        "colab": {
          "base_uri": "https://localhost:8080/"
        }
      },
      "cell_type": "code",
      "source": [
        "value = 9\n",
        "\n",
        "# Controlling what happens next with if-elif-else\n",
        "if (value < 5):\n",
        "    explanation = 'less than 5'\n",
        "    value = 10\n",
        "elif (value == 5):\n",
        "    explanation = 'equal to 5'\n",
        "    value = 15\n",
        "else:\n",
        "    explanation = 'greater than 5'\n",
        "    value = 20\n",
        "\n",
        "print(value) # what should this be?\n",
        "print(explanation)"
      ],
      "execution_count": null,
      "outputs": [
        {
          "output_type": "stream",
          "name": "stdout",
          "text": [
            "20\n",
            "greater than 5\n"
          ]
        }
      ]
    },
    {
      "metadata": {
        "id": "bKt6CdbPllgc",
        "outputId": "f316b471-30c1-4150-b28e-d8f6aca332ad",
        "colab": {
          "base_uri": "https://localhost:8080/"
        }
      },
      "cell_type": "code",
      "source": [
        "i = 0\n",
        "while (i<100):\n",
        "    print(i**2)\n",
        "    i += 7"
      ],
      "execution_count": null,
      "outputs": [
        {
          "output_type": "stream",
          "name": "stdout",
          "text": [
            "0\n",
            "49\n",
            "196\n",
            "441\n",
            "784\n",
            "1225\n",
            "1764\n",
            "2401\n",
            "3136\n",
            "3969\n",
            "4900\n",
            "5929\n",
            "7056\n",
            "8281\n",
            "9604\n"
          ]
        }
      ]
    },
    {
      "metadata": {
        "id": "A7jk2I5yllgd"
      },
      "cell_type": "markdown",
      "source": [
        "### Functions"
      ]
    },
    {
      "metadata": {
        "id": "fuQE0HP6llgd"
      },
      "cell_type": "markdown",
      "source": [
        "Python functions can be defined by using `def` keyword, for example,"
      ]
    },
    {
      "metadata": {
        "id": "dKp3pEuNllgd"
      },
      "cell_type": "code",
      "source": [
        "def sign(x):        # this defines sign() function\n",
        "    if x >= 0:\n",
        "        return 1\n",
        "    else:\n",
        "        return -1"
      ],
      "execution_count": null,
      "outputs": []
    },
    {
      "metadata": {
        "id": "anQ2emo8llge"
      },
      "cell_type": "markdown",
      "source": [
        "Now you guess what the following `for` loop will print."
      ]
    },
    {
      "metadata": {
        "id": "b16cuJVullge",
        "outputId": "8ba6a2f8-eae2-450e-c24b-c1b80d85b746",
        "colab": {
          "base_uri": "https://localhost:8080/"
        }
      },
      "cell_type": "code",
      "source": [
        "for x in range(-5,5):\n",
        "    print(x, sign(x), x*sign(x))"
      ],
      "execution_count": null,
      "outputs": [
        {
          "output_type": "stream",
          "name": "stdout",
          "text": [
            "-5 -1 5\n",
            "-4 -1 4\n",
            "-3 -1 3\n",
            "-2 -1 2\n",
            "-1 -1 1\n",
            "0 1 0\n",
            "1 1 1\n",
            "2 1 2\n",
            "3 1 3\n",
            "4 1 4\n"
          ]
        }
      ]
    },
    {
      "metadata": {
        "id": "PuKtfZkzllge"
      },
      "cell_type": "markdown",
      "source": [
        "`lambda` functions are small functions usually not more than a line. It can have any number of arguments just like a normal function."
      ]
    },
    {
      "metadata": {
        "id": "coN51NKyllgf"
      },
      "cell_type": "code",
      "source": [
        "sqr = lambda x: x**2   # this defines sqr() function"
      ],
      "execution_count": null,
      "outputs": []
    },
    {
      "metadata": {
        "id": "BKG9S8W6llgf",
        "outputId": "35dd30bf-5b2a-41b3-d26e-1dfea1ec1c81",
        "colab": {
          "base_uri": "https://localhost:8080/"
        }
      },
      "cell_type": "code",
      "source": [
        "for x in range(-5,5):\n",
        "    print(x,sqr(x))"
      ],
      "execution_count": null,
      "outputs": [
        {
          "output_type": "stream",
          "name": "stdout",
          "text": [
            "-5 25\n",
            "-4 16\n",
            "-3 9\n",
            "-2 4\n",
            "-1 1\n",
            "0 0\n",
            "1 1\n",
            "2 4\n",
            "3 9\n",
            "4 16\n"
          ]
        }
      ]
    }
  ]
}