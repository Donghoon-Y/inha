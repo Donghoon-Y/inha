{
 "cells": [
  {
   "cell_type": "markdown",
   "id": "4f46c49c",
   "metadata": {
    "deletable": false,
    "editable": false,
    "nbgrader": {
     "cell_type": "markdown",
     "checksum": "34d1778ea98e1d525f0909b8248c7f1b",
     "grade": false,
     "grade_id": "cell-7e1ed028fd887dfd",
     "locked": true,
     "schema_version": 3,
     "solution": false,
     "task": false
    }
   },
   "source": [
    "# Exercise: Root Finding 1\n",
    "**강좌**: *Numerical Analysis*\n",
    "\n",
    "**Due**: 2024/10/1"
   ]
  },
  {
   "cell_type": "markdown",
   "id": "381e5f6a",
   "metadata": {
    "deletable": false,
    "editable": false,
    "nbgrader": {
     "cell_type": "markdown",
     "checksum": "65aed5b0baf8c3ea9192284258b88c40",
     "grade": false,
     "grade_id": "cell-f68fb90ec9f75fe1",
     "locked": true,
     "schema_version": 3,
     "solution": false,
     "task": false
    }
   },
   "source": [
    "## Problem #1\n",
    "Write a function to find a root using the Bisection method with the following specifications:\n",
    "- Use a for loop with a specified maximum number of iterations.\n",
    "- Input parameters\n",
    "   * start and end of the braket (*a* and *b*)\n",
    "   * function *f*\n",
    "   * tolerance *tol*\n",
    "   * maximum iterations *iter_max*\n",
    "   * (Optional) Boolean verbose keyword to print intermediate results. The default is False.\n",
    "- Additionally, include a proper docstring to describe the function's behavior, parameters, and return values."
   ]
  },
  {
   "cell_type": "code",
   "execution_count": null,
   "id": "627f1ba4",
   "metadata": {
    "deletable": false,
    "nbgrader": {
     "cell_type": "code",
     "checksum": "c16f2bca6d097e6d13dc7896073178b9",
     "grade": false,
     "grade_id": "cell-fe271d986d99dd1f",
     "locked": false,
     "schema_version": 3,
     "solution": true,
     "task": false
    }
   },
   "outputs": [],
   "source": [
    "# Write your answer\n",
    "def bisect(a, b, f, tol=1e-6, iter_max=50):\n",
    "    # YOUR CODE HERE\n",
    "    raise NotImplementedError()"
   ]
  },
  {
   "cell_type": "code",
   "execution_count": null,
   "id": "1023b5fa-9c29-4d13-beb8-1150436797f3",
   "metadata": {
    "deletable": false,
    "editable": false,
    "nbgrader": {
     "cell_type": "code",
     "checksum": "26d60f629e4a6639a41c5fd4b6312a11",
     "grade": true,
     "grade_id": "cell-962d2cf9716a6461",
     "locked": true,
     "points": 5,
     "schema_version": 3,
     "solution": false,
     "task": false
    }
   },
   "outputs": [],
   "source": [
    "import numpy as np\n",
    "f = lambda x: x**2 + 10*np.sin(x)\n",
    "\n",
    "assert abs(bisect(-10, -1,  f) - (-2.47948)) < 5e-5\n",
    "assert abs(bisect(-1, 1,  f) - (0.0)) < 1e-6\n",
    "assert abs(bisect(-1, 0,  f) - (0.0)) < 1e-6"
   ]
  },
  {
   "cell_type": "markdown",
   "id": "5ede5245",
   "metadata": {
    "deletable": false,
    "editable": false,
    "nbgrader": {
     "cell_type": "markdown",
     "checksum": "d4836fbcca3d1165bc5c386bccfbda8f",
     "grade": false,
     "grade_id": "cell-cee5d5bcc4cb6723",
     "locked": true,
     "schema_version": 3,
     "solution": false,
     "task": false
    }
   },
   "source": [
    "## Problem #2\n",
    "Write a function to find a root using the False position method with the following specifications:\n",
    "- Use a for loop with a specified maximum number of iterations.\n",
    "- Input parameters\n",
    "   * start and end of the braket (*a* and *b*)\n",
    "   * function *f*\n",
    "   * tolerance *tol*\n",
    "   * maximum iterations *iter_max*\n",
    "   * (Optional) Boolean verbose keyword to print intermediate results. The default is False.\n",
    "- Additionally, include a proper docstring to describe the function's behavior, parameters, and return values."
   ]
  },
  {
   "cell_type": "code",
   "execution_count": null,
   "id": "ab2cafec",
   "metadata": {
    "deletable": false,
    "nbgrader": {
     "cell_type": "code",
     "checksum": "c115e5016d676cdf7d05e591fcf0bb1d",
     "grade": false,
     "grade_id": "cell-604cece7f9e1450f",
     "locked": false,
     "schema_version": 3,
     "solution": true,
     "task": false
    }
   },
   "outputs": [],
   "source": [
    "# Write your answer\n",
    "def falseposition(a, b, f, tol=1e-6, iter_max=50):\n",
    "    # YOUR CODE HERE\n",
    "    raise NotImplementedError()"
   ]
  },
  {
   "cell_type": "code",
   "execution_count": null,
   "id": "148884ab-3434-41a2-9574-fbf8ef485383",
   "metadata": {
    "deletable": false,
    "editable": false,
    "nbgrader": {
     "cell_type": "code",
     "checksum": "512c94b8f5773f6ecb8e2b476e256e5c",
     "grade": true,
     "grade_id": "cell-f84270eb85482c08",
     "locked": true,
     "points": 5,
     "schema_version": 3,
     "solution": false,
     "task": false
    }
   },
   "outputs": [],
   "source": [
    "import numpy as np\n",
    "f = lambda x: x**2 + 10*np.sin(x)\n",
    "\n",
    "assert abs(falseposition(-10, -1,  f) - (-2.47948)) < 5e-5\n",
    "assert abs(falseposition(-1, 1,  f) - (0.0)) < 1e-6\n",
    "assert abs(falseposition(-1, 0,  f) - (0.0)) < 1e-6"
   ]
  },
  {
   "cell_type": "markdown",
   "id": "e61dc867",
   "metadata": {
    "deletable": false,
    "editable": false,
    "nbgrader": {
     "cell_type": "markdown",
     "checksum": "95543299661323ee3852a80d2357da00",
     "grade": false,
     "grade_id": "cell-8be80bcd040bc00e",
     "locked": true,
     "schema_version": 3,
     "solution": false,
     "task": false
    }
   },
   "source": [
    "## Problem #3\n",
    "Determine the real root of $f(x)=(0.8-0.3x)/x$\n",
    "\n",
    "(a) Graphically.\n",
    "\n",
    "(b) Bisection method\n",
    "\n",
    "(c) False position method\n",
    "\n",
    "For (b) and (c) use initial guesses of $a=1$ and $b=3$, and iterate until the approximate error falls below $0.1%$ or the number of iterations exceeds 50. "
   ]
  },
  {
   "cell_type": "code",
   "execution_count": null,
   "id": "8ef378c3",
   "metadata": {
    "deletable": false,
    "nbgrader": {
     "cell_type": "code",
     "checksum": "5605b7ef1b9e4b7458219452049ae2e5",
     "grade": true,
     "grade_id": "cell-f6c57147fce4c063",
     "locked": false,
     "points": 1,
     "schema_version": 3,
     "solution": true,
     "task": false
    }
   },
   "outputs": [],
   "source": [
    "# YOUR CODE HERE\n",
    "raise NotImplementedError()"
   ]
  },
  {
   "cell_type": "code",
   "execution_count": null,
   "id": "eacb3f96-41bc-41c1-a291-b82a07080814",
   "metadata": {
    "deletable": false,
    "nbgrader": {
     "cell_type": "code",
     "checksum": "f2fade6484ff79a7de728bbac60e91f9",
     "grade": false,
     "grade_id": "cell-57a9b7c6abe35785",
     "locked": false,
     "schema_version": 3,
     "solution": true,
     "task": false
    }
   },
   "outputs": [],
   "source": [
    "# Write your answers (b)\n",
    "# Save the result in ans_b\n",
    "\n",
    "# YOUR CODE HERE\n",
    "raise NotImplementedError()"
   ]
  },
  {
   "cell_type": "code",
   "execution_count": null,
   "id": "a557d5a2-a05d-4061-952a-dd026eb3a740",
   "metadata": {
    "deletable": false,
    "editable": false,
    "nbgrader": {
     "cell_type": "code",
     "checksum": "5cad190c3210e3da307a426de543c6e0",
     "grade": true,
     "grade_id": "cell-5b6fd022369d37ae",
     "locked": true,
     "points": 2,
     "schema_version": 3,
     "solution": false,
     "task": false
    }
   },
   "outputs": [],
   "source": []
  },
  {
   "cell_type": "code",
   "execution_count": null,
   "id": "5f095798-ca4b-4c74-9eff-ff0eb8b096a5",
   "metadata": {
    "deletable": false,
    "nbgrader": {
     "cell_type": "code",
     "checksum": "4e942d268f5423d0939d60e62f1084f6",
     "grade": false,
     "grade_id": "cell-ccc08edda3d585d2",
     "locked": false,
     "schema_version": 3,
     "solution": true,
     "task": false
    }
   },
   "outputs": [],
   "source": [
    "# Write your answers (c)\n",
    "# Save the result in ans_c\n",
    "\n",
    "# YOUR CODE HERE\n",
    "raise NotImplementedError()"
   ]
  },
  {
   "cell_type": "code",
   "execution_count": null,
   "id": "b5ccbc9a-4b58-4c5a-b7c4-9f3828ce6a9b",
   "metadata": {
    "deletable": false,
    "editable": false,
    "nbgrader": {
     "cell_type": "code",
     "checksum": "455278c1985edca691860e31a390b97c",
     "grade": true,
     "grade_id": "cell-01ff38e473ed2c83",
     "locked": true,
     "points": 2,
     "schema_version": 3,
     "solution": false,
     "task": false
    }
   },
   "outputs": [],
   "source": []
  },
  {
   "cell_type": "markdown",
   "id": "b579a401",
   "metadata": {
    "deletable": false,
    "editable": false,
    "nbgrader": {
     "cell_type": "markdown",
     "checksum": "3295074c467fe5722b0d8cba28730ceb",
     "grade": false,
     "grade_id": "cell-74f8ce63076a76a4",
     "locked": true,
     "schema_version": 3,
     "solution": false,
     "task": false
    }
   },
   "source": [
    "## Problem #4\n",
    "Water is flowing in a trapezoidal channel at a rate of $Q=20m^3/s$. The critical depth y for such a channel must satisfy the equation\n",
    "$$\n",
    "0 = 1 - \\frac{Q^2}{gA_c^3} B\n",
    "$$\n",
    "where $g=9.81 m/s2$, $A_c =$ the cross-sectional area ($m^2$), and $B=$ the width of the channel at the surface (*m*). For this case, the width and the cross-sectional area can be related to depth *y* by\n",
    "$$\n",
    "B = 3 + y, A_c  = 3y + \\frac{y^2}{2}\n",
    "$$\n",
    "Solve for the critical depth using \n",
    "(a) the graphical method, (b) bisection, and (c) false position. \n",
    "For (b) and (c) use initial guesses of $a=0.5$ and $b=2.5$, and iterate until the approximate error falls below $0.1 \\%$. "
   ]
  },
  {
   "cell_type": "code",
   "execution_count": null,
   "id": "06ee6150-39d8-4827-bbdc-14bfd46198ef",
   "metadata": {
    "deletable": false,
    "nbgrader": {
     "cell_type": "code",
     "checksum": "33a8fe3b77276a76da0b99946255a5cc",
     "grade": true,
     "grade_id": "cell-9b7cadf3621cc1ce",
     "locked": false,
     "points": 1,
     "schema_version": 3,
     "solution": true,
     "task": false
    }
   },
   "outputs": [],
   "source": [
    "# YOUR CODE HERE\n",
    "raise NotImplementedError()"
   ]
  },
  {
   "cell_type": "code",
   "execution_count": null,
   "id": "48e6c6c0",
   "metadata": {
    "deletable": false,
    "nbgrader": {
     "cell_type": "code",
     "checksum": "e3cc45eaf71e4f49bf8583901aa0d0d4",
     "grade": false,
     "grade_id": "cell-7e4cca84c8892f74",
     "locked": false,
     "schema_version": 3,
     "solution": true,
     "task": false
    }
   },
   "outputs": [],
   "source": [
    "# Write your answers (b)\n",
    "# Save the result in ans_b\n",
    "\n",
    "# YOUR CODE HERE\n",
    "raise NotImplementedError()"
   ]
  },
  {
   "cell_type": "code",
   "execution_count": null,
   "id": "40ca2564-e2ee-412e-863d-70274652f47d",
   "metadata": {
    "deletable": false,
    "editable": false,
    "nbgrader": {
     "cell_type": "code",
     "checksum": "3caa20b220da04ee29071756f53aed05",
     "grade": true,
     "grade_id": "cell-19245e5c403472e1",
     "locked": true,
     "points": 2,
     "schema_version": 3,
     "solution": false,
     "task": false
    }
   },
   "outputs": [],
   "source": []
  },
  {
   "cell_type": "code",
   "execution_count": null,
   "id": "daeb43d5-d7cd-4990-90a5-f93148617be9",
   "metadata": {
    "deletable": false,
    "nbgrader": {
     "cell_type": "code",
     "checksum": "8bb4ad1d361885210f863f9d5d4c2a31",
     "grade": false,
     "grade_id": "cell-0a8e1726660934e0",
     "locked": false,
     "schema_version": 3,
     "solution": true,
     "task": false
    }
   },
   "outputs": [],
   "source": [
    "# Write your answers (c)\n",
    "# Save the result in ans_c\n",
    "\n",
    "# YOUR CODE HERE\n",
    "raise NotImplementedError()"
   ]
  },
  {
   "cell_type": "code",
   "execution_count": null,
   "id": "13b95265-f895-4614-9912-73d36b1cbc1b",
   "metadata": {
    "deletable": false,
    "editable": false,
    "nbgrader": {
     "cell_type": "code",
     "checksum": "216d5ca96f94ee1988f5b415d34d3681",
     "grade": true,
     "grade_id": "cell-66cb9bdb83a8bfd4",
     "locked": true,
     "points": 2,
     "schema_version": 3,
     "solution": false,
     "task": false
    }
   },
   "outputs": [],
   "source": []
  }
 ],
 "metadata": {
  "kernelspec": {
   "display_name": "Python 3 (ipykernel)",
   "language": "python",
   "name": "python3"
  },
  "language_info": {
   "codemirror_mode": {
    "name": "ipython",
    "version": 3
   },
   "file_extension": ".py",
   "mimetype": "text/x-python",
   "name": "python",
   "nbconvert_exporter": "python",
   "pygments_lexer": "ipython3",
   "version": "3.11.2"
  },
  "widgets": {
   "application/vnd.jupyter.widget-state+json": {
    "state": {},
    "version_major": 1,
    "version_minor": 0
   }
  }
 },
 "nbformat": 4,
 "nbformat_minor": 5
}
