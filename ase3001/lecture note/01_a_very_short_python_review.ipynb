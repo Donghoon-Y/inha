{
  "cells": [
    {
      "cell_type": "markdown",
      "metadata": {
        "id": "j3oCgBcLllez"
      },
      "source": [
        "# A very short Python review"
      ]
    },
    {
      "cell_type": "markdown",
      "metadata": {
        "id": "5b80v9r_lle1"
      },
      "source": [
        "__<div style=\"text-align: right\"> ASE3001: Computational Experiments for Aerospace Engineering, Inha University. </div>__\n",
        "_<div style=\"text-align: right\"> Jong-Han Kim (jonghank@inha.ac.kr) </div>_"
      ]
    },
    {
      "cell_type": "markdown",
      "metadata": {
        "id": "HAyWU4BOlle3"
      },
      "source": [
        "First of all, comments. In Python, the pound sign (`#`)  is used for comments in your codes."
      ]
    },
    {
      "cell_type": "code",
      "execution_count": 1,
      "metadata": {
        "id": "KKIlhHMNlle6"
      },
      "outputs": [],
      "source": [
        "# This is a comment.\n",
        "# Use them to write short notes and descriptions in your code."
      ]
    },
    {
      "cell_type": "markdown",
      "metadata": {
        "id": "Fiii9eVjlle_"
      },
      "source": [
        "If you need to comment multiple lines out, you may be able to do this by using triple quotes (`'''`). But this is not recommended, since it treats the expressions inside `'''` as a regular multi-line string varible, so the expressions are not ignored by the interpreter in the same way that `# commented expression` is."
      ]
    },
    {
      "cell_type": "code",
      "execution_count": 2,
      "metadata": {
        "colab": {
          "base_uri": "https://localhost:8080/"
        },
        "id": "4hnZTqF8llfA",
        "outputId": "0e8f511d-b816-4cb8-9353-30f905699e1b"
      },
      "outputs": [
        {
          "name": "stdout",
          "output_type": "stream",
          "text": [
            "10\n"
          ]
        }
      ],
      "source": [
        "c = 10\n",
        "'''\n",
        "Multi-line comments can be done like this, but not recommended.\n",
        "a = 10\n",
        "b = 30\n",
        "c = a + b\n",
        "'''\n",
        "print(c)"
      ]
    },
    {
      "cell_type": "markdown",
      "metadata": {
        "id": "_d8aSoD2llfG"
      },
      "source": [
        "### Inputs and outputs"
      ]
    },
    {
      "cell_type": "markdown",
      "metadata": {
        "id": "BV97mv-vllfH"
      },
      "source": [
        "In `Jupyter notebook` environment, the last item in the cell is printed."
      ]
    },
    {
      "cell_type": "code",
      "execution_count": 3,
      "metadata": {
        "colab": {
          "base_uri": "https://localhost:8080/"
        },
        "id": "RTqVq_Y4llfI",
        "outputId": "39820ce6-4dda-45fa-e1e2-01f1c64eb267"
      },
      "outputs": [
        {
          "data": {
            "text/plain": [
              "12"
            ]
          },
          "execution_count": 3,
          "metadata": {},
          "output_type": "execute_result"
        }
      ],
      "source": [
        "1+2   # this won't be printed\n",
        "3*4   # this will be printed"
      ]
    },
    {
      "cell_type": "markdown",
      "metadata": {
        "id": "06scQ97fllfM"
      },
      "source": [
        "You can use `print()`, to print multiple things out."
      ]
    },
    {
      "cell_type": "code",
      "execution_count": 4,
      "metadata": {
        "colab": {
          "base_uri": "https://localhost:8080/"
        },
        "id": "QHlG-DmullfM",
        "outputId": "14e5dff5-a63b-48bd-a17c-63bb0d7751d9"
      },
      "outputs": [
        {
          "name": "stdout",
          "output_type": "stream",
          "text": [
            "3\n",
            "12\n"
          ]
        }
      ],
      "source": [
        "print(1+2)\n",
        "print(3*4)"
      ]
    },
    {
      "cell_type": "markdown",
      "metadata": {
        "id": "Ho1ifvDkllfP"
      },
      "source": [
        "To supress the output of a cell, add a semicolon."
      ]
    },
    {
      "cell_type": "code",
      "execution_count": 5,
      "metadata": {
        "id": "rfN9ClrMllfP"
      },
      "outputs": [],
      "source": [
        "1+2;\n",
        "3*4;"
      ]
    },
    {
      "cell_type": "markdown",
      "metadata": {
        "id": "N6b4adOxllfR"
      },
      "source": [
        "### Data types"
      ]
    },
    {
      "cell_type": "markdown",
      "metadata": {
        "id": "13XUEVdCllfR"
      },
      "source": [
        "Throughout the class, we will mostly work with the following four variable types. We will frequently use the arrays (with `numpy` module) to handle vectors and matrices. These four types are the building bits for the arrays."
      ]
    },
    {
      "cell_type": "code",
      "execution_count": 6,
      "metadata": {
        "id": "TRViTqnLllfS"
      },
      "outputs": [],
      "source": [
        "flag = True     # boolean variable\n",
        "clid = 370      # integer variable\n",
        "temp = 25.1     # float variable\n",
        "dept = 'EE'     # string variable"
      ]
    },
    {
      "cell_type": "markdown",
      "metadata": {
        "id": "KZ0ZNR9wllfU"
      },
      "source": [
        "You can check which type a specific variable is, by"
      ]
    },
    {
      "cell_type": "code",
      "execution_count": 7,
      "metadata": {
        "colab": {
          "base_uri": "https://localhost:8080/"
        },
        "id": "xh8i_njellfU",
        "outputId": "9002fb29-849f-45dd-f31f-d4c7d3ceadb6"
      },
      "outputs": [
        {
          "data": {
            "text/plain": [
              "(bool, int, float, str)"
            ]
          },
          "execution_count": 7,
          "metadata": {},
          "output_type": "execute_result"
        }
      ],
      "source": [
        "type(flag), type(clid), type(temp), type(dept)"
      ]
    },
    {
      "cell_type": "markdown",
      "metadata": {
        "id": "uWU1ofrhllfW"
      },
      "source": [
        "or explicitly print them as follows."
      ]
    },
    {
      "cell_type": "code",
      "execution_count": 8,
      "metadata": {
        "colab": {
          "base_uri": "https://localhost:8080/"
        },
        "id": "m_7ifK_pllfW",
        "outputId": "73620ee2-1c42-4b4f-cf97-8041a914f50e"
      },
      "outputs": [
        {
          "name": "stdout",
          "output_type": "stream",
          "text": [
            "True\n",
            "370\n",
            "25.1\n",
            "EE\n"
          ]
        }
      ],
      "source": [
        "print(flag)\n",
        "print(clid)\n",
        "print(temp)\n",
        "print(dept)"
      ]
    },
    {
      "cell_type": "markdown",
      "metadata": {
        "id": "mhDoJz_KllfY"
      },
      "source": [
        "### Basic operators"
      ]
    },
    {
      "cell_type": "markdown",
      "metadata": {
        "id": "jDh72vhQllfY"
      },
      "source": [
        "In Python, there are different types of **operators** (special symbols) that operate on different values. Some of the basic operators include:\n",
        "\n",
        "- arithmetic operators\n",
        "  - **`+`** (addition)\n",
        "  - **`-`** (subtraction)\n",
        "  - **`*`** (multiplication)\n",
        "  - **`/`** (division)\n",
        "  - __`**`__ (exponent)\n",
        "- assignment operators\n",
        "  - **`=`** (assign a value)\n",
        "  - **`+=`** (add and re-assign; increment)\n",
        "  - **`-=`** (subtract and re-assign; decrement)\n",
        "  - **`*=`** (multiply and re-assign)\n",
        "- comparison operators (return either `True` or `False`)\n",
        "  - **`==`** (equal to)\n",
        "  - **`!=`** (not equal to)\n",
        "  - **`<`** (less than)\n",
        "  - **`<=`** (less than or equal to)\n",
        "  - **`>`** (greater than)\n",
        "  - **`>=`** (greater than or equal to)\n",
        "\n"
      ]
    },
    {
      "cell_type": "markdown",
      "metadata": {
        "id": "24AI_jHqllfZ"
      },
      "source": [
        "For integer variables, you will see a couple more complicated division-related operations.\n",
        "\n",
        "- `/` (true division)\n",
        "- `//` (floor division)\n",
        "- `%` (modulo operation)\n",
        "\n",
        "For example you can say something like"
      ]
    },
    {
      "cell_type": "code",
      "execution_count": 9,
      "metadata": {
        "colab": {
          "base_uri": "https://localhost:8080/"
        },
        "id": "toMmdm7UllfZ",
        "outputId": "7d769704-e069-4cb7-e85f-2f0601b909a1"
      },
      "outputs": [
        {
          "data": {
            "text/plain": [
              "2"
            ]
          },
          "execution_count": 9,
          "metadata": {},
          "output_type": "execute_result"
        }
      ],
      "source": [
        "( 2 * clid + 10 ) % 4"
      ]
    },
    {
      "cell_type": "markdown",
      "metadata": {
        "id": "JiQEMvwillfb"
      },
      "source": [
        "Integer division (floor division) and float division (true division) are different, so"
      ]
    },
    {
      "cell_type": "code",
      "execution_count": 10,
      "metadata": {
        "colab": {
          "base_uri": "https://localhost:8080/"
        },
        "id": "H-cUcZnmllfc",
        "outputId": "f07a901f-be40-4590-baaa-d9c9c525de8a"
      },
      "outputs": [
        {
          "name": "stdout",
          "output_type": "stream",
          "text": [
            "3.5\n",
            "3\n"
          ]
        }
      ],
      "source": [
        "print(7/2)    # true division\n",
        "print(7//2)   # floor division"
      ]
    },
    {
      "cell_type": "markdown",
      "metadata": {
        "id": "2mFNK1ldllfd"
      },
      "source": [
        "For floating point numbers, you can say something like"
      ]
    },
    {
      "cell_type": "code",
      "execution_count": 11,
      "metadata": {
        "colab": {
          "base_uri": "https://localhost:8080/"
        },
        "id": "98yqWc6Jllfe",
        "outputId": "f054d3dc-d677-458f-f1f3-69e45eaaa1ef"
      },
      "outputs": [
        {
          "name": "stdout",
          "output_type": "stream",
          "text": [
            "77.18\n"
          ]
        }
      ],
      "source": [
        "temp_in_f = 1.8 * temp + 32\n",
        "print(temp_in_f)"
      ]
    },
    {
      "cell_type": "markdown",
      "metadata": {
        "id": "cYprbsPVllfg"
      },
      "source": [
        "which is pretty intuitive."
      ]
    },
    {
      "cell_type": "markdown",
      "metadata": {
        "id": "4nVgMO7z0T2I"
      },
      "source": [
        "You can put `j` or `J` after a number to make it imaginary, so you can write complex literals easily. More to come when we will talk about python modules, including `numpy` or `cmath`.\n"
      ]
    },
    {
      "cell_type": "code",
      "execution_count": 12,
      "metadata": {
        "colab": {
          "base_uri": "https://localhost:8080/"
        },
        "id": "ZLgN_n9Q0X1e",
        "outputId": "052ea528-d9f5-4ef9-b2c0-d16a4473f43a"
      },
      "outputs": [
        {
          "data": {
            "text/plain": [
              "(-1+0j)"
            ]
          },
          "execution_count": 12,
          "metadata": {},
          "output_type": "execute_result"
        }
      ],
      "source": [
        "1j*1j"
      ]
    },
    {
      "cell_type": "code",
      "execution_count": 13,
      "metadata": {
        "colab": {
          "base_uri": "https://localhost:8080/"
        },
        "id": "siuiwIk00eml",
        "outputId": "3572e43d-8978-457b-e8db-a1356771b17c"
      },
      "outputs": [
        {
          "name": "stdout",
          "output_type": "stream",
          "text": [
            "3.0\n",
            "4.0\n",
            "(3-4j)\n",
            "5.0\n"
          ]
        }
      ],
      "source": [
        "a = 3+4j\n",
        "print (a.real)\n",
        "print (a.imag)\n",
        "print (a.conjugate())\n",
        "print (abs(a))"
      ]
    },
    {
      "cell_type": "markdown",
      "metadata": {
        "id": "3_GFlF7sllfg"
      },
      "source": [
        "Assignment operators including increment/decrement operators can be used just like other programming languages."
      ]
    },
    {
      "cell_type": "code",
      "execution_count": 14,
      "metadata": {
        "colab": {
          "base_uri": "https://localhost:8080/"
        },
        "id": "MWQwrvR1llfg",
        "outputId": "ebe3317d-f074-4bc3-c17f-b56edf722cbf"
      },
      "outputs": [
        {
          "name": "stdout",
          "output_type": "stream",
          "text": [
            "77.18\n",
            "87.18\n",
            "77.18\n",
            "154.36\n",
            "77.18\n"
          ]
        }
      ],
      "source": [
        "num1 = temp_in_f\n",
        "print(num1)\n",
        "\n",
        "num1 += 10    # add and reassign\n",
        "print(num1)\n",
        "\n",
        "num1 -= 10    # subtract and reassign\n",
        "print(num1)\n",
        "\n",
        "num1 *= 2     # multiply and reassign\n",
        "print(num1)\n",
        "\n",
        "num1 /= 2     # divide and reassign\n",
        "print(num1)"
      ]
    },
    {
      "cell_type": "markdown",
      "metadata": {
        "id": "txXwpJL6llfi"
      },
      "source": [
        "Now the comparison operators:"
      ]
    },
    {
      "cell_type": "code",
      "execution_count": 15,
      "metadata": {
        "colab": {
          "base_uri": "https://localhost:8080/"
        },
        "id": "gavX8xf1llfj",
        "outputId": "2256e8db-4404-4408-b73c-95a37d3106c2"
      },
      "outputs": [
        {
          "name": "stdout",
          "output_type": "stream",
          "text": [
            "False\n",
            "True\n",
            "False\n",
            "True\n"
          ]
        }
      ],
      "source": [
        "num2 = 77\n",
        "\n",
        "print(num1 == num2)  # should be False\n",
        "\n",
        "print(num1 != num2)  # should be True\n",
        "\n",
        "print(num1 < num2)   # should be False\n",
        "\n",
        "print(num1 >= num2)  # should be True"
      ]
    },
    {
      "cell_type": "markdown",
      "metadata": {
        "id": "SK5Zjfdellfm"
      },
      "source": [
        "This looks a bit awkward but also works."
      ]
    },
    {
      "cell_type": "code",
      "execution_count": 16,
      "metadata": {
        "colab": {
          "base_uri": "https://localhost:8080/"
        },
        "id": "NRCqG9h0llfn",
        "outputId": "b4ded821-6e1b-45e5-95e1-e4bd013b8a80"
      },
      "outputs": [
        {
          "data": {
            "text/plain": [
              "False"
            ]
          },
          "execution_count": 16,
          "metadata": {},
          "output_type": "execute_result"
        }
      ],
      "source": [
        "5 > 3 > 4"
      ]
    },
    {
      "cell_type": "markdown",
      "metadata": {
        "id": "ZOiB-BZyllfp"
      },
      "source": [
        "or,"
      ]
    },
    {
      "cell_type": "code",
      "execution_count": 17,
      "metadata": {
        "colab": {
          "base_uri": "https://localhost:8080/"
        },
        "id": "xkt_HE1sllfp",
        "outputId": "0b8a1e18-3bf2-4329-9aad-673a0926e907"
      },
      "outputs": [
        {
          "data": {
            "text/plain": [
              "True"
            ]
          },
          "execution_count": 17,
          "metadata": {},
          "output_type": "execute_result"
        }
      ],
      "source": [
        "5 > 3 < 4 == 1 + 3"
      ]
    },
    {
      "cell_type": "markdown",
      "metadata": {
        "id": "-TGsJcXBllfr"
      },
      "source": [
        "Python implements all of the usual operators for Boolean logic."
      ]
    },
    {
      "cell_type": "code",
      "execution_count": 18,
      "metadata": {
        "colab": {
          "base_uri": "https://localhost:8080/"
        },
        "id": "aDcbpRv1llfr",
        "outputId": "0844f267-086b-42aa-d84f-05f883acebb4"
      },
      "outputs": [
        {
          "data": {
            "text/plain": [
              "bool"
            ]
          },
          "execution_count": 18,
          "metadata": {},
          "output_type": "execute_result"
        }
      ],
      "source": [
        "t, f = True, False\n",
        "type(t)"
      ]
    },
    {
      "cell_type": "code",
      "execution_count": 19,
      "metadata": {
        "colab": {
          "base_uri": "https://localhost:8080/"
        },
        "id": "MadFPHyZllft",
        "outputId": "c08e95af-eec7-4434-a957-4b84b7200b16"
      },
      "outputs": [
        {
          "name": "stdout",
          "output_type": "stream",
          "text": [
            "False\n",
            "True\n",
            "False\n",
            "True\n"
          ]
        }
      ],
      "source": [
        "print(t and f) # Logical AND;\n",
        "print(t or f)  # Logical OR;\n",
        "print(not t)   # Logical NOT;\n",
        "print(t != f)  # Logical XOR;"
      ]
    },
    {
      "cell_type": "markdown",
      "metadata": {
        "id": "moEePcxqllfu"
      },
      "source": [
        "The followings also work."
      ]
    },
    {
      "cell_type": "code",
      "execution_count": 20,
      "metadata": {
        "colab": {
          "base_uri": "https://localhost:8080/"
        },
        "id": "6X4ugf-Yllfu",
        "outputId": "51040ed5-f2c5-4629-d6a4-ed479e97b4d3"
      },
      "outputs": [
        {
          "name": "stdout",
          "output_type": "stream",
          "text": [
            "False\n",
            "True\n",
            "False\n"
          ]
        }
      ],
      "source": [
        "print(t & f) # Logical AND;\n",
        "print(t | f)  # Logical OR;\n",
        "print(not(t))   # Logical NOT;"
      ]
    },
    {
      "cell_type": "markdown",
      "metadata": {
        "id": "K_DmsH3Gllfw"
      },
      "source": [
        "Some similar operations can be intuitively done on string variables."
      ]
    },
    {
      "cell_type": "code",
      "execution_count": 21,
      "metadata": {
        "colab": {
          "base_uri": "https://localhost:8080/",
          "height": 35
        },
        "id": "2xDOwBrpllfw",
        "outputId": "f6c1b1b2-007f-47b9-b9ab-bbf246996e8c"
      },
      "outputs": [
        {
          "data": {
            "text/plain": [
              "'EEEE'"
            ]
          },
          "execution_count": 21,
          "metadata": {},
          "output_type": "execute_result"
        }
      ],
      "source": [
        "2*dept"
      ]
    },
    {
      "cell_type": "code",
      "execution_count": 22,
      "metadata": {
        "colab": {
          "base_uri": "https://localhost:8080/",
          "height": 35
        },
        "id": "cL2sb0Qzllfx",
        "outputId": "cef2322a-22da-4cb2-fd52-39a9d4867818"
      },
      "outputs": [
        {
          "data": {
            "text/plain": [
              "'EE stands for Electronic Engineering'"
            ]
          },
          "execution_count": 22,
          "metadata": {},
          "output_type": "execute_result"
        }
      ],
      "source": [
        "dept + ' stands for Electronic Engineering'"
      ]
    },
    {
      "cell_type": "markdown",
      "metadata": {
        "id": "fNaH-fkJllfy"
      },
      "source": [
        "However, different types of varaibles can not be added (concatenated)."
      ]
    },
    {
      "cell_type": "code",
      "execution_count": 23,
      "metadata": {
        "id": "KHp_8wIcllfz"
      },
      "outputs": [],
      "source": [
        "# classname = dept + clid    # attempt to add a string and an integer"
      ]
    },
    {
      "cell_type": "markdown",
      "metadata": {
        "id": "FBbs3iQtllf0"
      },
      "source": [
        "You can do what you wanted by using `repr()` function that returns a string representation of a number."
      ]
    },
    {
      "cell_type": "code",
      "execution_count": 24,
      "metadata": {
        "colab": {
          "base_uri": "https://localhost:8080/"
        },
        "id": "S6xcgB50llf0",
        "outputId": "8ecad6f0-bc35-43dc-ea7e-4c511259a870"
      },
      "outputs": [
        {
          "name": "stdout",
          "output_type": "stream",
          "text": [
            "EE370\n"
          ]
        }
      ],
      "source": [
        "classname = dept + repr(clid)\n",
        "print(classname)"
      ]
    },
    {
      "cell_type": "markdown",
      "metadata": {
        "id": "garMR79Tllf1"
      },
      "source": [
        "or, by using `f'...string...'` which stands for 'formatted string'."
      ]
    },
    {
      "cell_type": "code",
      "execution_count": 25,
      "metadata": {
        "colab": {
          "base_uri": "https://localhost:8080/"
        },
        "id": "qlnbrETOllf2",
        "outputId": "35ca32d4-8c02-4224-8b0f-dc1bdd5b01de"
      },
      "outputs": [
        {
          "name": "stdout",
          "output_type": "stream",
          "text": [
            "The class ID for Software Lab is EE370.\n"
          ]
        }
      ],
      "source": [
        "classid = f'The class ID for Software Lab is {dept}{clid}.'\n",
        "print(classid)"
      ]
    },
    {
      "cell_type": "markdown",
      "metadata": {
        "id": "S45IMdpFllf3"
      },
      "source": [
        "### tmi"
      ]
    },
    {
      "cell_type": "markdown",
      "metadata": {
        "id": "q3uliTgmllf3"
      },
      "source": [
        "These builtin functions for string variables are not interesting, but sometimes can be useful."
      ]
    },
    {
      "cell_type": "code",
      "execution_count": 26,
      "metadata": {
        "colab": {
          "base_uri": "https://localhost:8080/",
          "height": 35
        },
        "id": "9M0recWellf4",
        "outputId": "4d91fdbb-5d68-482b-f444-1da77832d112"
      },
      "outputs": [
        {
          "data": {
            "text/plain": [
              "'The class id for software lab is ee370.'"
            ]
          },
          "execution_count": 26,
          "metadata": {},
          "output_type": "execute_result"
        }
      ],
      "source": [
        "classid.capitalize()"
      ]
    },
    {
      "cell_type": "code",
      "execution_count": 27,
      "metadata": {
        "colab": {
          "base_uri": "https://localhost:8080/",
          "height": 35
        },
        "id": "SLo6g3e4llf5",
        "outputId": "e9f12820-8909-419f-b907-2be271bbdc31"
      },
      "outputs": [
        {
          "data": {
            "text/plain": [
              "'THE CLASS ID FOR SOFTWARE LAB IS EE370.'"
            ]
          },
          "execution_count": 27,
          "metadata": {},
          "output_type": "execute_result"
        }
      ],
      "source": [
        "classid.upper()"
      ]
    },
    {
      "cell_type": "code",
      "execution_count": 28,
      "metadata": {
        "colab": {
          "base_uri": "https://localhost:8080/",
          "height": 35
        },
        "id": "wPknY1tBllf6",
        "outputId": "74fa0ece-7841-4497-c274-19444310265b"
      },
      "outputs": [
        {
          "data": {
            "text/plain": [
              "'the class id for software lab is ee370.'"
            ]
          },
          "execution_count": 28,
          "metadata": {},
          "output_type": "execute_result"
        }
      ],
      "source": [
        "classid.lower()"
      ]
    },
    {
      "cell_type": "code",
      "execution_count": 29,
      "metadata": {
        "colab": {
          "base_uri": "https://localhost:8080/",
          "height": 35
        },
        "id": "UG2ujmUdllf7",
        "outputId": "e0fcc6be-1da8-4f4a-bb81-a8f89732e596"
      },
      "outputs": [
        {
          "data": {
            "text/plain": [
              "'The class ID for Software Lab is CS370.'"
            ]
          },
          "execution_count": 29,
          "metadata": {},
          "output_type": "execute_result"
        }
      ],
      "source": [
        "classid.replace('EE', 'CS')"
      ]
    },
    {
      "cell_type": "markdown",
      "metadata": {
        "id": "3uf87d50llf8"
      },
      "source": [
        "### List"
      ]
    },
    {
      "cell_type": "markdown",
      "metadata": {
        "id": "VbZSNarellf9"
      },
      "source": [
        "We will frequently use a specific type of containers called `list`, which can be used to handle a list of numbers."
      ]
    },
    {
      "cell_type": "code",
      "execution_count": 30,
      "metadata": {
        "colab": {
          "base_uri": "https://localhost:8080/"
        },
        "id": "PCeGH0RZllf9",
        "outputId": "9323a0a7-48ce-49b0-93d9-29534858be27"
      },
      "outputs": [
        {
          "name": "stdout",
          "output_type": "stream",
          "text": [
            "[1, 3, 4, 8, 2, 5, 9, 7, 6]\n"
          ]
        }
      ],
      "source": [
        "a = [1,3,4,8,2,5,9,7,6]   # this is a list\n",
        "print(a)"
      ]
    },
    {
      "cell_type": "code",
      "execution_count": 31,
      "metadata": {
        "colab": {
          "base_uri": "https://localhost:8080/"
        },
        "id": "-IuIL4Bdllf-",
        "outputId": "85dc6ed8-945d-407c-f890-70213376b43d"
      },
      "outputs": [
        {
          "data": {
            "text/plain": [
              "list"
            ]
          },
          "execution_count": 31,
          "metadata": {},
          "output_type": "execute_result"
        }
      ],
      "source": [
        "type(a)"
      ]
    },
    {
      "cell_type": "markdown",
      "metadata": {
        "id": "pZtHmS-9llf_"
      },
      "source": [
        "`len(a)` gives you the length (the number of elements) of it"
      ]
    },
    {
      "cell_type": "code",
      "execution_count": 32,
      "metadata": {
        "colab": {
          "base_uri": "https://localhost:8080/"
        },
        "id": "Nrf1R9IbllgA",
        "outputId": "193ebe79-f6f9-4f45-830f-13fc5ae71f9a"
      },
      "outputs": [
        {
          "data": {
            "text/plain": [
              "9"
            ]
          },
          "execution_count": 32,
          "metadata": {},
          "output_type": "execute_result"
        }
      ],
      "source": [
        "len(a)"
      ]
    },
    {
      "cell_type": "markdown",
      "metadata": {
        "id": "DpeE-7nqllgB"
      },
      "source": [
        "Be careful. `a*2` does not multiply its elements by `2`, but it duplicates and concatenates the list."
      ]
    },
    {
      "cell_type": "code",
      "execution_count": 33,
      "metadata": {
        "colab": {
          "base_uri": "https://localhost:8080/"
        },
        "id": "p8i6yyIfllgB",
        "outputId": "649b1839-3690-431c-edfe-8d9eb5cd23d2"
      },
      "outputs": [
        {
          "data": {
            "text/plain": [
              "[1, 3, 4, 8, 2, 5, 9, 7, 6, 1, 3, 4, 8, 2, 5, 9, 7, 6]"
            ]
          },
          "execution_count": 33,
          "metadata": {},
          "output_type": "execute_result"
        }
      ],
      "source": [
        "a*2"
      ]
    },
    {
      "cell_type": "code",
      "execution_count": 34,
      "metadata": {
        "colab": {
          "base_uri": "https://localhost:8080/"
        },
        "id": "B_dRNpIHllgC",
        "outputId": "47dd3ee9-9d8a-4a68-d4c3-b63e7f909f48"
      },
      "outputs": [
        {
          "data": {
            "text/plain": [
              "[1, 3, 4, 8, 2, 5, 9, 7, 6, 1, 3, 4, 8, 2, 5, 9, 7, 6]"
            ]
          },
          "execution_count": 34,
          "metadata": {},
          "output_type": "execute_result"
        }
      ],
      "source": [
        "a+a"
      ]
    },
    {
      "cell_type": "markdown",
      "metadata": {
        "id": "jhHTWSslllgD"
      },
      "source": [
        "Elements of `a` can be accessed by `a[...]`."
      ]
    },
    {
      "cell_type": "code",
      "execution_count": 35,
      "metadata": {
        "colab": {
          "base_uri": "https://localhost:8080/"
        },
        "id": "hAJWQikfllgE",
        "outputId": "c033eafa-f3c1-45be-ecf1-5635ae0cff4c"
      },
      "outputs": [
        {
          "data": {
            "text/plain": [
              "[1, 3, 4, 8, 2, 5, 9, 7, 6]"
            ]
          },
          "execution_count": 35,
          "metadata": {},
          "output_type": "execute_result"
        }
      ],
      "source": [
        "a"
      ]
    },
    {
      "cell_type": "code",
      "execution_count": 36,
      "metadata": {
        "colab": {
          "base_uri": "https://localhost:8080/"
        },
        "id": "AUnYmp_qllgF",
        "outputId": "a8121a80-96a3-46f9-c9a0-da89a0943e14"
      },
      "outputs": [
        {
          "data": {
            "text/plain": [
              "1"
            ]
          },
          "execution_count": 36,
          "metadata": {},
          "output_type": "execute_result"
        }
      ],
      "source": [
        "a[0]   # accessing the first element"
      ]
    },
    {
      "cell_type": "code",
      "execution_count": 37,
      "metadata": {
        "colab": {
          "base_uri": "https://localhost:8080/"
        },
        "id": "GC_iqlvillgG",
        "outputId": "a0a7415f-aeae-46a7-bfa4-caefc80f4b37"
      },
      "outputs": [
        {
          "data": {
            "text/plain": [
              "6"
            ]
          },
          "execution_count": 37,
          "metadata": {},
          "output_type": "execute_result"
        }
      ],
      "source": [
        "a[-1]   # accessing the last element"
      ]
    },
    {
      "cell_type": "markdown",
      "metadata": {
        "id": "OwUKQ4scllgH"
      },
      "source": [
        "A range of elements in a list can be specified by `a[start_index:end_index:step_size]`."
      ]
    },
    {
      "cell_type": "code",
      "execution_count": 38,
      "metadata": {
        "colab": {
          "base_uri": "https://localhost:8080/"
        },
        "id": "YzVHOPLallgI",
        "outputId": "5f538a1b-e83f-4d52-c036-f0d866fe6202"
      },
      "outputs": [
        {
          "data": {
            "text/plain": [
              "[3, 4, 8, 2, 5]"
            ]
          },
          "execution_count": 38,
          "metadata": {},
          "output_type": "execute_result"
        }
      ],
      "source": [
        "a[1:6:1]   # accessing the elements from index 1 up to (but not including) index 6, with step size of 1"
      ]
    },
    {
      "cell_type": "markdown",
      "metadata": {
        "id": "L7SwYPQxllgJ"
      },
      "source": [
        "The default value of the `step_size` is `1`, so omitting it results in,"
      ]
    },
    {
      "cell_type": "code",
      "execution_count": 39,
      "metadata": {
        "colab": {
          "base_uri": "https://localhost:8080/"
        },
        "id": "rNccq4mqllgJ",
        "outputId": "b3d0f47c-32fd-41fa-efef-f2295026a1e8"
      },
      "outputs": [
        {
          "data": {
            "text/plain": [
              "[3, 4, 8, 2, 5]"
            ]
          },
          "execution_count": 39,
          "metadata": {},
          "output_type": "execute_result"
        }
      ],
      "source": [
        "a[1:6:]"
      ]
    },
    {
      "cell_type": "markdown",
      "metadata": {
        "id": "SMqjeT0pllgK"
      },
      "source": [
        "or simply,"
      ]
    },
    {
      "cell_type": "code",
      "execution_count": 40,
      "metadata": {
        "colab": {
          "base_uri": "https://localhost:8080/"
        },
        "id": "ACmhtD35llgK",
        "outputId": "f5b00fe2-265d-4df5-a6fb-95ac06370ae3"
      },
      "outputs": [
        {
          "data": {
            "text/plain": [
              "[3, 4, 8, 2, 5]"
            ]
          },
          "execution_count": 40,
          "metadata": {},
          "output_type": "execute_result"
        }
      ],
      "source": [
        "a[1:6]"
      ]
    },
    {
      "cell_type": "markdown",
      "metadata": {
        "id": "JxQ53ExZllgM"
      },
      "source": [
        "Or with non-default values,"
      ]
    },
    {
      "cell_type": "code",
      "execution_count": 41,
      "metadata": {
        "colab": {
          "base_uri": "https://localhost:8080/"
        },
        "id": "p-goUmvRllgN",
        "outputId": "a2558dda-0653-4513-e327-f9f0a874e2f2"
      },
      "outputs": [
        {
          "data": {
            "text/plain": [
              "[3, 8, 5]"
            ]
          },
          "execution_count": 41,
          "metadata": {},
          "output_type": "execute_result"
        }
      ],
      "source": [
        "a[1:6:2]   # accessing the elements from index 1 up to (but not including) index 6, with steps specified by 2"
      ]
    },
    {
      "cell_type": "markdown",
      "metadata": {
        "id": "ycx6pKezllgO"
      },
      "source": [
        "Omitting `start_index` implies 'from the first element', and omitting `end_index` implies 'up to the last element', so omitting every argument will give you the entire list."
      ]
    },
    {
      "cell_type": "code",
      "execution_count": 42,
      "metadata": {
        "colab": {
          "base_uri": "https://localhost:8080/"
        },
        "id": "MiV0U-H1llgO",
        "outputId": "3abf9339-9809-402f-b4b3-52cf38ff0b08"
      },
      "outputs": [
        {
          "data": {
            "text/plain": [
              "[1, 3, 4, 8, 2, 5, 9, 7, 6]"
            ]
          },
          "execution_count": 42,
          "metadata": {},
          "output_type": "execute_result"
        }
      ],
      "source": [
        "a[::]"
      ]
    },
    {
      "cell_type": "code",
      "execution_count": 43,
      "metadata": {
        "colab": {
          "base_uri": "https://localhost:8080/"
        },
        "id": "5ACTPchlllgP",
        "outputId": "b9537be1-c22b-493a-81e1-eb5feca4873f"
      },
      "outputs": [
        {
          "data": {
            "text/plain": [
              "[1, 8, 9]"
            ]
          },
          "execution_count": 43,
          "metadata": {},
          "output_type": "execute_result"
        }
      ],
      "source": [
        "a[::3]"
      ]
    },
    {
      "cell_type": "code",
      "execution_count": 44,
      "metadata": {
        "colab": {
          "base_uri": "https://localhost:8080/"
        },
        "id": "dOSvlmurllgQ",
        "outputId": "1e144798-e836-45c7-ee8b-a871136b9da3"
      },
      "outputs": [
        {
          "data": {
            "text/plain": [
              "[4, 5, 6]"
            ]
          },
          "execution_count": 44,
          "metadata": {},
          "output_type": "execute_result"
        }
      ],
      "source": [
        "a[2::3]"
      ]
    },
    {
      "cell_type": "markdown",
      "metadata": {
        "id": "VGOAe7uWllgR"
      },
      "source": [
        "Different types can be contained in a single `list` container, but we will rarely use it in this class."
      ]
    },
    {
      "cell_type": "code",
      "execution_count": 45,
      "metadata": {
        "colab": {
          "base_uri": "https://localhost:8080/"
        },
        "id": "fpPyFfhfllgR",
        "outputId": "c8a8aa50-5b5b-42c5-d92d-470e4efb20ac"
      },
      "outputs": [
        {
          "name": "stdout",
          "output_type": "stream",
          "text": [
            "[1, 3, 'four', 8]\n"
          ]
        }
      ],
      "source": [
        "b = [1,3,'four',8]\n",
        "print(b)"
      ]
    },
    {
      "cell_type": "markdown",
      "metadata": {
        "id": "NWijgAOMllgS"
      },
      "source": [
        "### Range"
      ]
    },
    {
      "cell_type": "markdown",
      "metadata": {
        "id": "HWpWI7cIllgS"
      },
      "source": [
        "We can define a list of discrete values on a range. `range(numer_from,number_to,step_size)` generates integers from `number_from` up to (but not including) `number_to` with step size of `step_size`, so,"
      ]
    },
    {
      "cell_type": "code",
      "execution_count": 46,
      "metadata": {
        "colab": {
          "base_uri": "https://localhost:8080/"
        },
        "id": "bgCbPs4dllgT",
        "outputId": "2071d0a0-d8bf-465e-c2dc-495f92ca068c"
      },
      "outputs": [
        {
          "data": {
            "text/plain": [
              "[0, 1, 2, 3, 4, 5, 6, 7, 8, 9]"
            ]
          },
          "execution_count": 46,
          "metadata": {},
          "output_type": "execute_result"
        }
      ],
      "source": [
        "a = range(0,10,1)\n",
        "list(a)"
      ]
    },
    {
      "cell_type": "markdown",
      "metadata": {
        "id": "y8kRPkiullgU"
      },
      "source": [
        "The default value of `number_from` is `0`, and the default of the `step_size` is `1`, so  "
      ]
    },
    {
      "cell_type": "code",
      "execution_count": 47,
      "metadata": {
        "colab": {
          "base_uri": "https://localhost:8080/"
        },
        "id": "yLZoaDa6llgU",
        "outputId": "4875641e-b95f-4641-e7e2-99dade05993d"
      },
      "outputs": [
        {
          "data": {
            "text/plain": [
              "[0, 1, 2, 3, 4, 5, 6, 7, 8, 9]"
            ]
          },
          "execution_count": 47,
          "metadata": {},
          "output_type": "execute_result"
        }
      ],
      "source": [
        "a = range(10)\n",
        "list(a)"
      ]
    },
    {
      "cell_type": "markdown",
      "metadata": {
        "id": "X8bquaNZllgW"
      },
      "source": [
        "Or with non-default values, you will see,"
      ]
    },
    {
      "cell_type": "code",
      "execution_count": 48,
      "metadata": {
        "colab": {
          "base_uri": "https://localhost:8080/"
        },
        "id": "9H8VkUTlllgW",
        "outputId": "cf68b98e-0ab8-436f-faca-7a820a683251"
      },
      "outputs": [
        {
          "data": {
            "text/plain": [
              "[3, 4, 5, 6, 7, 8, 9, 10, 11, 12, 13, 14, 15, 16, 17, 18, 19]"
            ]
          },
          "execution_count": 48,
          "metadata": {},
          "output_type": "execute_result"
        }
      ],
      "source": [
        "a = range(3,20)\n",
        "list(a)"
      ]
    },
    {
      "cell_type": "markdown",
      "metadata": {
        "id": "cfXlNSbTllgX"
      },
      "source": [
        "and"
      ]
    },
    {
      "cell_type": "code",
      "execution_count": 49,
      "metadata": {
        "colab": {
          "base_uri": "https://localhost:8080/"
        },
        "id": "Xl8f0H2WllgX",
        "outputId": "8b1e832d-1d02-41c7-93ab-3585134d9035"
      },
      "outputs": [
        {
          "data": {
            "text/plain": [
              "[3, 5, 7, 9, 11, 13, 15, 17, 19]"
            ]
          },
          "execution_count": 49,
          "metadata": {},
          "output_type": "execute_result"
        }
      ],
      "source": [
        "a = range(3,20,2)\n",
        "list(a)"
      ]
    },
    {
      "cell_type": "markdown",
      "metadata": {
        "id": "FfUfaFaUllgY"
      },
      "source": [
        "### For loops"
      ]
    },
    {
      "cell_type": "markdown",
      "metadata": {
        "id": "wNNlaO48llgZ"
      },
      "source": [
        "It is easy to iterate over `list` or `range` using a for loop.\n",
        "\n",
        "The for loop will go through the elements in the specified list, one item at a time, and provide a temporary variable for the current item. You can use this temporary variable like a normal variable.\n",
        "\n",
        "> Note that the command statements under `for` statement (or other control statements) are grouped by indentation (typically by tab), and no grouping brackets `{...}` or `end` are needed."
      ]
    },
    {
      "cell_type": "code",
      "execution_count": 50,
      "metadata": {
        "colab": {
          "base_uri": "https://localhost:8080/"
        },
        "id": "tjSL3NBTllgZ",
        "outputId": "77cc180a-2980-42c8-f2d6-f9080e948866"
      },
      "outputs": [
        {
          "name": "stdout",
          "output_type": "stream",
          "text": [
            "0\n",
            "49\n",
            "196\n",
            "441\n",
            "784\n",
            "1225\n",
            "1764\n",
            "2401\n",
            "3136\n",
            "3969\n",
            "4900\n",
            "5929\n",
            "7056\n",
            "8281\n",
            "9604\n"
          ]
        }
      ],
      "source": [
        "a = range(0,100,7)\n",
        "\n",
        "for i in a:\n",
        "    i_squared = i*i\n",
        "    print(i_squared)"
      ]
    },
    {
      "cell_type": "markdown",
      "metadata": {
        "id": "01Ot68Pkllga"
      },
      "source": [
        "### Control statements"
      ]
    },
    {
      "cell_type": "markdown",
      "metadata": {
        "id": "V98bT9gvllga"
      },
      "source": [
        "Conditional expressions can be used with these two conditional statements.\n",
        "\n",
        "The `if` statement allows you to test a condition and perform some actions if the condition evaluates to `True`. You can also provide `elif` and/or `else` clauses to an if statement to take alternative actions if the condition evaluates to `False`.\n",
        "\n",
        "The `while` loop will keep looping until its conditional expression evaluates to `False`.\n",
        "\n",
        "> Note: It is possible to \"loop forever\" when using a while loop with a conditional expression that never evaluates to `False`.\n",
        ">\n",
        "> Note: Since the **for loop** will iterate over a container of items until there are no more, there is no need to specify a \"stop looping\" condition."
      ]
    },
    {
      "cell_type": "code",
      "execution_count": 51,
      "metadata": {
        "colab": {
          "base_uri": "https://localhost:8080/"
        },
        "id": "IdJI7Gytllgb",
        "outputId": "5277c25e-96bb-4f66-ce68-ac698975405f"
      },
      "outputs": [
        {
          "name": "stdout",
          "output_type": "stream",
          "text": [
            "20\n",
            "greater than 5\n"
          ]
        }
      ],
      "source": [
        "value = 9\n",
        "\n",
        "# Controlling what happens next with if-elif-else\n",
        "if (value < 5):\n",
        "    explanation = 'less than 5'\n",
        "    value = 10\n",
        "elif (value == 5):\n",
        "    explanation = 'equal to 5'\n",
        "    value = 15\n",
        "else:\n",
        "    explanation = 'greater than 5'\n",
        "    value = 20\n",
        "\n",
        "print(value) # what should this be?\n",
        "print(explanation)"
      ]
    },
    {
      "cell_type": "code",
      "execution_count": 52,
      "metadata": {
        "colab": {
          "base_uri": "https://localhost:8080/"
        },
        "id": "bKt6CdbPllgc",
        "outputId": "f316b471-30c1-4150-b28e-d8f6aca332ad"
      },
      "outputs": [
        {
          "name": "stdout",
          "output_type": "stream",
          "text": [
            "0\n",
            "49\n",
            "196\n",
            "441\n",
            "784\n",
            "1225\n",
            "1764\n",
            "2401\n",
            "3136\n",
            "3969\n",
            "4900\n",
            "5929\n",
            "7056\n",
            "8281\n",
            "9604\n"
          ]
        }
      ],
      "source": [
        "i = 0\n",
        "while (i<100):\n",
        "    print(i**2)\n",
        "    i += 7"
      ]
    },
    {
      "cell_type": "markdown",
      "metadata": {
        "id": "A7jk2I5yllgd"
      },
      "source": [
        "### Functions"
      ]
    },
    {
      "cell_type": "markdown",
      "metadata": {
        "id": "fuQE0HP6llgd"
      },
      "source": [
        "Python functions can be defined by using `def` keyword, for example,"
      ]
    },
    {
      "cell_type": "code",
      "execution_count": 53,
      "metadata": {
        "id": "dKp3pEuNllgd"
      },
      "outputs": [],
      "source": [
        "def sign(x):        # this defines sign() function\n",
        "    if x >= 0:\n",
        "        return 1\n",
        "    else:\n",
        "        return -1"
      ]
    },
    {
      "cell_type": "markdown",
      "metadata": {
        "id": "anQ2emo8llge"
      },
      "source": [
        "Now you guess what the following `for` loop will print."
      ]
    },
    {
      "cell_type": "code",
      "execution_count": 54,
      "metadata": {
        "colab": {
          "base_uri": "https://localhost:8080/"
        },
        "id": "b16cuJVullge",
        "outputId": "8ba6a2f8-eae2-450e-c24b-c1b80d85b746"
      },
      "outputs": [
        {
          "name": "stdout",
          "output_type": "stream",
          "text": [
            "-5 -1 5\n",
            "-4 -1 4\n",
            "-3 -1 3\n",
            "-2 -1 2\n",
            "-1 -1 1\n",
            "0 1 0\n",
            "1 1 1\n",
            "2 1 2\n",
            "3 1 3\n",
            "4 1 4\n"
          ]
        }
      ],
      "source": [
        "for x in range(-5,5):\n",
        "    print(x, sign(x), x*sign(x))"
      ]
    },
    {
      "cell_type": "markdown",
      "metadata": {
        "id": "PuKtfZkzllge"
      },
      "source": [
        "`lambda` functions are small functions usually not more than a line. It can have any number of arguments just like a normal function."
      ]
    },
    {
      "cell_type": "code",
      "execution_count": 55,
      "metadata": {
        "id": "coN51NKyllgf"
      },
      "outputs": [],
      "source": [
        "sqr = lambda x: x**2   # this defines sqr() function"
      ]
    },
    {
      "cell_type": "code",
      "execution_count": 56,
      "metadata": {
        "colab": {
          "base_uri": "https://localhost:8080/"
        },
        "id": "BKG9S8W6llgf",
        "outputId": "35dd30bf-5b2a-41b3-d26e-1dfea1ec1c81"
      },
      "outputs": [
        {
          "name": "stdout",
          "output_type": "stream",
          "text": [
            "-5 25\n",
            "-4 16\n",
            "-3 9\n",
            "-2 4\n",
            "-1 1\n",
            "0 0\n",
            "1 1\n",
            "2 4\n",
            "3 9\n",
            "4 16\n"
          ]
        }
      ],
      "source": [
        "for x in range(-5,5):\n",
        "    print(x,sqr(x))"
      ]
    }
  ],
  "metadata": {
    "colab": {
      "provenance": []
    },
    "kernelspec": {
      "display_name": "Python 3",
      "language": "python",
      "name": "python3"
    },
    "language_info": {
      "codemirror_mode": {
        "name": "ipython",
        "version": 3
      },
      "file_extension": ".py",
      "mimetype": "text/x-python",
      "name": "python",
      "nbconvert_exporter": "python",
      "pygments_lexer": "ipython3",
      "version": "3.13.2"
    }
  },
  "nbformat": 4,
  "nbformat_minor": 0
}
