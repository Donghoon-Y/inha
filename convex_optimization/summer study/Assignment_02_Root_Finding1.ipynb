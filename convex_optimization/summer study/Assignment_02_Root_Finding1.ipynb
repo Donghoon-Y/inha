{
 "cells": [
  {
   "cell_type": "markdown",
   "id": "4f46c49c",
   "metadata": {
    "deletable": false,
    "editable": false,
    "nbgrader": {
     "cell_type": "markdown",
     "checksum": "34d1778ea98e1d525f0909b8248c7f1b",
     "grade": false,
     "grade_id": "cell-7e1ed028fd887dfd",
     "locked": true,
     "schema_version": 3,
     "solution": false,
     "task": false
    }
   },
   "source": [
    "# Exercise: Root Finding 1\n",
    "**강좌**: *Numerical Analysis*\n",
    "\n",
    "**Due**: 2024/10/1"
   ]
  },
  {
   "cell_type": "markdown",
   "id": "381e5f6a",
   "metadata": {
    "deletable": false,
    "editable": false,
    "nbgrader": {
     "cell_type": "markdown",
     "checksum": "65aed5b0baf8c3ea9192284258b88c40",
     "grade": false,
     "grade_id": "cell-f68fb90ec9f75fe1",
     "locked": true,
     "schema_version": 3,
     "solution": false,
     "task": false
    }
   },
   "source": [
    "## Problem #1\n",
    "Write a function to find a root using the Bisection method with the following specifications:\n",
    "- Use a for loop with a specified maximum number of iterations.\n",
    "- Input parameters\n",
    "   * start and end of the braket (*a* and *b*)\n",
    "   * function *f*\n",
    "   * tolerance *tol*\n",
    "   * maximum iterations *iter_max*\n",
    "   * (Optional) Boolean verbose keyword to print intermediate results. The default is False.\n",
    "- Additionally, include a proper docstring to describe the function's behavior, parameters, and return values."
   ]
  },
  {
   "cell_type": "code",
   "execution_count": 21,
   "id": "627f1ba4",
   "metadata": {
    "deletable": false,
    "nbgrader": {
     "cell_type": "code",
     "checksum": "c16f2bca6d097e6d13dc7896073178b9",
     "grade": false,
     "grade_id": "cell-fe271d986d99dd1f",
     "locked": false,
     "schema_version": 3,
     "solution": true,
     "task": false
    }
   },
   "outputs": [],
   "source": [
    "# Write your answer\n",
    "def bisect(a, b, f, tol=1e-6, iter_max=50):\n",
    "    # YOUR CODE HERE\n",
    "    '''\n",
    "    a : float\n",
    "        Lower limit\n",
    "    b : float \n",
    "        Upper limit\n",
    "    f : function \n",
    "        함수\n",
    "    tol : float\n",
    "        허용오차\n",
    "    '''\n",
    "    \n",
    "    for i in range(iter_max) :\n",
    "        fa, fb = f(a), f(b)\n",
    "        product = fa*fb\n",
    "        if product == 0 : \n",
    "            if fa == 0:\n",
    "                print(f'Converged {a}')\n",
    "                return a\n",
    "            else :\n",
    "                print(f'Converged {b}')\n",
    "                return b\n",
    "\n",
    "        elif product > 0 :\n",
    "\n",
    "            raise NotImplementedError('Wrong Intervals')\n",
    "        \n",
    "        else : \n",
    "            c = 0.5 * (a+b)\n",
    "            if fa * f(c) < 0 :\n",
    "                b = c \n",
    "            elif fb * f(c) < 0 :\n",
    "                a = c\n",
    "            c0 = c \n",
    "            c = 0.5*(a+b) \n",
    "\n",
    "            if abs(c0-c)/(max(abs(c), tol)) < tol :\n",
    "                print(f'Converged {c}')\n",
    "                return c\n",
    "            else : \n",
    "                print(i, a, b, c)\n",
    "\n",
    "\n"
   ]
  },
  {
   "cell_type": "code",
   "execution_count": 22,
   "id": "1023b5fa-9c29-4d13-beb8-1150436797f3",
   "metadata": {
    "deletable": false,
    "editable": false,
    "nbgrader": {
     "cell_type": "code",
     "checksum": "26d60f629e4a6639a41c5fd4b6312a11",
     "grade": true,
     "grade_id": "cell-962d2cf9716a6461",
     "locked": true,
     "points": 5,
     "schema_version": 3,
     "solution": false,
     "task": false
    }
   },
   "outputs": [
    {
     "name": "stdout",
     "output_type": "stream",
     "text": [
      "0 -5.5 -1 -3.25\n",
      "1 -3.25 -1 -2.125\n",
      "2 -3.25 -2.125 -2.6875\n",
      "3 -2.6875 -2.125 -2.40625\n",
      "4 -2.6875 -2.40625 -2.546875\n",
      "5 -2.546875 -2.40625 -2.4765625\n",
      "6 -2.546875 -2.4765625 -2.51171875\n",
      "7 -2.51171875 -2.4765625 -2.494140625\n",
      "8 -2.494140625 -2.4765625 -2.4853515625\n",
      "9 -2.4853515625 -2.4765625 -2.48095703125\n",
      "10 -2.48095703125 -2.4765625 -2.478759765625\n",
      "11 -2.48095703125 -2.478759765625 -2.4798583984375\n",
      "12 -2.4798583984375 -2.478759765625 -2.47930908203125\n",
      "13 -2.4798583984375 -2.47930908203125 -2.479583740234375\n",
      "14 -2.479583740234375 -2.47930908203125 -2.4794464111328125\n",
      "15 -2.479583740234375 -2.4794464111328125 -2.4795150756835938\n",
      "16 -2.4795150756835938 -2.4794464111328125 -2.479480743408203\n",
      "17 -2.4795150756835938 -2.479480743408203 -2.4794979095458984\n",
      "18 -2.4794979095458984 -2.479480743408203 -2.479489326477051\n",
      "19 -2.479489326477051 -2.479480743408203 -2.479485034942627\n",
      "Converged -2.479482889175415\n",
      "Converged 0.0\n",
      "Converged 0\n"
     ]
    }
   ],
   "source": [
    "import numpy as np\n",
    "f = lambda x: x**2 + 10*np.sin(x)\n",
    "\n",
    "assert abs(bisect(-10, -1,  f) - (-2.47948)) < 5e-5\n",
    "assert abs(bisect(-1, 1,  f) - (0.0)) < 1e-6\n",
    "assert abs(bisect(-1, 0,  f) - (0.0)) < 1e-6"
   ]
  },
  {
   "cell_type": "markdown",
   "id": "5ede5245",
   "metadata": {
    "deletable": false,
    "editable": false,
    "nbgrader": {
     "cell_type": "markdown",
     "checksum": "d4836fbcca3d1165bc5c386bccfbda8f",
     "grade": false,
     "grade_id": "cell-cee5d5bcc4cb6723",
     "locked": true,
     "schema_version": 3,
     "solution": false,
     "task": false
    }
   },
   "source": [
    "## Problem #2\n",
    "Write a function to find a root using the False position method with the following specifications:\n",
    "- Use a for loop with a specified maximum number of iterations.\n",
    "- Input parameters\n",
    "   * start and end of the braket (*a* and *b*)\n",
    "   * function *f*\n",
    "   * tolerance *tol*\n",
    "   * maximum iterations *iter_max*\n",
    "   * (Optional) Boolean verbose keyword to print intermediate results. The default is False.\n",
    "- Additionally, include a proper docstring to describe the function's behavior, parameters, and return values."
   ]
  },
  {
   "cell_type": "code",
   "execution_count": 23,
   "id": "ab2cafec",
   "metadata": {
    "deletable": false,
    "nbgrader": {
     "cell_type": "code",
     "checksum": "c115e5016d676cdf7d05e591fcf0bb1d",
     "grade": false,
     "grade_id": "cell-604cece7f9e1450f",
     "locked": false,
     "schema_version": 3,
     "solution": true,
     "task": false
    }
   },
   "outputs": [],
   "source": [
    "# Write your answer\n",
    "def falseposition(a, b, f, tol=1e-6, iter_max=50):\n",
    "    # YOUR CODE HERE\n",
    "    '''\n",
    "    a : float\n",
    "        Lower limit\n",
    "    b : float \n",
    "        Upper limit\n",
    "    f : function \n",
    "        함수\n",
    "    tol : float\n",
    "        허용오차\n",
    "    '''\n",
    "    \n",
    "    for i in range(iter_max) :\n",
    "        fa, fb = f(a), f(b)\n",
    "        product = fa*fb\n",
    "        if product == 0 : \n",
    "            if fa == 0:\n",
    "                print(f'Converged {a}')\n",
    "                return a\n",
    "            else :\n",
    "                print(f'Converged {b}')\n",
    "                return b\n",
    "\n",
    "        elif product > 0 :\n",
    "\n",
    "            raise NotImplementedError('Wrong Intervals')\n",
    "        \n",
    "        else : \n",
    "            c = b - fb*(a-b)/(fa-fb)\n",
    "            if fa * f(c) < 0 :\n",
    "                b = c \n",
    "            elif fb * f(c) < 0 :\n",
    "                a = c\n",
    "            c0 = c \n",
    "            c = b - fb*(a-b)/(fa-fb) \n",
    "\n",
    "            if abs(c0-c)/(max(abs(c), tol)) < tol :\n",
    "                print(f'Converged {c}')\n",
    "                return c\n",
    "            else : \n",
    "                print(i, a, b, c)"
   ]
  },
  {
   "cell_type": "code",
   "execution_count": 24,
   "id": "148884ab-3434-41a2-9574-fbf8ef485383",
   "metadata": {
    "deletable": false,
    "editable": false,
    "nbgrader": {
     "cell_type": "code",
     "checksum": "512c94b8f5773f6ecb8e2b476e256e5c",
     "grade": true,
     "grade_id": "cell-f84270eb85482c08",
     "locked": true,
     "points": 5,
     "schema_version": 3,
     "solution": false,
     "task": false
    }
   },
   "outputs": [
    {
     "name": "stdout",
     "output_type": "stream",
     "text": [
      "0 -10 -1.5913112876854811 -2.143772682154933\n",
      "1 -10 -2.1473154065947275 -2.666555103508983\n",
      "2 -10 -2.4185812896654655 -2.6804764691961753\n",
      "3 -10 -2.4733266598681594 -2.5276767141447527\n",
      "4 -10 -2.478955609501931 -2.484580349430758\n",
      "5 -10 -2.4794376768012403 -2.479919713202064\n",
      "6 -10 -2.4794781342105865 -2.479518591402289\n",
      "7 -10 -2.479481523663506 -2.479484913114898\n",
      "Converged -2.479482091505357\n",
      "0 -0.11883951057781217 1 0.37409907478500093\n",
      "1 -0.11883951057781217 0.004972280488614644 -0.10513838591949558\n",
      "2 -7.126893045310018e-05 0.004972280488614644 0.004766828402642227\n",
      "3 -3.513037567966226e-08 0.004972280488614644 7.019258175615904e-05\n",
      "4 -1.731451267084072e-11 0.004972280488614644 3.509549869554901e-08\n",
      "5 -8.533972140067903e-15 0.004972280488614644 1.7297444726560585e-11\n",
      "Converged 8.527033246163995e-15\n",
      "Converged 0\n"
     ]
    }
   ],
   "source": [
    "import numpy as np\n",
    "f = lambda x: x**2 + 10*np.sin(x)\n",
    "\n",
    "assert abs(falseposition(-10, -1,  f) - (-2.47948)) < 5e-5\n",
    "assert abs(falseposition(-1, 1,  f) - (0.0)) < 1e-6\n",
    "assert abs(falseposition(-1, 0,  f) - (0.0)) < 1e-6"
   ]
  },
  {
   "cell_type": "markdown",
   "id": "e61dc867",
   "metadata": {
    "deletable": false,
    "editable": false,
    "nbgrader": {
     "cell_type": "markdown",
     "checksum": "95543299661323ee3852a80d2357da00",
     "grade": false,
     "grade_id": "cell-8be80bcd040bc00e",
     "locked": true,
     "schema_version": 3,
     "solution": false,
     "task": false
    }
   },
   "source": [
    "## Problem #3\n",
    "Determine the real root of $f(x)=(0.8-0.3x)/x$\n",
    "\n",
    "(a) Graphically.\n",
    "\n",
    "(b) Bisection method\n",
    "\n",
    "(c) False position method\n",
    "\n",
    "For (b) and (c) use initial guesses of $a=1$ and $b=3$, and iterate until the approximate error falls below $0.1%$ or the number of iterations exceeds 50. "
   ]
  },
  {
   "cell_type": "code",
   "execution_count": 30,
   "id": "8ef378c3",
   "metadata": {
    "deletable": false,
    "nbgrader": {
     "cell_type": "code",
     "checksum": "5605b7ef1b9e4b7458219452049ae2e5",
     "grade": true,
     "grade_id": "cell-f6c57147fce4c063",
     "locked": false,
     "points": 1,
     "schema_version": 3,
     "solution": true,
     "task": false
    }
   },
   "outputs": [
    {
     "name": "stderr",
     "output_type": "stream",
     "text": [
      "/var/folders/hw/1xcjmtrs1c31k9myf8c3p_ph0000gn/T/ipykernel_48515/2053804300.py:4: RuntimeWarning: divide by zero encountered in divide\n",
      "  f = lambda x : (0.8-0.3*x)/x\n"
     ]
    },
    {
     "data": {
      "image/png": "[encoded data removed]",
      "text/plain": [
       "<Figure size 640x480 with 1 Axes>"
      ]
     },
     "metadata": {},
     "output_type": "display_data"
    }
   ],
   "source": [
    "# YOUR CODE HERE\n",
    "from matplotlib import pyplot as plt\n",
    "\n",
    "f = lambda x : (0.8-0.3*x)/x\n",
    "x = np.linspace(0,5,101)\n",
    "\n",
    "plt.plot(x,f(x), label ='f(x)')\n",
    "plt.scatter(2.666015625, f(2.666015625), label = 'Graphically sol', color = 'r')\n",
    "plt.xlabel('x')\n",
    "plt.ylabel('y')\n",
    "plt.legend()\n",
    "plt.title('Graphically')\n",
    "plt.grid()\n",
    "plt.show()"
   ]
  },
  {
   "cell_type": "code",
   "execution_count": 27,
   "id": "eacb3f96-41bc-41c1-a291-b82a07080814",
   "metadata": {
    "deletable": false,
    "nbgrader": {
     "cell_type": "code",
     "checksum": "f2fade6484ff79a7de728bbac60e91f9",
     "grade": false,
     "grade_id": "cell-57a9b7c6abe35785",
     "locked": false,
     "schema_version": 3,
     "solution": true,
     "task": false
    }
   },
   "outputs": [
    {
     "name": "stdout",
     "output_type": "stream",
     "text": [
      "0 2.0 3 2.5\n",
      "1 2.5 3 2.75\n",
      "2 2.5 2.75 2.625\n",
      "3 2.625 2.75 2.6875\n",
      "4 2.625 2.6875 2.65625\n",
      "5 2.65625 2.6875 2.671875\n",
      "6 2.65625 2.671875 2.6640625\n",
      "7 2.6640625 2.671875 2.66796875\n",
      "Converged 2.666015625\n"
     ]
    },
    {
     "data": {
      "text/plain": [
       "2.666015625"
      ]
     },
     "execution_count": 27,
     "metadata": {},
     "output_type": "execute_result"
    }
   ],
   "source": [
    "# Write your answers (b)\n",
    "# Save the result in ans_b\n",
    "# YOUR CODE HERE\n",
    "ans_b = bisect(1,3,f, tol = 0.001, iter_max = 50)\n",
    "ans_b"
   ]
  },
  {
   "cell_type": "code",
   "execution_count": null,
   "id": "a557d5a2-a05d-4061-952a-dd026eb3a740",
   "metadata": {
    "deletable": false,
    "editable": false,
    "nbgrader": {
     "cell_type": "code",
     "checksum": "5cad190c3210e3da307a426de543c6e0",
     "grade": true,
     "grade_id": "cell-5b6fd022369d37ae",
     "locked": true,
     "points": 2,
     "schema_version": 3,
     "solution": false,
     "task": false
    }
   },
   "outputs": [],
   "source": []
  },
  {
   "cell_type": "code",
   "execution_count": 31,
   "id": "5f095798-ca4b-4c74-9eff-ff0eb8b096a5",
   "metadata": {
    "deletable": false,
    "nbgrader": {
     "cell_type": "code",
     "checksum": "4e942d268f5423d0939d60e62f1084f6",
     "grade": false,
     "grade_id": "cell-ccc08edda3d585d2",
     "locked": false,
     "schema_version": 3,
     "solution": true,
     "task": false
    }
   },
   "outputs": [
    {
     "name": "stdout",
     "output_type": "stream",
     "text": [
      "0 1 2.875 2.7578125\n",
      "1 1 2.796875 2.7220052083333335\n",
      "2 1 2.748046875 2.700545601222826\n",
      "3 1 2.717529296875 2.687544497697713\n",
      "4 1 2.698455810546875 2.6795941388768005\n",
      "5 1 2.686534881591797 2.674697621900452\n",
      "6 1 2.679084300994873 2.6716666347194007\n",
      "7 1 2.6744276881217957 2.669783989456443\n",
      "8 1 2.6715173050761223 2.6686119806719972\n",
      "Converged 2.667881305741478\n"
     ]
    },
    {
     "data": {
      "text/plain": [
       "2.667881305741478"
      ]
     },
     "execution_count": 31,
     "metadata": {},
     "output_type": "execute_result"
    }
   ],
   "source": [
    "# Write your answers (c)\n",
    "# Save the result in ans_c\n",
    "\n",
    "# YOUR CODE HERE\n",
    "ans_c = falseposition(1,3,f,tol =0.001, iter_max= 50)\n",
    "ans_c"
   ]
  },
  {
   "cell_type": "markdown",
   "id": "b579a401",
   "metadata": {
    "deletable": false,
    "editable": false,
    "nbgrader": {
     "cell_type": "markdown",
     "checksum": "3295074c467fe5722b0d8cba28730ceb",
     "grade": false,
     "grade_id": "cell-74f8ce63076a76a4",
     "locked": true,
     "schema_version": 3,
     "solution": false,
     "task": false
    }
   },
   "source": [
    "## Problem #4\n",
    "Water is flowing in a trapezoidal channel at a rate of $Q=20m^3/s$. The critical depth y for such a channel must satisfy the equation\n",
    "$$\n",
    "0 = 1 - \\frac{Q^2}{gA_c^3} B\n",
    "$$\n",
    "where $g=9.81 m/s2$, $A_c =$ the cross-sectional area ($m^2$), and $B=$ the width of the channel at the surface (*m*). For this case, the width and the cross-sectional area can be related to depth *y* by\n",
    "$$\n",
    "B = 3 + y, A_c  = 3y + \\frac{y^2}{2}\n",
    "$$\n",
    "Solve for the critical depth using \n",
    "(a) the graphical method, (b) bisection, and (c) false position. \n",
    "For (b) and (c) use initial guesses of $a=0.5$ and $b=2.5$, and iterate until the approximate error falls below $0.1 \\%$. "
   ]
  },
  {
   "cell_type": "code",
   "execution_count": null,
   "id": "b5ccbc9a-4b58-4c5a-b7c4-9f3828ce6a9b",
   "metadata": {
    "deletable": false,
    "editable": false,
    "nbgrader": {
     "cell_type": "code",
     "checksum": "455278c1985edca691860e31a390b97c",
     "grade": true,
     "grade_id": "cell-01ff38e473ed2c83",
     "locked": true,
     "points": 2,
     "schema_version": 3,
     "solution": false,
     "task": false
    }
   },
   "outputs": [],
   "source": []
  },
  {
   "cell_type": "code",
   "execution_count": 40,
   "id": "06ee6150-39d8-4827-bbdc-14bfd46198ef",
   "metadata": {
    "deletable": false,
    "nbgrader": {
     "cell_type": "code",
     "checksum": "33a8fe3b77276a76da0b99946255a5cc",
     "grade": true,
     "grade_id": "cell-9b7cadf3621cc1ce",
     "locked": false,
     "points": 1,
     "schema_version": 3,
     "solution": true,
     "task": false
    }
   },
   "outputs": [
    {
     "data": {
      "image/png": "[encoded data removed]",
      "text/plain": [
       "<Figure size 640x480 with 1 Axes>"
      ]
     },
     "metadata": {},
     "output_type": "display_data"
    }
   ],
   "source": [
    "# YOUR CODE HERE\n",
    "Q = 20 #m^3/s\n",
    "g = 9.81\n",
    "\n",
    "def f(y) :\n",
    "    B = 3 + y\n",
    "    Ac = 3*y + y**2/2\n",
    "\n",
    "    return 1 - (Q**2)/(g*Ac**3)*B\n",
    "\n",
    "y = np.linspace(0.5,2.5, 201)\n",
    "plt.plot(y, f(y), label = 'f(y)', color = 'r')\n",
    "plt.scatter(1.5146484375, f(1.5146484375), label = 'Graphically sol')\n",
    "plt.xlabel('y')\n",
    "plt.ylabel('f(y)')\n",
    "plt.legend()\n",
    "plt.grid()\n",
    "plt.show()"
   ]
  },
  {
   "cell_type": "code",
   "execution_count": 39,
   "id": "48e6c6c0",
   "metadata": {
    "deletable": false,
    "nbgrader": {
     "cell_type": "code",
     "checksum": "e3cc45eaf71e4f49bf8583901aa0d0d4",
     "grade": false,
     "grade_id": "cell-7e4cca84c8892f74",
     "locked": false,
     "schema_version": 3,
     "solution": true,
     "task": false
    }
   },
   "outputs": [
    {
     "name": "stdout",
     "output_type": "stream",
     "text": [
      "0 1.5 2.5 2.0\n",
      "1 1.5 2.0 1.75\n",
      "2 1.5 1.75 1.625\n",
      "3 1.5 1.625 1.5625\n",
      "4 1.5 1.5625 1.53125\n",
      "5 1.5 1.53125 1.515625\n",
      "6 1.5 1.515625 1.5078125\n",
      "7 1.5078125 1.515625 1.51171875\n",
      "8 1.51171875 1.515625 1.513671875\n",
      "Converged 1.5146484375\n"
     ]
    },
    {
     "data": {
      "text/plain": [
       "1.5146484375"
      ]
     },
     "execution_count": 39,
     "metadata": {},
     "output_type": "execute_result"
    }
   ],
   "source": [
    "# Write your answers (b)\n",
    "# Save the result in ans_b\n",
    "\n",
    "# YOUR CODE HERE\n",
    "ans_b = bisect(0.5, 2.5, f, tol = 0.001)\n",
    "ans_b"
   ]
  },
  {
   "cell_type": "code",
   "execution_count": null,
   "id": "40ca2564-e2ee-412e-863d-70274652f47d",
   "metadata": {
    "deletable": false,
    "editable": false,
    "nbgrader": {
     "cell_type": "code",
     "checksum": "3caa20b220da04ee29071756f53aed05",
     "grade": true,
     "grade_id": "cell-19245e5c403472e1",
     "locked": true,
     "points": 2,
     "schema_version": 3,
     "solution": false,
     "task": false
    }
   },
   "outputs": [],
   "source": []
  },
  {
   "cell_type": "code",
   "execution_count": 42,
   "id": "daeb43d5-d7cd-4990-90a5-f93148617be9",
   "metadata": {
    "deletable": false,
    "nbgrader": {
     "cell_type": "code",
     "checksum": "8bb4ad1d361885210f863f9d5d4c2a31",
     "grade": false,
     "grade_id": "cell-0a8e1726660934e0",
     "locked": false,
     "schema_version": 3,
     "solution": true,
     "task": false
    }
   },
   "outputs": [
    {
     "name": "stdout",
     "output_type": "stream",
     "text": [
      "0 0.5 2.4508314768807655 2.4028717255943945\n",
      "1 0.5 2.403629170603679 2.357568971035594\n",
      "2 0.5 2.3583419189735153 2.314132049005644\n",
      "3 0.5 2.3149191726878975 2.2725110593262503\n",
      "4 0.5 2.273310917451991 2.232656559739363\n",
      "5 0.5 2.2334676048858766 2.1945195045133024\n",
      "6 0.5 2.19534009291489 2.1580511931942854\n",
      "7 0.5 2.1588795962209675 2.123203229994273\n",
      "8 0.5 2.124037647197515 2.0899274941492005\n",
      "9 0.5 2.0907660676945174 2.0581761214064485\n",
      "10 0.5 2.0590169516685948 2.027901496611999\n",
      "11 0.5 2.0287426586694286 1.9990562571717747\n",
      "12 0.5 1.9998958179051942 1.9715933069647913\n",
      "13 0.5 1.9724293424414747 1.94546584009455\n",
      "14 0.5 1.9462964529070033 1.920627373686369\n",
      "15 0.5 1.9214507099116538 1.8970317887782746\n",
      "16 0.5 1.8978460542331397 1.874633378217245\n",
      "17 0.5 1.8754368537038444 1.853386900365498\n",
      "18 0.5 1.854177955632046 1.8332476373463789\n",
      "19 0.5 1.8340247435252646 1.8141714565180846\n",
      "20 0.5 1.8149331968489733 1.796114873856322\n",
      "21 0.5 1.796859952551548 1.7790351179529709\n",
      "22 0.5 1.7797623671148928 1.7628901933945826\n",
      "23 0.5 1.7635985779472492 1.7476389423685605\n",
      "24 0.5 1.7483275630169517 1.7332411034518402\n",
      "25 0.5 1.733909197729177 1.7196573666618509\n",
      "26 0.5 1.720304308167443 1.7068494239872456\n",
      "27 0.5 1.7074747199528957 1.6947800147610936\n",
      "28 0.5 1.695383302112393 1.6834129653868632\n",
      "29 0.5 1.6839940054864515 1.6727132230729842\n",
      "30 0.5 1.6732718953460144 1.6626468833710502\n",
      "31 0.5 1.663183178019057 1.6531812114424642\n",
      "32 0.5 1.6536952214512082 1.644284657095983\n",
      "33 0.5 1.6447765697364782 1.6359268637423594\n",
      "34 0.5 1.6363969517531343 1.628078671501015\n",
      "35 0.5 1.6285272841247604 1.6207121147669825\n",
      "36 0.5 1.6211396687971145 1.6138004146043714\n",
      "37 0.5 1.6142073855776682 1.607317966375946\n",
      "38 0.5 1.6077048800272054 1.6012403230480599\n",
      "39 0.5 1.6016077471224366 1.5955441746274202\n",
      "40 0.5 1.5958927111263872 1.590207324192376\n",
      "41 0.5 1.590537602110639 1.5852086609781875\n",
      "42 0.5 1.585521329571727 1.5805281309645491\n",
      "43 0.5 1.5808238535745416 1.576146705396021\n",
      "44 0.5 1.576426153839848 1.5720463476433961\n",
      "45 0.5 1.572310197172333 1.5682099787876798\n",
      "46 0.5 1.5684589036011531 1.5646214422794573\n",
      "47 0.5 1.5648561115778878 1.5612654679960076\n",
      "48 0.5 1.5614865425480795 1.5581276359874283\n",
      "49 0.5 1.558335765183011 1.5551943401720292\n",
      "50 0.5 1.555390159528733 1.552452752210896\n",
      "51 0.5 1.5526368813001983 1.5498907857622877\n",
      "52 0.5 1.5500638265201445 1.547497061288765\n",
      "53 0.5 1.5476595966754543 1.5452608715639051\n",
      "54 0.5 1.5454134645383617 1.5431721480012917\n",
      "55 0.5 1.5433153407762583 1.541221427906276\n",
      "56 0.5 1.5413557414520753 1.539399822730833\n",
      "57 0.5 1.5395257564973406 1.5376989873936366\n",
      "58 0.5 1.5378170192220222 1.536111090711237\n",
      "59 0.5 1.5362216769091446 1.5346287869718285\n",
      "Converged 1.5332451886704763\n"
     ]
    }
   ],
   "source": [
    "# Write your answers (c)\n",
    "# Save the result in ans_c\n",
    "\n",
    "# YOUR CODE HERE\n",
    "ans_c = falseposition(0.5, 2.5, f, tol = 0.001, iter_max = 100)"
   ]
  },
  {
   "cell_type": "code",
   "execution_count": null,
   "id": "13b95265-f895-4614-9912-73d36b1cbc1b",
   "metadata": {
    "deletable": false,
    "editable": false,
    "nbgrader": {
     "cell_type": "code",
     "checksum": "216d5ca96f94ee1988f5b415d34d3681",
     "grade": true,
     "grade_id": "cell-66cb9bdb83a8bfd4",
     "locked": true,
     "points": 2,
     "schema_version": 3,
     "solution": false,
     "task": false
    }
   },
   "outputs": [],
   "source": []
  }
 ],
 "metadata": {
  "kernelspec": {
   "display_name": "Python 3",
   "language": "python",
   "name": "python3"
  },
  "language_info": {
   "codemirror_mode": {
    "name": "ipython",
    "version": 3
   },
   "file_extension": ".py",
   "mimetype": "text/x-python",
   "name": "python",
   "nbconvert_exporter": "python",
   "pygments_lexer": "ipython3",
   "version": "3.13.2"
  },
  "widgets": {
   "application/vnd.jupyter.widget-state+json": {
    "state": {},
    "version_major": 1,
    "version_minor": 0
   }
  }
 },
 "nbformat": 4,
 "nbformat_minor": 5
}
