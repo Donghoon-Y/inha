{
 "cells": [
  {
   "cell_type": "markdown",
   "id": "f2190846",
   "metadata": {},
   "source": [
    "Before you turn this problem in, make sure everything runs as expected. First, **restart the kernel** (in the menubar, select Kernel $\\rightarrow$ Restart) and then **run all cells** (in the menubar, select Cell $\\rightarrow$ Run All).\n",
    "\n",
    "Make sure you fill in any place that says `YOUR CODE HERE` or \"YOUR ANSWER HERE\", as well as your name and collaborators below:"
   ]
  },
  {
   "cell_type": "code",
   "execution_count": null,
   "id": "c56d8d45",
   "metadata": {},
   "outputs": [],
   "source": [
    "NAME = \"\"\n",
    "COLLABORATORS = \"\""
   ]
  },
  {
   "cell_type": "markdown",
   "id": "a9232054",
   "metadata": {},
   "source": [
    "---"
   ]
  },
  {
   "cell_type": "markdown",
   "id": "4f46c49c",
   "metadata": {
    "deletable": false,
    "editable": false,
    "nbgrader": {
     "cell_type": "markdown",
     "checksum": "20a4217cdcce935344451aae7b59116b",
     "grade": false,
     "grade_id": "cell-7e1ed028fd887dfd",
     "locked": true,
     "schema_version": 3,
     "solution": false,
     "task": false
    }
   },
   "source": [
    "# Exercise: Integration and Differentiation\n",
    "**강좌**: *Numerical Analysis*\n",
    "\n",
    "**Due**: 2024/12/5"
   ]
  },
  {
   "cell_type": "markdown",
   "id": "381e5f6a",
   "metadata": {
    "deletable": false,
    "editable": false,
    "nbgrader": {
     "cell_type": "markdown",
     "checksum": "3c7934360f6161d78ccdc08caa82450d",
     "grade": false,
     "grade_id": "cell-f68fb90ec9f75fe1",
     "locked": true,
     "schema_version": 3,
     "solution": false,
     "task": false
    }
   },
   "source": [
    "## Problem #1\n",
    "\n",
    "Write Python code to implement the following numerical integration methods:  \n",
    "- Develop a function to approximate the integral of a given function using the composite trapezoidal rule.  \n",
    "- Develop a function to approximate the integral of a given function using Simpson's 1/3 rule.  \n",
    "\n",
    "- Input parameters \n",
    "  * Function *f* to be integrated.  \n",
    "  * Integration bounds *a* (lower limit) and *b* (upper limit).  \n",
    "  * Number of subintervals *n* (must be even for Simpson's rule).\n",
    "    \n",
    "- Additionally, include a proper docstring to describe the function's behavior, parameters, and return values."
   ]
  },
  {
   "cell_type": "code",
   "execution_count": null,
   "id": "627f1ba4",
   "metadata": {
    "deletable": false,
    "nbgrader": {
     "cell_type": "code",
     "checksum": "f90e767dfe3f63aa67cf36854de44ad7",
     "grade": false,
     "grade_id": "cell-fe271d986d99dd1f",
     "locked": false,
     "schema_version": 3,
     "solution": true,
     "task": false
    }
   },
   "outputs": [],
   "source": [
    "# Write trapezoid rule\n",
    "def trapezoid(f, a, b, n):\n",
    "    # YOUR CODE HERE\n",
    "    raise NotImplementedError()"
   ]
  },
  {
   "cell_type": "code",
   "execution_count": null,
   "id": "150e22e6-5c6c-452c-a905-36e9041f878c",
   "metadata": {
    "deletable": false,
    "nbgrader": {
     "cell_type": "code",
     "checksum": "f9feb5761c132b5dd46c6c48bd3e9724",
     "grade": false,
     "grade_id": "cell-49213c5fdfea3f31",
     "locked": false,
     "schema_version": 3,
     "solution": true,
     "task": false
    }
   },
   "outputs": [],
   "source": [
    "# Write Simpson 1/3 rule\n",
    "def simpson(f, a, b, n):\n",
    "    # YOUR CODE HERE\n",
    "    raise NotImplementedError()"
   ]
  },
  {
   "cell_type": "code",
   "execution_count": null,
   "id": "1023b5fa-9c29-4d13-beb8-1150436797f3",
   "metadata": {
    "deletable": false,
    "editable": false,
    "nbgrader": {
     "cell_type": "code",
     "checksum": "a64581239fa29366122b00c870f9a1dd",
     "grade": true,
     "grade_id": "cell-962d2cf9716a6461",
     "locked": true,
     "points": 5,
     "schema_version": 3,
     "solution": false,
     "task": false
    }
   },
   "outputs": [],
   "source": [
    "import numpy as np\n",
    "\n",
    "# test problem\n",
    "f = np.cos\n",
    "a, b = 0, np.pi/2\n",
    "\n",
    "# exact integration on [a, b]\n",
    "Ie = 1.0\n",
    "\n",
    "# Verification\n",
    "assert(abs(trapezoid(f, a, b, 10) - Ie) < 1e-2)\n",
    "assert(abs(simpson(f, a, b, 10) - Ie) < 1e-5)"
   ]
  },
  {
   "cell_type": "markdown",
   "id": "5ede5245",
   "metadata": {
    "deletable": false,
    "editable": false,
    "nbgrader": {
     "cell_type": "markdown",
     "checksum": "468f948028fcf276043583b1879f21b3",
     "grade": false,
     "grade_id": "cell-cee5d5bcc4cb6723",
     "locked": true,
     "schema_version": 3,
     "solution": false,
     "task": false
    }
   },
   "source": [
    "## Problem #2\n",
    "Derive the finite difference formula to approximate the first derivative $f'(x)$ using the function values at points $f_{i+2}$, $f_{i+1}$, and $f_i$.  \n",
    "\n",
    "1. **Derivation:**  \n",
    "   - Use Taylor series expansions to derive the finite difference formula for $f'(x)$ with the best possible accuracy.\n",
    "   - Clearly show the step-by-step process.  \n",
    "\n",
    "2. **Implementation:**  \n",
    "   - Write a Python function to compute the first derivative at $x_i$ using the derived formula.  \n",
    "\n",
    "3. **Validation:**  \n",
    "   - Test your formula and implementation by approximating the derivative of $f(x) = \\sin(x)$ at $x = 0$ using a step size $h = 0.1, 0.05, 0.025$.  \n",
    "   - Compare the result with the exact derivative, $f'(x) = \\cos(x)$.  "
   ]
  },
  {
   "cell_type": "code",
   "execution_count": null,
   "id": "e7333262-0c30-44e4-9c3e-76eddce4130b",
   "metadata": {
    "deletable": false,
    "nbgrader": {
     "cell_type": "code",
     "checksum": "c2c45bbb2b654cb2f4e620afefa6c915",
     "grade": false,
     "grade_id": "cell-ba1acc02f84c25e3",
     "locked": false,
     "schema_version": 3,
     "solution": true,
     "task": false
    }
   },
   "outputs": [],
   "source": [
    "# Write your answer\n",
    "def df(f, x, h):\n",
    "    \"\"\"\n",
    "    f : function\n",
    "    x : float\n",
    "    h : float\n",
    "        step size\n",
    "    \"\"\"\n",
    "    # YOUR CODE HERE\n",
    "    raise NotImplementedError()"
   ]
  },
  {
   "cell_type": "code",
   "execution_count": null,
   "id": "3701c605",
   "metadata": {
    "deletable": false,
    "editable": false,
    "nbgrader": {
     "cell_type": "code",
     "checksum": "76d4bedd3327e0a59eb73e90cedde7ad",
     "grade": true,
     "grade_id": "cell-f5db8024c7703f97",
     "locked": true,
     "points": 5,
     "schema_version": 3,
     "solution": false,
     "task": false
    }
   },
   "outputs": [],
   "source": [
    "# Check your result\n",
    "hs = [0.1, 0.05, 0.25]\n",
    "f = np.sin\n",
    "\n",
    "assert abs(df(f, 0, hs[0]) - 1.003321) < 1e-6\n",
    "assert abs(df(f, 0, hs[1]) - 1.000832) < 1e-6\n",
    "assert abs(df(f, 0, hs[2]) - 1.020380) < 1e-6"
   ]
  },
  {
   "cell_type": "markdown",
   "id": "67b7666f",
   "metadata": {
    "deletable": false,
    "editable": false,
    "nbgrader": {
     "cell_type": "markdown",
     "checksum": "5b97f97e816176c7e4da9f2bfcccc980",
     "grade": false,
     "grade_id": "cell-8b880deb19492331",
     "locked": true,
     "schema_version": 3,
     "solution": false,
     "task": false
    }
   },
   "source": [
    "## Problem #3\n",
    "Recall that the velocity of the freefalling parachutist with linear drag can be computed analytically as\n",
    "\n",
    "$v(t) = \\frac{gm}{c}(1 - e^{-(c/m)t})$\n",
    "\n",
    "where $v(t)$ = velocity (m/s), $t$ = time (s), $g$ = 9.81 m/s2, $m$ = mass (kg), $c$ = linear drag coefficient (kg/s). \n",
    "\n",
    "Use Romberg integration to compute how far the jumper travels during the first 8 seconds of free fall given $m$ = 80 kg and $c$ = 10 kg/s. \n",
    "\n",
    "Compute the answer to $\\epsilon_{t}$ =1%."
   ]
  },
  {
   "cell_type": "code",
   "execution_count": null,
   "id": "b7226516",
   "metadata": {
    "deletable": false,
    "nbgrader": {
     "cell_type": "code",
     "checksum": "778e31a82505d52237b24c7d94fc10e0",
     "grade": false,
     "grade_id": "cell-59aa516fedc2e0e4",
     "locked": false,
     "schema_version": 3,
     "solution": true,
     "task": false
    }
   },
   "outputs": [],
   "source": [
    "# Write your answer\n",
    "# Save the result in ans_a\n",
    "# YOUR CODE HERE\n",
    "raise NotImplementedError()"
   ]
  },
  {
   "cell_type": "code",
   "execution_count": null,
   "id": "507ef619",
   "metadata": {
    "deletable": false,
    "editable": false,
    "nbgrader": {
     "cell_type": "code",
     "checksum": "79c721c19f4d8bb00946f308aa747691",
     "grade": true,
     "grade_id": "cell-65087bdeedebcecc",
     "locked": true,
     "points": 5,
     "schema_version": 3,
     "solution": false,
     "task": false
    }
   },
   "outputs": [],
   "source": [
    "# Do not remove!!"
   ]
  },
  {
   "cell_type": "markdown",
   "id": "4226822a",
   "metadata": {
    "deletable": false,
    "editable": false,
    "nbgrader": {
     "cell_type": "markdown",
     "checksum": "6480b804f54d616be94bc8bd81d4e4dd",
     "grade": false,
     "grade_id": "cell-8610b00be6407c40",
     "locked": true,
     "schema_version": 3,
     "solution": false,
     "task": false
    }
   },
   "source": [
    "## Problem #4\n",
    "\n",
    "The objective of this problem is to compare first-order accurate forward, backward, and second-order centered finite-difference approximations of the second derivative of a function to the actual value of the derivative. \n",
    "\n",
    "This will be done for\n",
    "\n",
    "$f(x)=e^{-2x}-x$\n",
    "\n",
    "- (a) Use calculus to determine the correct value of the second derivative at $x$ = 2.\n",
    "- (b) To evaluate the second-derivative centered finite-difference approximations, start with  $\\Delta x = 0.1$. Thus, for the first evaluation, the x values for the centered difference approximation will be $x$ = 1.9 and 2.1. Then, decrease in increments of 0.01 down to a minimum value of $\\Delta x$ = 0.01.\n",
    "\n",
    "- (c) Repeat (b) the second-derivative forward and backward differences. (Note that these can be done at the same time that the centered difference is computed in the loop.)\n",
    "- (d) Plot the results of (b) and (c) versus x. Include the exact result on the plot for comparison."
   ]
  },
  {
   "cell_type": "code",
   "execution_count": null,
   "id": "755be24b",
   "metadata": {
    "deletable": false,
    "nbgrader": {
     "cell_type": "code",
     "checksum": "ef81df8a37616a1c47e2554558d4e6a6",
     "grade": false,
     "grade_id": "cell-a6e108c7a1bd00c6",
     "locked": false,
     "schema_version": 3,
     "solution": true,
     "task": false
    }
   },
   "outputs": [],
   "source": [
    "# Write your answer (a)\n",
    "# Save the result in ans_a\n",
    "# YOUR CODE HERE\n",
    "raise NotImplementedError()"
   ]
  },
  {
   "cell_type": "code",
   "execution_count": null,
   "id": "1da4bc23",
   "metadata": {
    "deletable": false,
    "editable": false,
    "nbgrader": {
     "cell_type": "code",
     "checksum": "45dc2fbf0028f662563e8f169ca779c8",
     "grade": true,
     "grade_id": "cell-db74c1360ea28a7a",
     "locked": true,
     "points": 2,
     "schema_version": 3,
     "solution": false,
     "task": false
    }
   },
   "outputs": [],
   "source": [
    "# Do not remove!!"
   ]
  },
  {
   "cell_type": "code",
   "execution_count": null,
   "id": "66d01456",
   "metadata": {
    "deletable": false,
    "nbgrader": {
     "cell_type": "code",
     "checksum": "6f3b7ad11ab05179c404b8e3c84a1660",
     "grade": true,
     "grade_id": "cell-ef8c319d03de4575",
     "locked": false,
     "points": 3,
     "schema_version": 3,
     "solution": true,
     "task": false
    }
   },
   "outputs": [],
   "source": [
    "# Write your answer (d)\n",
    "# YOUR CODE HERE\n",
    "raise NotImplementedError()"
   ]
  }
 ],
 "metadata": {
  "kernelspec": {
   "display_name": "Python 3",
   "language": "python",
   "name": "python3"
  },
  "language_info": {
   "codemirror_mode": {
    "name": "ipython",
    "version": 3
   },
   "file_extension": ".py",
   "mimetype": "text/x-python",
   "name": "python",
   "nbconvert_exporter": "python",
   "pygments_lexer": "ipython3",
   "version": "3.12.6"
  },
  "widgets": {
   "application/vnd.jupyter.widget-state+json": {
    "state": {},
    "version_major": 1,
    "version_minor": 0
   }
  }
 },
 "nbformat": 4,
 "nbformat_minor": 5
}
