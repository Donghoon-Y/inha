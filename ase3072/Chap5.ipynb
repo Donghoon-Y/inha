{
 "cells": [
  {
   "cell_type": "code",
   "execution_count": 1,
   "id": "Nml-780U0wh-",
   "metadata": {
    "colab": {
     "base_uri": "https://localhost:8080/"
    },
    "executionInfo": {
     "elapsed": 16064,
     "status": "ok",
     "timestamp": 1744627214618,
     "user": {
      "displayName": "양동훈",
      "userId": "10144199678924553979"
     },
     "user_tz": -540
    },
    "id": "Nml-780U0wh-",
    "outputId": "b3ab3130-705b-4e51-bf71-1709f22721fd"
   },
   "outputs": [
    {
     "name": "stdout",
     "output_type": "stream",
     "text": [
      "Collecting git+https://gitlab.com/aadl_inha/CompAir.git\n",
      "  Cloning https://gitlab.com/aadl_inha/CompAir.git to /private/var/folders/hw/1xcjmtrs1c31k9myf8c3p_ph0000gn/T/pip-req-build-pmq53p99\n",
      "  Running command git clone --filter=blob:none --quiet https://gitlab.com/aadl_inha/CompAir.git /private/var/folders/hw/1xcjmtrs1c31k9myf8c3p_ph0000gn/T/pip-req-build-pmq53p99\n",
      "  Resolved https://gitlab.com/aadl_inha/CompAir.git to commit 50eeeb49ae08f7b9f98967184279c2c753430c2b\n",
      "  Installing build dependencies ... \u001b[?25ldone\n",
      "\u001b[?25h  Getting requirements to build wheel ... \u001b[?25ldone\n",
      "\u001b[?25h  Preparing metadata (pyproject.toml) ... \u001b[?25ldone\n",
      "\u001b[?25hRequirement already satisfied: numpy>=1.8 in /Users/hoony/pyenv/lib/python3.13/site-packages (from CompAir==0.1) (2.2.3)\n",
      "Requirement already satisfied: scipy>=0.1 in /Users/hoony/pyenv/lib/python3.13/site-packages (from CompAir==0.1) (1.15.2)\n",
      "\n",
      "\u001b[1m[\u001b[0m\u001b[34;49mnotice\u001b[0m\u001b[1;39;49m]\u001b[0m\u001b[39;49m A new release of pip is available: \u001b[0m\u001b[31;49m24.3.1\u001b[0m\u001b[39;49m -> \u001b[0m\u001b[32;49m25.1.1\u001b[0m\n",
      "\u001b[1m[\u001b[0m\u001b[34;49mnotice\u001b[0m\u001b[1;39;49m]\u001b[0m\u001b[39;49m To update, run: \u001b[0m\u001b[32;49mpip install --upgrade pip\u001b[0m\n"
     ]
    }
   ],
   "source": [
    "!pip install git+https://gitlab.com/aadl_inha/CompAir.git"
   ]
  },
  {
   "cell_type": "code",
   "execution_count": 2,
   "id": "Rnyl2-mCqECu",
   "metadata": {
    "executionInfo": {
     "elapsed": 21,
     "status": "ok",
     "timestamp": 1744627214643,
     "user": {
      "displayName": "양동훈",
      "userId": "10144199678924553979"
     },
     "user_tz": -540
    },
    "id": "Rnyl2-mCqECu"
   },
   "outputs": [],
   "source": [
    "%matplotlib inline\n",
    "from matplotlib import pyplot as plt\n",
    "\n",
    "import numpy as np\n",
    "\n",
    "plt.style.use('ggplot')\n",
    "plt.rcParams['figure.dpi'] = 150"
   ]
  },
  {
   "cell_type": "code",
   "execution_count": 3,
   "id": "junior-bishop",
   "metadata": {
    "executionInfo": {
     "elapsed": 748,
     "status": "ok",
     "timestamp": 1744627215392,
     "user": {
      "displayName": "양동훈",
      "userId": "10144199678924553979"
     },
     "user_tz": -540
    },
    "id": "junior-bishop"
   },
   "outputs": [],
   "source": [
    "# 등엔트로피 유동 관계식\n",
    "from compair import isentropic as isen\n",
    "# 수직충격파 관계식\n",
    "from compair import normal_shock as ns\n",
    "# 경사충격파 관계식\n",
    "from compair import oblique_shock as obq\n",
    "\n",
    "import numpy as np"
   ]
  },
  {
   "cell_type": "markdown",
   "id": "minimal-anatomy",
   "metadata": {
    "id": "minimal-anatomy"
   },
   "source": [
    "$\\theta-\\beta-M 관계식$\n",
    "* $\\theta = f(M, \\beta)$\n",
    "* scipy의 root finding을 이용하여 $f(M,\\beta)-\\theta=0$ 인 해를 찾음"
   ]
  },
  {
   "cell_type": "code",
   "execution_count": 4,
   "id": "Jct3fsx8874T",
   "metadata": {
    "colab": {
     "base_uri": "https://localhost:8080/"
    },
    "executionInfo": {
     "elapsed": 5,
     "status": "ok",
     "timestamp": 1744627215400,
     "user": {
      "displayName": "양동훈",
      "userId": "10144199678924553979"
     },
     "user_tz": -540
    },
    "id": "Jct3fsx8874T",
    "outputId": "1fc15648-f730-494c-d78c-74d8a3969801"
   },
   "outputs": [
    {
     "name": "stdout",
     "output_type": "stream",
     "text": [
      "Theta=10.623\n"
     ]
    }
   ],
   "source": [
    "# Mach 2, 파각 40도\n",
    "theta = obq.theta_beta(40, 2)\n",
    "print(\"Theta={:.3f}\".format(theta))"
   ]
  },
  {
   "cell_type": "code",
   "execution_count": 5,
   "id": "snv1x55n6oaK",
   "metadata": {
    "colab": {
     "base_uri": "https://localhost:8080/"
    },
    "executionInfo": {
     "elapsed": 2,
     "status": "ok",
     "timestamp": 1744627215403,
     "user": {
      "displayName": "양동훈",
      "userId": "10144199678924553979"
     },
     "user_tz": -540
    },
    "id": "snv1x55n6oaK",
    "outputId": "b693c70b-a737-4743-bb5f-8901c44652f3"
   },
   "outputs": [
    {
     "name": "stdout",
     "output_type": "stream",
     "text": [
      "Beta=39.314\n"
     ]
    }
   ],
   "source": [
    "# Mach 2, 쇄기각 10도\n",
    "beta = obq.beta_weak(2, 10)\n",
    "print(\"Beta={:.3f}\".format(beta))"
   ]
  },
  {
   "cell_type": "code",
   "execution_count": 6,
   "id": "r0bwLR2t7b7-",
   "metadata": {
    "colab": {
     "base_uri": "https://localhost:8080/"
    },
    "executionInfo": {
     "elapsed": 40,
     "status": "ok",
     "timestamp": 1744627215444,
     "user": {
      "displayName": "양동훈",
      "userId": "10144199678924553979"
     },
     "user_tz": -540
    },
    "id": "r0bwLR2t7b7-",
    "outputId": "f234ad08-230d-4103-ab9e-a4cfd307a675"
   },
   "outputs": [
    {
     "name": "stdout",
     "output_type": "stream",
     "text": [
      "Theta_max=22.973532\n"
     ]
    }
   ],
   "source": [
    "# Mach 2, 경사충격파가 발생할 수 있는  최대 쐐기각\n",
    "theta_max = obq.theta_max(2)\n",
    "print(\"Theta_max={:3f}\".format(theta_max))"
   ]
  },
  {
   "cell_type": "code",
   "execution_count": 7,
   "id": "eLVI4plWd7lU",
   "metadata": {
    "colab": {
     "base_uri": "https://localhost:8080/",
     "height": 722
    },
    "executionInfo": {
     "elapsed": 1195,
     "status": "ok",
     "timestamp": 1744627216654,
     "user": {
      "displayName": "양동훈",
      "userId": "10144199678924553979"
     },
     "user_tz": -540
    },
    "id": "eLVI4plWd7lU",
    "outputId": "9db5bf12-4c9d-40a2-f9c4-5ad1d4ba13cc"
   },
   "outputs": [
    {
     "name": "stderr",
     "output_type": "stream",
     "text": [
      "/Users/hoony/pyenv/lib/python3.13/site-packages/compair/oblique_shock.py:55: RuntimeWarning: divide by zero encountered in scalar divide\n",
      "  return 2/np.tan(beta_r)*((M*np.sin(beta_r))**2 - 1)/(M**2*(gamma + np.cos(2*beta_r))+2)\n"
     ]
    },
    {
     "data": {
      "text/plain": [
       "Text(0, 0.5, '$\\\\beta$')"
      ]
     },
     "execution_count": 7,
     "metadata": {},
     "output_type": "execute_result"
    },
    {
     "data": {
      "image/png": "[encoded data removed]",
      "text/plain": [
       "<Figure size 960x720 with 1 Axes>"
      ]
     },
     "metadata": {},
     "output_type": "display_data"
    }
   ],
   "source": [
    "from scipy import optimize\n",
    "\n",
    "\n",
    "def tbm_curve(M, gamma=1.4, n=31):\n",
    "    # Construct equation for beta\n",
    "    f = lambda x : obq.theta_beta(x, M, gamma)\n",
    "\n",
    "    # Compute root of tbm w.r.t beta\n",
    "    sol = optimize.root_scalar(f, bracket=[0, 90])\n",
    "    beta_min =sol.root\n",
    "\n",
    "    # Divide betas on (beta_min, 90)\n",
    "    beta = np.linspace(beta_min, 90, n)\n",
    "\n",
    "    # Compute thetas\n",
    "    theta = obq.theta_beta(beta, M)\n",
    "\n",
    "    return theta, np.deg2rad(beta)\n",
    "\n",
    "# Plot for Mach numbers\n",
    "for M in [1.1, 1.2, 1.4, 1.6, 1.8, 2, 2.2, 2.5, 3, 4, 6, 15]:\n",
    "    # Get theta-beta curve (in degree)\n",
    "    theta, beta = tbm_curve(M)\n",
    "\n",
    "    # Plot each curve\n",
    "    plt.plot(theta, beta, color='gray')\n",
    "\n",
    "    # Get maximum theta and beta\n",
    "    idx = theta.argmax()\n",
    "    theta_max = theta[idx]\n",
    "    beta_loc = beta[idx]\n",
    "\n",
    "    # Add text\n",
    "    plt.text(theta_max, beta_loc, \"M={}\".format(M), fontsize='x-small')\n",
    "\n",
    "# Add labels using Latex symbols\n",
    "plt.xlabel(r\"$\\theta$\")\n",
    "plt.ylabel(r\"$\\beta$\")"
   ]
  },
  {
   "cell_type": "markdown",
   "id": "unexpected-magnet",
   "metadata": {
    "id": "unexpected-magnet"
   },
   "source": [
    "Example 2\n",
    "--------------\n",
    "$M=2$, $p=1$ atm,$T=288$, $\\theta=20$"
   ]
  },
  {
   "cell_type": "code",
   "execution_count": 8,
   "id": "formal-breakdown",
   "metadata": {
    "colab": {
     "base_uri": "https://localhost:8080/"
    },
    "executionInfo": {
     "elapsed": 14,
     "status": "ok",
     "timestamp": 1744627216667,
     "user": {
      "displayName": "양동훈",
      "userId": "10144199678924553979"
     },
     "user_tz": -540
    },
    "id": "formal-breakdown",
    "outputId": "9b6f4d61-ded5-4880-fb79-081a6eb7168f"
   },
   "outputs": [
    {
     "name": "stdout",
     "output_type": "stream",
     "text": [
      "beta=53.42 @ M=2, theta=20\n",
      "Mn2=0.667 @ Mn1=1.606\n",
      "M2=1.210\n",
      "p2=2.843 atm, T2=400.951 K\n",
      "p02=6.987 atm, T02=518.400 K\n"
     ]
    }
   ],
   "source": [
    "M1, p1, t1 = 2, 1, 288\n",
    "theta=20\n",
    "\n",
    "# theta-beta-M 관계식\n",
    "beta = obq.beta_weak(M1, theta)\n",
    "print(\"beta={:.2f} @ M={}, theta={}\".format(beta, M1, theta))\n",
    "\n",
    "# 파에 수직방향 계산\n",
    "Mn1 = M1*np.sin(np.deg2rad(beta))\n",
    "Mn2, rho2_rho1, p2_p1, p02_p01 = ns.solve(Mn1)\n",
    "t2_t1 = p2_p1 / rho2_rho1\n",
    "print(\"Mn2={:.3f} @ Mn1={:.3f}\".format(Mn2, Mn1))\n",
    "\n",
    "# 수평방향 속도를 고려한 마하수\n",
    "M2 = Mn2 / np.sin(np.deg2rad(beta - theta))\n",
    "print(\"M2={:.3f}\".format(M2))\n",
    "\n",
    "# 압력, 온도 계산\n",
    "p2 = p2_p1*p1\n",
    "t2 = t2_t1*t1\n",
    "print(\"p2={:.3f} atm, T2={:.3f} K\".format(p2, t2))\n",
    "\n",
    "# 전압력, 전온도 계산\n",
    "p02 = p2*isen.p0_p(M2)\n",
    "t02 = t2*isen.t0_t(M2)\n",
    "print(\"p02={:.3f} atm, T02={:.3f} K\".format(p02, t02))"
   ]
  },
  {
   "cell_type": "markdown",
   "id": "interested-modeling",
   "metadata": {
    "id": "interested-modeling"
   },
   "source": [
    "Example 3\n",
    "---------------\n",
    "$\\beta$ = 30, $M_1=2.4$"
   ]
  },
  {
   "cell_type": "code",
   "execution_count": 9,
   "id": "threatened-athletics",
   "metadata": {
    "colab": {
     "base_uri": "https://localhost:8080/"
    },
    "executionInfo": {
     "elapsed": 5,
     "status": "ok",
     "timestamp": 1744627216672,
     "user": {
      "displayName": "양동훈",
      "userId": "10144199678924553979"
     },
     "user_tz": -540
    },
    "id": "threatened-athletics",
    "outputId": "7742a5cd-3d91-4e26-b098-32cc5f1be7a8"
   },
   "outputs": [
    {
     "name": "stdout",
     "output_type": "stream",
     "text": [
      "theta=6.72 @ M=2.4, beta=30\n",
      "Mn2=0.842 @ Mn1=1.200\n",
      "M2=2.131\n",
      "p2/p1=1.513, T2/T1=1.128\n"
     ]
    }
   ],
   "source": [
    "beta =  30\n",
    "M1 = 2.4\n",
    "\n",
    "# 쇄기각 계산\n",
    "theta = obq.theta_beta(beta, M1)\n",
    "print(\"theta={:.2f} @ M={}, beta={}\".format(theta, M1, beta))\n",
    "\n",
    "# 수직방향 충격파 계산\n",
    "Mn1 = M1 * np.sin(np.deg2rad(beta))\n",
    "Mn2, rho2_rho1, p2_p1, p02_p01 = ns.solve(Mn1)\n",
    "t2_t1 = p2_p1 / rho2_rho1\n",
    "print(\"Mn2={:.3f} @ Mn1={:.3f}\".format(Mn2, Mn1))\n",
    "\n",
    "# 수평방향 속도를 고려한 마하수\n",
    "M2 = Mn2 / np.sin(np.deg2rad(beta - theta))\n",
    "print(\"M2={:.3f}\".format(M2))\n",
    "\n",
    "# 압력, 온도 계산\n",
    "print(\"p2/p1={:.3f}, T2/T1={:.3f}\".format(p2_p1, t2_t1))"
   ]
  },
  {
   "cell_type": "markdown",
   "id": "female-simple",
   "metadata": {
    "id": "female-simple"
   },
   "source": [
    "Example 4\n",
    "---------------\n",
    "$\\beta=35$, $p_2/p_1=3$"
   ]
  },
  {
   "cell_type": "code",
   "execution_count": 10,
   "id": "average-elizabeth",
   "metadata": {
    "colab": {
     "base_uri": "https://localhost:8080/"
    },
    "executionInfo": {
     "elapsed": 11,
     "status": "ok",
     "timestamp": 1744627216685,
     "user": {
      "displayName": "양동훈",
      "userId": "10144199678924553979"
     },
     "user_tz": -540
    },
    "id": "average-elizabeth",
    "outputId": "fe1c45a1-6a45-4079-900e-724e3ed7d2cd"
   },
   "outputs": [
    {
     "name": "stdout",
     "output_type": "stream",
     "text": [
      "Mn1=1.648 @ p2/p1=3\n",
      "M1=2.872\n"
     ]
    }
   ],
   "source": [
    "from scipy.optimize import root\n",
    "\n",
    "beta = 35\n",
    "pratio = 3\n",
    "\n",
    "# 수직 방향 마하수 x일 때 수직충격파 관계식에 의한 압력비와 pratio 차이 함수\n",
    "func = lambda x : ns.solve(x)[2] - pratio\n",
    "\n",
    "# func=0이 되는 마하수를 수치적으로 계산\n",
    "Mn1 = root(func, 1.01).x[0]\n",
    "print(\"Mn1={:.3f} @ p2/p1={}\".format(Mn1, pratio))\n",
    "\n",
    "# 수평방향 성분을 고려한 마하수 계산\n",
    "M1 = Mn1 / np.sin(np.deg2rad(beta))\n",
    "print(\"M1={:.3f}\".format(M1))"
   ]
  },
  {
   "cell_type": "markdown",
   "id": "shaped-domestic",
   "metadata": {
    "id": "shaped-domestic"
   },
   "source": [
    "Example 5\n",
    "---------------\n",
    "- Freetream $M=3$\n",
    "1. After normal shock\n",
    "2. Oblique shock with $\\beta=40$ and normal shock"
   ]
  },
  {
   "cell_type": "code",
   "execution_count": 11,
   "id": "unauthorized-divide",
   "metadata": {
    "colab": {
     "base_uri": "https://localhost:8080/"
    },
    "executionInfo": {
     "elapsed": 5,
     "status": "ok",
     "timestamp": 1744627216691,
     "user": {
      "displayName": "양동훈",
      "userId": "10144199678924553979"
     },
     "user_tz": -540
    },
    "id": "unauthorized-divide",
    "outputId": "f5e40b20-caa2-4ba8-99ef-bb7b77e6554c"
   },
   "outputs": [
    {
     "name": "stdout",
     "output_type": "stream",
     "text": [
      "Total Pressure Recovery : 0.328\n"
     ]
    }
   ],
   "source": [
    "M = 3\n",
    "\n",
    "# 수직 충격파에 의한 전압력 손실\n",
    "pr1= ns.solve(M)[3]\n",
    "print(\"Total Pressure Recovery : {:.3f}\".format(pr1))"
   ]
  },
  {
   "cell_type": "code",
   "execution_count": 12,
   "id": "educational-scottish",
   "metadata": {
    "colab": {
     "base_uri": "https://localhost:8080/"
    },
    "executionInfo": {
     "elapsed": 2,
     "status": "ok",
     "timestamp": 1744627216694,
     "user": {
      "displayName": "양동훈",
      "userId": "10144199678924553979"
     },
     "user_tz": -540
    },
    "id": "educational-scottish",
    "outputId": "5062ce98-85c1-4e48-a289-05cbf0061097"
   },
   "outputs": [
    {
     "name": "stdout",
     "output_type": "stream",
     "text": [
      "theta=21.85 @ M=3, beta=40\n",
      "Mn2=0.590 @ Mn1=1.928\n",
      "M2=1.894\n",
      "Total Pressure Recovery after oblique shock: 0.7542\n",
      "M3=0.597\n",
      "Total Pressure Recovery after normal shock: 0.7700\n",
      "Total Pressure Recovery after two shocks : 0.5808\n"
     ]
    }
   ],
   "source": [
    "beta = 40\n",
    "\n",
    "# 쇄기각 계산\n",
    "theta = obq.theta_beta(beta, M)\n",
    "print(\"theta={:.2f} @ M={}, beta={}\".format(theta, M, beta))\n",
    "\n",
    "# 수직방향 마하수 계산\n",
    "Mn1 = M * np.sin(np.deg2rad(beta))\n",
    "Mn2, rho2_rho1, p2_p1, p02_p01 = ns.solve(Mn1)\n",
    "print(\"Mn2={:.3f} @ Mn1={:.3f}\".format(Mn2, Mn1))\n",
    "\n",
    "# 수평 성분을 고려한 마하수 계산\n",
    "M2 = Mn2 / np.sin(np.deg2rad(beta - theta))\n",
    "print(\"M2={:.3f}\".format(M2))\n",
    "\n",
    "# 경사 충격파에 의한 전압력 손실\n",
    "pr12 = p02_p01\n",
    "print(\"Total Pressure Recovery after oblique shock: {:.4f}\".format(pr12))\n",
    "\n",
    "# 수직충격파에 의한 전압력 손실\n",
    "M3, _, _, p03_p02 = ns.solve(M2)\n",
    "print(\"M3={:.3f}\".format(M3))\n",
    "pr22 = p03_p02\n",
    "print(\"Total Pressure Recovery after normal shock: {:.4f}\".format(pr22))\n",
    "\n",
    "# 전압력 손실\n",
    "print(\"Total Pressure Recovery after two shocks : {:.4f}\".format(pr12*pr22))"
   ]
  },
  {
   "cell_type": "markdown",
   "id": "XLI0rU-hSFX6",
   "metadata": {
    "id": "XLI0rU-hSFX6"
   },
   "source": [
    "Example 6\n",
    "----------\n",
    "* $M_1=3.6$, $\\theta=10$\n",
    "* Sea level"
   ]
  },
  {
   "cell_type": "code",
   "execution_count": 13,
   "id": "b6PDKR1JSLwi",
   "metadata": {
    "colab": {
     "base_uri": "https://localhost:8080/"
    },
    "executionInfo": {
     "elapsed": 9,
     "status": "ok",
     "timestamp": 1744627216703,
     "user": {
      "displayName": "양동훈",
      "userId": "10144199678924553979"
     },
     "user_tz": -540
    },
    "id": "b6PDKR1JSLwi",
    "outputId": "bc3e40af-a1a9-40be-9329-cd2984797a61"
   },
   "outputs": [
    {
     "name": "stdout",
     "output_type": "stream",
     "text": [
      "Pressure: 101325.0 Pa\n",
      "Temperature: 288.15 K\n"
     ]
    }
   ],
   "source": [
    "from compair import atmos1976\n",
    "\n",
    "# At sea level (h=0km)\n",
    "_, p1, t1, _, _ = atmos1976.atmos1976_at(0)\n",
    "print(\"Pressure: {} Pa\".format(p1))\n",
    "print(\"Temperature: {} K\".format(t1))"
   ]
  },
  {
   "cell_type": "code",
   "execution_count": 14,
   "id": "6d6DosjJStMP",
   "metadata": {
    "colab": {
     "base_uri": "https://localhost:8080/"
    },
    "executionInfo": {
     "elapsed": 8,
     "status": "ok",
     "timestamp": 1744627216711,
     "user": {
      "displayName": "양동훈",
      "userId": "10144199678924553979"
     },
     "user_tz": -540
    },
    "id": "6d6DosjJStMP",
    "outputId": "d4fd5a09-9804-4600-a71f-bce429f0a64f"
   },
   "outputs": [
    {
     "name": "stdout",
     "output_type": "stream",
     "text": [
      "beta=23.90 @ M=3.6, theta=10\n",
      "Mn2=0.716 @ Mn1=1.458\n",
      "M2=2.982\n",
      "p2=234558.568 atm, T2=372.505 K\n"
     ]
    }
   ],
   "source": [
    "M1, theta = 3.6, 10\n",
    "\n",
    "# theta-beta-M 관계식\n",
    "beta = obq.beta_weak(M1, theta)\n",
    "print(\"beta={:.2f} @ M={}, theta={}\".format(beta, M1, theta))\n",
    "\n",
    "# 파에 수직방향 계산\n",
    "Mn1 = M1*np.sin(np.deg2rad(beta))\n",
    "Mn2, rho2_rho1, p2_p1, p02_p01 = ns.solve(Mn1)\n",
    "t2_t1 = p2_p1 / rho2_rho1\n",
    "print(\"Mn2={:.3f} @ Mn1={:.3f}\".format(Mn2, Mn1))\n",
    "\n",
    "# 수평방향 속도를 고려한 마하수\n",
    "M2 = Mn2 / np.sin(np.deg2rad(beta - theta))\n",
    "print(\"M2={:.3f}\".format(M2))\n",
    "\n",
    "# 압력, 온도 계산\n",
    "p2 = p2_p1*p1\n",
    "t2 = t2_t1*t1\n",
    "print(\"p2={:.3f} atm, T2={:.3f} K\".format(p2, t2))"
   ]
  },
  {
   "cell_type": "code",
   "execution_count": 15,
   "id": "Kf-tw5z9TFvI",
   "metadata": {
    "colab": {
     "base_uri": "https://localhost:8080/"
    },
    "executionInfo": {
     "elapsed": 8,
     "status": "ok",
     "timestamp": 1744627216719,
     "user": {
      "displayName": "양동훈",
      "userId": "10144199678924553979"
     },
     "user_tz": -540
    },
    "id": "Kf-tw5z9TFvI",
    "outputId": "6b9b9e46-6ea0-42e0-e4c6-e8a0f69d103b"
   },
   "outputs": [
    {
     "name": "stdout",
     "output_type": "stream",
     "text": [
      "beta=27.51 @ M=2.982, theta=10\n",
      "Mn3=0.749 @ Mn2=1.378\n",
      "M3=2.490\n",
      "p3=480190.055 atm, T3=461.992 K\n"
     ]
    }
   ],
   "source": [
    "# theta-beta-M 관계식\n",
    "beta2 = obq.beta_weak(M2, theta)\n",
    "print(\"beta={:.2f} @ M={:.3f}, theta={}\".format(beta2, M2, theta))\n",
    "\n",
    "# 파에 수직방향 계산\n",
    "Mn2 = M2*np.sin(np.deg2rad(beta2))\n",
    "Mn3, rho3_rho2, p3_p2, p03_p02 = ns.solve(Mn2)\n",
    "t3_t2 = p3_p2 / rho3_rho2\n",
    "print(\"Mn3={:.3f} @ Mn2={:.3f}\".format(Mn3, Mn2))\n",
    "\n",
    "# 수평방향 속도를 고려한 마하수\n",
    "M3 = Mn3 / np.sin(np.deg2rad(beta2 - theta))\n",
    "print(\"M3={:.3f}\".format(M3))\n",
    "\n",
    "# 압력, 온도 계산\n",
    "p3 = p3_p2*p2\n",
    "t3 = t3_t2*t2\n",
    "print(\"p3={:.3f} atm, T3={:.3f} K\".format(p3, t3))"
   ]
  },
  {
   "cell_type": "markdown",
   "id": "Lvq4ygIDVwuT",
   "metadata": {
    "id": "Lvq4ygIDVwuT"
   },
   "source": [
    "- Check Mach Reflection\n",
    "  - $\\theta > \\theta_{\\max}(M_2)$"
   ]
  },
  {
   "cell_type": "code",
   "execution_count": 16,
   "id": "vMdyXyzhUlDA",
   "metadata": {
    "executionInfo": {
     "elapsed": 0,
     "status": "ok",
     "timestamp": 1744627216719,
     "user": {
      "displayName": "양동훈",
      "userId": "10144199678924553979"
     },
     "user_tz": -540
    },
    "id": "vMdyXyzhUlDA"
   },
   "outputs": [],
   "source": [
    "def check_reflection(M1, theta):\n",
    "    # theta-beta-M 관계식\n",
    "    beta = obq.beta_weak(M1, theta)\n",
    "    print(\"beta={:.2f} @ M={}, theta={}\".format(beta, M1, theta))\n",
    "\n",
    "    # 파에 수직방향 계산\n",
    "    Mn1 = M1*np.sin(np.deg2rad(beta))\n",
    "    Mn2, rho2_rho1, p2_p1, p02_p01 = ns.solve(Mn1)\n",
    "    t2_t1 = p2_p1 / rho2_rho1\n",
    "    print(\"Mn2={:.3f} @ Mn1={:.3f}\".format(Mn2, Mn1))\n",
    "\n",
    "    # 수평방향 속도를 고려한 마하수\n",
    "    M2 = Mn2 / np.sin(np.deg2rad(beta - theta))\n",
    "    print(\"M2={:.3f}\".format(M2))\n",
    "\n",
    "    # 압력, 온도 계산\n",
    "    p2 = p2_p1*p1\n",
    "    t2 = t2_t1*t1\n",
    "    print(\"p2={:.3f} atm, T2={:.3f} K\".format(p2, t2))\n",
    "\n",
    "    # Theta max 비교\n",
    "    theta_max = obq.theta_max(M2)\n",
    "    if theta > theta_max:\n",
    "        print(\"Mach Reflection, theta_max={:.3f}\".format(theta_max))\n",
    "    else:\n",
    "        print(\"Regular Reflection\")"
   ]
  },
  {
   "cell_type": "code",
   "execution_count": 17,
   "id": "xnOtAEemV5Rj",
   "metadata": {
    "colab": {
     "base_uri": "https://localhost:8080/"
    },
    "executionInfo": {
     "elapsed": 6,
     "status": "ok",
     "timestamp": 1744627216725,
     "user": {
      "displayName": "양동훈",
      "userId": "10144199678924553979"
     },
     "user_tz": -540
    },
    "id": "xnOtAEemV5Rj",
    "outputId": "9cc1511c-8b7d-43ec-de07-58eb8aad72f9"
   },
   "outputs": [
    {
     "name": "stdout",
     "output_type": "stream",
     "text": [
      "beta=39.31 @ M=2.0, theta=10\n",
      "Mn2=0.803 @ Mn1=1.267\n",
      "M2=1.641\n",
      "p2=172919.077 atm, T2=337.179 K\n",
      "Regular Reflection\n"
     ]
    }
   ],
   "source": [
    "check_reflection(2.0, 10)"
   ]
  },
  {
   "cell_type": "code",
   "execution_count": 18,
   "id": "sDae9nhZVRlw",
   "metadata": {
    "colab": {
     "base_uri": "https://localhost:8080/"
    },
    "executionInfo": {
     "elapsed": 0,
     "status": "ok",
     "timestamp": 1744627216726,
     "user": {
      "displayName": "양동훈",
      "userId": "10144199678924553979"
     },
     "user_tz": -540
    },
    "id": "sDae9nhZVRlw",
    "outputId": "d4c91697-4b93-45b7-fb6a-28e6e64acbeb"
   },
   "outputs": [
    {
     "name": "stdout",
     "output_type": "stream",
     "text": [
      "beta=44.92 @ M=1.77, theta=10\n",
      "Mn2=0.813 @ Mn1=1.250\n",
      "M2=1.420\n",
      "p2=167789.743 atm, T2=334.056 K\n",
      "Mach Reflection, theta_max=9.963\n"
     ]
    }
   ],
   "source": [
    "check_reflection(1.77, 10)"
   ]
  },
  {
   "cell_type": "markdown",
   "id": "8mGU4xiwgDOd",
   "metadata": {
    "id": "8mGU4xiwgDOd"
   },
   "source": [
    "충격파 상호 작용 예제\n",
    "-----------------\n",
    "- M=10\n",
    "- $\\theta_2=10$, $\\theta_3=20$"
   ]
  },
  {
   "cell_type": "code",
   "execution_count": 19,
   "id": "eV8FnWDKgQGR",
   "metadata": {
    "colab": {
     "base_uri": "https://localhost:8080/"
    },
    "executionInfo": {
     "elapsed": 0,
     "status": "ok",
     "timestamp": 1744627216727,
     "user": {
      "displayName": "양동훈",
      "userId": "10144199678924553979"
     },
     "user_tz": -540
    },
    "id": "eV8FnWDKgQGR",
    "outputId": "e6a89f16-a27e-433c-ec72-49094483ffc3"
   },
   "outputs": [
    {
     "name": "stdout",
     "output_type": "stream",
     "text": [
      "Mach at 2=3.286\n",
      "Density at 2=1.885\n",
      "Pressure at 2=2.506\n",
      "Mach at 3=2.569\n",
      "Density at 3=2.878\n",
      "Pressure at 3=5.212\n"
     ]
    }
   ],
   "source": [
    "# 초기 조건\n",
    "M1 = 4\n",
    "theta2=10\n",
    "theta3=20\n",
    "rho1 = 1\n",
    "p1 = 1\n",
    "\n",
    "# 윗쪽 경사면 해석\n",
    "M2, rho2_rho1, p2_p1, _, beta2 = obq.solve(M1, theta2)\n",
    "rho2 = rho2_rho1*rho1\n",
    "p2 = p2_p1*p1\n",
    "print(\"Mach at 2={:.3f}\".format(M2))\n",
    "print(\"Density at 2={:.3f}\".format(rho2))\n",
    "print(\"Pressure at 2={:.3f}\".format(p2))\n",
    "\n",
    "# 아랫쪽 경사면 해석\n",
    "M3, rho3_rho1, p3_p1, _, beta3 = obq.solve(M1, theta3)\n",
    "rho3 = rho3_rho1*rho1\n",
    "p3 = p3_p1*p1\n",
    "print(\"Mach at 3={:.3f}\".format(M3))\n",
    "print(\"Density at 3={:.3f}\".format(rho3))\n",
    "print(\"Pressure at 3={:.3f}\".format(p3))"
   ]
  },
  {
   "cell_type": "code",
   "execution_count": 20,
   "id": "5Vz4F2B2gaNb",
   "metadata": {
    "colab": {
     "base_uri": "https://localhost:8080/"
    },
    "executionInfo": {
     "elapsed": 13,
     "status": "ok",
     "timestamp": 1744627216740,
     "user": {
      "displayName": "양동훈",
      "userId": "10144199678924553979"
     },
     "user_tz": -540
    },
    "id": "5Vz4F2B2gaNb",
    "outputId": "2322616b-dc69-4033-9c66-210081d77c34"
   },
   "outputs": [
    {
     "name": "stdout",
     "output_type": "stream",
     "text": [
      "Mach at 4=2.202\n",
      "Density at 4=4.729\n",
      "Pressure at 4=10.083\n",
      "Mach at 5=2.123\n",
      "Density at 5=4.590\n",
      "Pressure at 5=10.136\n"
     ]
    }
   ],
   "source": [
    "# 미끄럼 유선 각도 예상\n",
    "phi = 9.5\n",
    "theta4 = theta2 + phi\n",
    "theta5 = theta3 - phi\n",
    "\n",
    "# 윗쪽 두번째 충격파 해석\n",
    "M4, rho4_rho2, p4_p2, _, beta4 = obq.solve(M2, theta4)\n",
    "rho4 = rho4_rho2*rho2\n",
    "p4 = p4_p2*p2\n",
    "print(\"Mach at 4={:.3f}\".format(M4))\n",
    "print(\"Density at 4={:.3f}\".format(rho4))\n",
    "print(\"Pressure at 4={:.3f}\".format(p4))\n",
    "\n",
    "# 아랫쪽 두번째 충격파 해석\n",
    "M5, rho5_rho3, p5_p3, _, beta4 = obq.solve(M3, theta5)\n",
    "rho5 = rho5_rho3*rho3\n",
    "p5 = p5_p3*p3\n",
    "print(\"Mach at 5={:.3f}\".format(M5))\n",
    "print(\"Density at 5={:.3f}\".format(rho5))\n",
    "print(\"Pressure at 5={:.3f}\".format(p5))"
   ]
  },
  {
   "cell_type": "markdown",
   "id": "AFQ-Sw1KYILb",
   "metadata": {
    "id": "AFQ-Sw1KYILb"
   },
   "source": [
    "\n",
    "Example 7\n",
    "--------------\n",
    "- $M=8$, $\\beta=90, 60$"
   ]
  },
  {
   "cell_type": "code",
   "execution_count": 21,
   "id": "4cpc2xhwYKSy",
   "metadata": {
    "colab": {
     "base_uri": "https://localhost:8080/"
    },
    "executionInfo": {
     "elapsed": 1,
     "status": "ok",
     "timestamp": 1744627216741,
     "user": {
      "displayName": "양동훈",
      "userId": "10144199678924553979"
     },
     "user_tz": -540
    },
    "id": "4cpc2xhwYKSy",
    "outputId": "d21de605-2631-475e-838c-b22d5716811d"
   },
   "outputs": [
    {
     "name": "stdout",
     "output_type": "stream",
     "text": [
      "Total Pressure Recovery 0.85 % Entropy increase 1368.7379 J/Kg K\n"
     ]
    }
   ],
   "source": [
    "# Beta = 90\n",
    "M = 8\n",
    "pr = ns.p02_p01(M)\n",
    "ds = -287*np.log(pr)\n",
    "print(\"Total Pressure Recovery {:.2f} % Entropy increase {:.4f} J/Kg K\".format(pr*100, ds))"
   ]
  },
  {
   "cell_type": "code",
   "execution_count": 22,
   "id": "XcRIsqYqYOqe",
   "metadata": {
    "colab": {
     "base_uri": "https://localhost:8080/"
    },
    "executionInfo": {
     "elapsed": 1,
     "status": "ok",
     "timestamp": 1744627216742,
     "user": {
      "displayName": "양동훈",
      "userId": "10144199678924553979"
     },
     "user_tz": -540
    },
    "id": "XcRIsqYqYOqe",
    "outputId": "8080c6e1-5d6b-43a6-9679-e8b0cb7a4378"
   },
   "outputs": [
    {
     "name": "stdout",
     "output_type": "stream",
     "text": [
      "Total Pressure Recovery 1.61 % Entropy increase 1185.7657 J/Kg K\n"
     ]
    }
   ],
   "source": [
    "# Beta = 60\n",
    "M = 8\n",
    "beta = 60\n",
    "Mn = M*np.sin(np.deg2rad(beta))\n",
    "pr = ns.p02_p01(Mn)\n",
    "ds = -287*np.log(pr)\n",
    "print(\"Total Pressure Recovery {:.2f} % Entropy increase {:.4f} J/Kg K\".format(pr*100, ds))"
   ]
  },
  {
   "cell_type": "markdown",
   "id": "pEVytyuOpJGZ",
   "metadata": {
    "id": "pEVytyuOpJGZ"
   },
   "source": [
    "Expansion Wave\n",
    "---------------\n",
    "- Prandtl Meyer Function 활용"
   ]
  },
  {
   "cell_type": "code",
   "execution_count": 23,
   "id": "pJSLhscLpQnS",
   "metadata": {
    "executionInfo": {
     "elapsed": 1,
     "status": "ok",
     "timestamp": 1744627216743,
     "user": {
      "displayName": "양동훈",
      "userId": "10144199678924553979"
     },
     "user_tz": -540
    },
    "id": "pJSLhscLpQnS"
   },
   "outputs": [],
   "source": [
    "from compair import prandtl_expand as expd"
   ]
  },
  {
   "cell_type": "markdown",
   "id": "PiwUdFgJppNG",
   "metadata": {
    "id": "PiwUdFgJppNG"
   },
   "source": [
    "Example 8\n",
    "----------\n",
    "- $M_1=1.5$, $p_1=1$ atm, $T_1=288$ K\n",
    "- $\\theta = 15$ expansion"
   ]
  },
  {
   "cell_type": "code",
   "execution_count": 24,
   "id": "VQurhRt-pawF",
   "metadata": {
    "colab": {
     "base_uri": "https://localhost:8080/"
    },
    "executionInfo": {
     "elapsed": 1,
     "status": "ok",
     "timestamp": 1744627216744,
     "user": {
      "displayName": "양동훈",
      "userId": "10144199678924553979"
     },
     "user_tz": -540
    },
    "id": "VQurhRt-pawF",
    "outputId": "9a5d7c9f-f550-4927-aab2-f61cf11f8d25"
   },
   "outputs": [
    {
     "name": "stdout",
     "output_type": "stream",
     "text": [
      "Nu = 26.905\n",
      "Mach 2 = 2.019\n",
      "Pressure at 2 : 0.455 atm\n",
      "Temperature at 2 : 230.0 K\n"
     ]
    }
   ],
   "source": [
    "M1 = 1.5\n",
    "p1, t1 = 1, 288\n",
    "theta = 15\n",
    "\n",
    "# Prandtl Meyer Function\n",
    "nu1 = expd.prandtl_meyer(M1)\n",
    "nu2 = nu1 + 15\n",
    "print(\"Nu = {:.3f}\".format(nu2))\n",
    "\n",
    "# By code\n",
    "M2 = expd.mach(M1, theta)\n",
    "print(\"Mach 2 = {:.3f}\".format(M2))\n",
    "\n",
    "# Pressure\n",
    "p2 = isen.p0_p(M1) / isen.p0_p(M2)*p1\n",
    "print(\"Pressure at 2 : {:.3f} atm\".format(p2))\n",
    "\n",
    "# Temperature\n",
    "t2 = isen.t0_t(M1) / isen.t0_t(M2)*t1\n",
    "print(\"Temperature at 2 : {:.1f} K\".format(t2))"
   ]
  },
  {
   "cell_type": "markdown",
   "id": "jL7tDaaQsiGu",
   "metadata": {
    "id": "jL7tDaaQsiGu"
   },
   "source": [
    "Example 9\n",
    "----------\n",
    "* $M = 10$, $\\theta=15$\n",
    "* Isentropic compression vs Oblique shock compression"
   ]
  },
  {
   "cell_type": "code",
   "execution_count": 25,
   "id": "BH-JUh01ssbW",
   "metadata": {
    "colab": {
     "base_uri": "https://localhost:8080/"
    },
    "executionInfo": {
     "elapsed": 11,
     "status": "ok",
     "timestamp": 1744627216755,
     "user": {
      "displayName": "양동훈",
      "userId": "10144199678924553979"
     },
     "user_tz": -540
    },
    "id": "BH-JUh01ssbW",
    "outputId": "321f8df9-bb41-4400-bc3b-85a9c870ac9e"
   },
   "outputs": [
    {
     "name": "stdout",
     "output_type": "stream",
     "text": [
      "M2=6.360\n",
      "Pressure at 2 : 18.733 atm\n"
     ]
    }
   ],
   "source": [
    "M1, theta = 10, 15\n",
    "p1 = 1\n",
    "\n",
    "# Isentropic compression\n",
    "M2 = expd.mach(M1, -theta)\n",
    "print('M2={:.3f}'.format(M2))\n",
    "\n",
    "# Pressure\n",
    "p2 = isen.p0_p(M1) / isen.p0_p(M2)*p1\n",
    "print(\"Pressure at 2 : {:.3f} atm\".format(p2))"
   ]
  },
  {
   "cell_type": "code",
   "execution_count": 26,
   "id": "-k5AxF7QtGo4",
   "metadata": {
    "colab": {
     "base_uri": "https://localhost:8080/"
    },
    "executionInfo": {
     "elapsed": 41,
     "status": "ok",
     "timestamp": 1744627216798,
     "user": {
      "displayName": "양동훈",
      "userId": "10144199678924553979"
     },
     "user_tz": -540
    },
    "id": "-k5AxF7QtGo4",
    "outputId": "cd936bab-0888-4383-b55a-094f88655a1f"
   },
   "outputs": [
    {
     "name": "stdout",
     "output_type": "stream",
     "text": [
      "M2=5.279\n",
      "Pressure at 2 : 13.404 atm\n",
      "Total Pressure Recovery : 0.230\n"
     ]
    }
   ],
   "source": [
    "# Oblique Shock Compression\n",
    "M2, _, p2_p1, p02_p01, beta = obq.solve(M1, theta)\n",
    "print('M2={:.3f}'.format(M2))\n",
    "\n",
    "# Pressure\n",
    "p2 = p2_p1*p1\n",
    "print(\"Pressure at 2 : {:.3f} atm\".format(p2))\n",
    "print(\"Total Pressure Recovery : {:.3f}\".format(p02_p01))"
   ]
  },
  {
   "cell_type": "markdown",
   "id": "2nudjSEGtf-a",
   "metadata": {
    "id": "2nudjSEGtf-a"
   },
   "source": [
    "Example 10\n",
    "-----------\n",
    "* M1 = 7, $\\alpha=10$\n",
    "* Flat plate vs Wedge with $\\delta=10$"
   ]
  },
  {
   "cell_type": "code",
   "execution_count": 27,
   "id": "BcPwBA7HtsSv",
   "metadata": {
    "colab": {
     "base_uri": "https://localhost:8080/"
    },
    "executionInfo": {
     "elapsed": 2,
     "status": "ok",
     "timestamp": 1744627216800,
     "user": {
      "displayName": "양동훈",
      "userId": "10144199678924553979"
     },
     "user_tz": -540
    },
    "id": "BcPwBA7HtsSv",
    "outputId": "ee5582c7-3a8c-4248-9fc3-97cb5f271413"
   },
   "outputs": [
    {
     "name": "stdout",
     "output_type": "stream",
     "text": [
      "M2 = 9.527\n",
      "pu = 0.135\n",
      "M2=5.234\n",
      "pl = 4.381\n",
      "Lift coefficient : 0.1219\n"
     ]
    }
   ],
   "source": [
    "# Upper surface\n",
    "M1 = 7\n",
    "alpha = 10\n",
    "\n",
    "# Flat plate\n",
    "# Upper surface\n",
    "M2 = expd.mach(M1, alpha)\n",
    "print(\"M2 = {:.3f}\".format(M2))\n",
    "\n",
    "p2 = isen.p0_p(M1) / isen.p0_p(M2)\n",
    "print(\"pu = {:.3f}\".format(p2))\n",
    "\n",
    "# Lower surface\n",
    "M2, _, p3_p1, _, _ = obq.solve(M1, alpha)\n",
    "print(\"M2={:.3f}\".format(M2))\n",
    "\n",
    "p3 = p1*p3_p1\n",
    "print(\"pl = {:.3f}\".format(p3))\n",
    "\n",
    "# Normal force coefficient\n",
    "gamma = 1.4\n",
    "cn = (p3 - p2) / (gamma/2*M1**2)\n",
    "\n",
    "# Lift force\n",
    "cl = cn * np.cos(np.deg2rad(alpha))\n",
    "print(\"Lift coefficient : {:.4f}\".format(cl))"
   ]
  },
  {
   "cell_type": "code",
   "execution_count": 28,
   "id": "KKW6MxHvu8Se",
   "metadata": {
    "colab": {
     "base_uri": "https://localhost:8080/"
    },
    "executionInfo": {
     "elapsed": 94,
     "status": "ok",
     "timestamp": 1744627216898,
     "user": {
      "displayName": "양동훈",
      "userId": "10144199678924553979"
     },
     "user_tz": -540
    },
    "id": "KKW6MxHvu8Se",
    "outputId": "85d6414d-a396-49fc-a132-89133aa00410"
   },
   "outputs": [
    {
     "name": "stdout",
     "output_type": "stream",
     "text": [
      "M2 = 8.085\n",
      "pu = 0.396\n",
      "M2=4.403\n",
      "pl = 7.579\n",
      "Lift coefficient : 0.2027\n"
     ]
    }
   ],
   "source": [
    "# Wedge\n",
    "delta = 10\n",
    "\n",
    "# Upper surface\n",
    "M2 = expd.mach(M1, alpha-delta/2)\n",
    "print(\"M2 = {:.3f}\".format(M2))\n",
    "\n",
    "p2 = isen.p0_p(M1) / isen.p0_p(M2)\n",
    "print(\"pu = {:.3f}\".format(p2))\n",
    "\n",
    "# Lower surface\n",
    "M2, _, p3_p1, _, beta = obq.solve(M1, alpha+delta/2)\n",
    "print(\"M2={:.3f}\".format(M2))\n",
    "\n",
    "p3 = p1*p3_p1\n",
    "print(\"pl = {:.3f}\".format(p3))\n",
    "\n",
    "# Normal force coefficient\n",
    "gamma = 1.4\n",
    "\n",
    "cl = (p3*np.cos(np.deg2rad(15)) - p2*np.cos(np.deg2rad(5))) / np.cos(np.deg2rad(5)) / (gamma/2*M1**2)\n",
    "print(\"Lift coefficient : {:.4f}\".format(cl))"
   ]
  }
 ],
 "metadata": {
  "colab": {
   "provenance": [
    {
     "file_id": "1bXjnFfU723PFH2Z2ji5MLFhxaBxJtLtf",
     "timestamp": 1744176204937
    }
   ]
  },
  "kernelspec": {
   "display_name": "pyenv",
   "language": "python",
   "name": "python3"
  },
  "language_info": {
   "codemirror_mode": {
    "name": "ipython",
    "version": 3
   },
   "file_extension": ".py",
   "mimetype": "text/x-python",
   "name": "python",
   "nbconvert_exporter": "python",
   "pygments_lexer": "ipython3",
   "version": "3.13.2"
  }
 },
 "nbformat": 4,
 "nbformat_minor": 5
}
