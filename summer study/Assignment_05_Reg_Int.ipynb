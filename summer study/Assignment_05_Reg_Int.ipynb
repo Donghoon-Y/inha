{
 "cells": [
  {
   "cell_type": "markdown",
   "id": "f03b5132",
   "metadata": {},
   "source": [
    "Before you turn this problem in, make sure everything runs as expected. First, **restart the kernel** (in the menubar, select Kernel $\\rightarrow$ Restart) and then **run all cells** (in the menubar, select Cell $\\rightarrow$ Run All).\n",
    "\n",
    "Make sure you fill in any place that says `YOUR CODE HERE` or \"YOUR ANSWER HERE\", as well as your name and collaborators below:"
   ]
  },
  {
   "cell_type": "code",
   "execution_count": null,
   "id": "1acd440a",
   "metadata": {},
   "outputs": [],
   "source": [
    "NAME = \"\"\n",
    "COLLABORATORS = \"\""
   ]
  },
  {
   "cell_type": "markdown",
   "id": "346052c2",
   "metadata": {},
   "source": [
    "---"
   ]
  },
  {
   "cell_type": "markdown",
   "id": "4f46c49c",
   "metadata": {
    "deletable": false,
    "editable": false,
    "nbgrader": {
     "cell_type": "markdown",
     "checksum": "447fdf8acf88ef70212cb511e80628bb",
     "grade": false,
     "grade_id": "cell-7e1ed028fd887dfd",
     "locked": true,
     "schema_version": 3,
     "solution": false,
     "task": false
    }
   },
   "source": [
    "# Exercise: Regression, Interpolation\n",
    "**강좌**: *Numerical Analysis*\n",
    "\n",
    "**Due**: 2024/11/20"
   ]
  },
  {
   "cell_type": "code",
   "execution_count": null,
   "id": "7a0bf338-1cfe-402b-90cb-d64761a2ef15",
   "metadata": {},
   "outputs": [],
   "source": [
    "%matplotlib inline\n",
    "from matplotlib import pyplot as plt\n",
    "\n",
    "import numpy as np\n",
    "\n",
    "plt.style.use('ggplot')\n",
    "plt.rcParams['figure.dpi'] = 150"
   ]
  },
  {
   "cell_type": "markdown",
   "id": "381e5f6a",
   "metadata": {
    "deletable": false,
    "editable": false,
    "nbgrader": {
     "cell_type": "markdown",
     "checksum": "e993633d850376f903cc1232a94a9fc6",
     "grade": false,
     "grade_id": "cell-f68fb90ec9f75fe1",
     "locked": true,
     "schema_version": 3,
     "solution": false,
     "task": false
    }
   },
   "source": [
    "## Problem #1\n",
    "Write a function to perform nn-th order regression analysis for a given dataset.\n",
    "\n",
    "- The function should return the regression coefficients.\n",
    "- The function should print the correlation coefficient."
   ]
  },
  {
   "cell_type": "code",
   "execution_count": null,
   "id": "627f1ba4",
   "metadata": {
    "deletable": false,
    "nbgrader": {
     "cell_type": "code",
     "checksum": "8db52ab368ed388e7566b2f39996f556",
     "grade": false,
     "grade_id": "cell-fe271d986d99dd1f",
     "locked": false,
     "schema_version": 3,
     "solution": true,
     "task": false
    }
   },
   "outputs": [],
   "source": [
    "# Write your answer\n",
    "def polyreg(x, y, n):\n",
    "    \"\"\"\n",
    "    Regression for polynomial\n",
    "    \n",
    "    Parameters\n",
    "    ----------\n",
    "    x : array\n",
    "        x\n",
    "    y : array\n",
    "        y\n",
    "    n : integer\n",
    "        order\n",
    "    \n",
    "    Returns\n",
    "    --------\n",
    "    z : array\n",
    "        coeffcient of polynomials\n",
    "    r : float\n",
    "        correlation coefficient\n",
    "    \"\"\"\n",
    "    # YOUR CODE HERE\n",
    "    raise NotImplementedError()"
   ]
  },
  {
   "cell_type": "code",
   "execution_count": null,
   "id": "97010ad2",
   "metadata": {
    "deletable": false,
    "editable": false,
    "nbgrader": {
     "cell_type": "code",
     "checksum": "8bf5a6f7a5d662f82918c0d22a0755be",
     "grade": true,
     "grade_id": "cell-104bcd844790831f",
     "locked": true,
     "points": 5,
     "schema_version": 3,
     "solution": false,
     "task": false
    }
   },
   "outputs": [],
   "source": [
    "## Do not remove\n",
    "# Same problem of lecture note\n",
    "y = np.array([2.1, 7.7, 13.6, 27.2, 40.9, 61.1])\n",
    "x = np.array(range(6))\n",
    "z, r = polyreg(x, y, 2)\n",
    "\n",
    "# Check your result\n",
    "assert np.linalg.norm(z - np.array([2.47857143, 2.35928571, 1.86071429])) < 1e-6"
   ]
  },
  {
   "cell_type": "markdown",
   "id": "fecf4984",
   "metadata": {
    "deletable": false,
    "editable": false,
    "nbgrader": {
     "cell_type": "markdown",
     "checksum": "98cf11c8a330689587f07bf27515804b",
     "grade": false,
     "grade_id": "cell-72ed34c3f87f3f0d",
     "locked": true,
     "schema_version": 3,
     "solution": false,
     "task": false
    }
   },
   "source": [
    "## Problem #2\n",
    "Write a function to perform interpolation using the Lagrange polynomial.:\n",
    "\n",
    "- Using the function values of $log(x)$ at $x=1,3,4,5,6$, calculate the interpolated value at $x=2$.\n",
    "\n",
    "- Solve the same problem using Newton's divided difference method and compare the results."
   ]
  },
  {
   "cell_type": "code",
   "execution_count": null,
   "id": "042bb4e4-a324-437e-85f0-4bd6b37548ed",
   "metadata": {
    "deletable": false,
    "nbgrader": {
     "cell_type": "code",
     "checksum": "4034d5b9c0f9586b39c2dea67b239351",
     "grade": false,
     "grade_id": "cell-e6fa2705e67c6109",
     "locked": false,
     "schema_version": 3,
     "solution": true,
     "task": false
    }
   },
   "outputs": [],
   "source": [
    "def lagint(xs, fs, x):\n",
    "    \"\"\"\n",
    "    Lagrange Interpolation\n",
    "    \n",
    "    Parameters\n",
    "    ----------\n",
    "    xs : array\n",
    "        Data of x\n",
    "    ys : array\n",
    "        Data of y\n",
    "    x: float\n",
    "        Point to interpolate\n",
    "    \"\"\"\n",
    "    # YOUR CODE HERE\n",
    "    raise NotImplementedError()\n",
    "\n",
    "\n",
    "# Interpolate log(2) using divided-difference interpolating polynomial using x=1,3,4,5,6 (save as fdd)\n",
    "# YOUR CODE HERE\n",
    "raise NotImplementedError()"
   ]
  },
  {
   "cell_type": "code",
   "execution_count": null,
   "id": "45aac9f3",
   "metadata": {
    "deletable": false,
    "editable": false,
    "nbgrader": {
     "cell_type": "code",
     "checksum": "fe82874bb6cb5fd965450a8174239573",
     "grade": true,
     "grade_id": "cell-e1ccf1c13c7ac806",
     "locked": true,
     "points": 5,
     "schema_version": 3,
     "solution": false,
     "task": false
    }
   },
   "outputs": [],
   "source": [
    "## Do not remove\n",
    "xs = [1, 3, 4, 5, 6]\n",
    "fs = np.log(xs)\n",
    "\n",
    "# Interpolate using Lagrange Polynomial\n",
    "flg = lagint(xs, fs, 2)\n",
    "\n",
    "# Check your result\n",
    "assert abs(flg - fdd) < 1e-6"
   ]
  },
  {
   "cell_type": "markdown",
   "id": "a7db9579",
   "metadata": {
    "deletable": false,
    "editable": false,
    "nbgrader": {
     "cell_type": "markdown",
     "checksum": "6ade648b39fb2e27dade12bb3e8c50d8",
     "grade": false,
     "grade_id": "cell-045b5e1ca6656c0d",
     "locked": true,
     "schema_version": 3,
     "solution": false,
     "task": false
    }
   },
   "source": [
    "## Problem #3\n",
    "Hooke’s law, which holds when a spring is not stretched too far, signifies that the extension of the spring and the applied force are linearly related. The proportionality is parameterized by the spring constant $k$. A value for this parameter can be established experimentally by placing known weights onto the spring and measuring the resulting compression. Such data were contained in below table and plotted in below figure. Notice that above a weight $40\\times10^4 N$, the linear relationship between the force and displacement breaks down. This sort of behavior is typical of what is termed a “hardening spring.” \n",
    "\n",
    "(a) Employ linear regression to determine a value of k for the linear portion of this system. Fit a quadratic polynomial to the nonlinear portion. (yellow region)\n",
    "\n",
    "| Displacement, m | 0.10 | 0.17 | 0.27 | 0.35 | 0.39 | 0.42 | 0.43 | 0.44 |\n",
    "|-----------------|------|------|------|------|------|------|------|------|\n",
    "| Force, $10^4 N$ | 10 | 20 | 30 | 40 | 50 | 60 | 70 | 80 |"
   ]
  },
  {
   "cell_type": "code",
   "execution_count": null,
   "id": "37c2a67d-8ea8-4e0a-a810-3c7b649f7736",
   "metadata": {
    "deletable": false,
    "editable": false,
    "nbgrader": {
     "cell_type": "code",
     "checksum": "351c481bcd59003513aea8610f804481",
     "grade": false,
     "grade_id": "cell-55810a5ab259fff2",
     "locked": true,
     "schema_version": 3,
     "solution": false,
     "task": false
    }
   },
   "outputs": [],
   "source": [
    "x = np.array([0.10, 0.17, 0.27, 0.35, 0.39, 0.42, 0.43, 0.44])\n",
    "f = np.array([10, 20, 30, 40, 50, 60, 70, 80])\n",
    "\n",
    "plt.plot(x, f, linestyle='none', marker='o')\n",
    "plt.axvspan(0.35, 0.5, alpha=0.2, color='yellow')\n",
    "plt.xlim(0.05, 0.5)\n",
    "plt.xlabel('Displacement, m')\n",
    "plt.ylabel('Force, $10^4$ N')"
   ]
  },
  {
   "cell_type": "code",
   "execution_count": null,
   "id": "9c5372b3",
   "metadata": {
    "deletable": false,
    "nbgrader": {
     "cell_type": "code",
     "checksum": "e5ec94ecf4a74ce1f64d763c00c1a8d7",
     "grade": true,
     "grade_id": "cell-06d903be04fc19c3",
     "locked": false,
     "points": 1,
     "schema_version": 3,
     "solution": true,
     "task": false
    }
   },
   "outputs": [],
   "source": [
    "# YOUR CODE HERE\n",
    "# Quadratic interpolation function name should be saved as 'fhard'.\n",
    "raise NotImplementedError()"
   ]
  },
  {
   "cell_type": "code",
   "execution_count": null,
   "id": "46fa7b2a",
   "metadata": {
    "deletable": false,
    "editable": false,
    "nbgrader": {
     "cell_type": "code",
     "checksum": "1126edbaa38f0d4b9a6d8426ac49e4ff",
     "grade": true,
     "grade_id": "cell-eddbe11c8ecd0bba",
     "locked": true,
     "points": 4,
     "schema_version": 3,
     "solution": false,
     "task": false
    }
   },
   "outputs": [],
   "source": [
    "## Do not remove\n",
    "x = np.array([0.10, 0.17, 0.27, 0.35, 0.39, 0.42, 0.43, 0.44])\n",
    "y = fhard(x)\n",
    "\n",
    "# Check your result\n",
    "assert abs(f[1] - y[1]) < 182\n",
    "assert abs(f[3] - y[3]) < 0.6\n",
    "assert abs(f[6] - y[6]) < 0.3"
   ]
  },
  {
   "cell_type": "markdown",
   "id": "383c7235",
   "metadata": {
    "deletable": false,
    "editable": false,
    "nbgrader": {
     "cell_type": "markdown",
     "checksum": "7528f045fd2bf22923a511b8970ef0e6",
     "grade": false,
     "grade_id": "cell-9c9d18d3bce73676",
     "locked": true,
     "schema_version": 3,
     "solution": false,
     "task": false
    }
   },
   "source": [
    "## Problem #4\n",
    "Runge’s function is written as:\n",
    "\n",
    "\n",
    "$$\n",
    "f(x) = \\frac{1}{1 + 25x^2}\n",
    "$$\n",
    "\n",
    "(a) Develop a plot of this function for the interval from x = -1 to 1.\n",
    "\n",
    "(b) Generate and plot the fourth-order Lagrange interpolating polynomial using equispaced function values corresponding to x = -1, -0.5, 0, 0.5, and 1.\n"
   ]
  },
  {
   "cell_type": "code",
   "execution_count": null,
   "id": "4dac7747",
   "metadata": {
    "deletable": false,
    "nbgrader": {
     "cell_type": "code",
     "checksum": "c90b465efe079122c39c48fa1a6bba93",
     "grade": true,
     "grade_id": "cell-bd8a7af00b1157ca",
     "locked": false,
     "points": 1,
     "schema_version": 3,
     "solution": true,
     "task": false
    }
   },
   "outputs": [],
   "source": [
    "# Write your answer (a)\n",
    "# YOUR CODE HERE\n",
    "raise NotImplementedError()"
   ]
  },
  {
   "cell_type": "code",
   "execution_count": null,
   "id": "b84ac06d",
   "metadata": {
    "deletable": false,
    "nbgrader": {
     "cell_type": "code",
     "checksum": "75a53f0b4034fbc81759972a9f100175",
     "grade": true,
     "grade_id": "cell-0923faedc04f947c",
     "locked": false,
     "points": 1,
     "schema_version": 3,
     "solution": true,
     "task": false
    }
   },
   "outputs": [],
   "source": [
    "# Write your answer (b)\n",
    "# YOUR CODE HERE\n",
    "raise NotImplementedError()"
   ]
  },
  {
   "cell_type": "code",
   "execution_count": null,
   "id": "e897aaac",
   "metadata": {
    "deletable": false,
    "editable": false,
    "nbgrader": {
     "cell_type": "code",
     "checksum": "eabe33d1a95da6a9b0f4a2f9e2c41b61",
     "grade": true,
     "grade_id": "cell-14b73e1e903a2427",
     "locked": true,
     "points": 3,
     "schema_version": 3,
     "solution": false,
     "task": false
    }
   },
   "outputs": [],
   "source": [
    "# Do not remove!!\n",
    "def Runge(x):\n",
    "    return 1/(1 + 25*x**2)\n",
    "\n",
    "xis = np.array([-1, -0.5, 0, 0.5, 1])\n",
    "fis = Runge(xis)\n",
    "lag = lagint(xis, fis, xis)\n"
   ]
  }
 ],
 "metadata": {
  "kernelspec": {
   "display_name": "Python 3 (ipykernel)",
   "language": "python",
   "name": "python3"
  },
  "language_info": {
   "codemirror_mode": {
    "name": "ipython",
    "version": 3
   },
   "file_extension": ".py",
   "mimetype": "text/x-python",
   "name": "python",
   "nbconvert_exporter": "python",
   "pygments_lexer": "ipython3",
   "version": "3.12.2"
  },
  "widgets": {
   "application/vnd.jupyter.widget-state+json": {
    "state": {},
    "version_major": 1,
    "version_minor": 0
   }
  }
 },
 "nbformat": 4,
 "nbformat_minor": 5
}
