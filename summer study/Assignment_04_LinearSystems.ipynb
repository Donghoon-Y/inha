{
 "cells": [
  {
   "cell_type": "markdown",
   "id": "e6296851",
   "metadata": {},
   "source": [
    "Before you turn this problem in, make sure everything runs as expected. First, **restart the kernel** (in the menubar, select Kernel $\\rightarrow$ Restart) and then **run all cells** (in the menubar, select Cell $\\rightarrow$ Run All).\n",
    "\n",
    "Make sure you fill in any place that says `YOUR CODE HERE` or \"YOUR ANSWER HERE\", as well as your name and collaborators below:"
   ]
  },
  {
   "cell_type": "code",
   "execution_count": null,
   "id": "daab2eb1",
   "metadata": {},
   "outputs": [],
   "source": [
    "NAME = \"\"\n",
    "COLLABORATORS = \"\""
   ]
  },
  {
   "cell_type": "markdown",
   "id": "bb0aa51b",
   "metadata": {},
   "source": [
    "---"
   ]
  },
  {
   "cell_type": "markdown",
   "id": "4f46c49c",
   "metadata": {
    "deletable": false,
    "editable": false,
    "nbgrader": {
     "cell_type": "markdown",
     "checksum": "03957d145c7547f15951fa64e42113ac",
     "grade": false,
     "grade_id": "cell-7e1ed028fd887dfd",
     "locked": true,
     "schema_version": 3,
     "solution": false,
     "task": false
    }
   },
   "source": [
    "# Exercise: Gauss Eliniation, LU Decomposition\n",
    "**강좌**: *Numerical Analysis*\n",
    "\n",
    "**Due**: 2024/10/21"
   ]
  },
  {
   "cell_type": "markdown",
   "id": "381e5f6a",
   "metadata": {
    "deletable": false,
    "editable": false,
    "nbgrader": {
     "cell_type": "markdown",
     "checksum": "a294d3000f692c654be7bf6a48856570",
     "grade": false,
     "grade_id": "cell-f68fb90ec9f75fe1",
     "locked": true,
     "schema_version": 3,
     "solution": false,
     "task": false
    }
   },
   "source": [
    "## Problem #1\n",
    "Write a function to solve $Ax=b$ using Gauss Elimination with Partial Pivoting. The function should follow these specifications:\n",
    "\n",
    "- Input parameters\n",
    "   * Matrix *A*\n",
    "   * vector *b*\n",
    "   \n",
    "- Return parameters\n",
    "   * solution vector *x*\n",
    "   * Pivot indices *l* (indicating row swaps during pivoting)\n",
    "   \n",
    "- Additionally, include a proper docstring to describe the function's behavior, parameters, and return values."
   ]
  },
  {
   "cell_type": "code",
   "execution_count": null,
   "id": "627f1ba4",
   "metadata": {
    "deletable": false,
    "nbgrader": {
     "cell_type": "code",
     "checksum": "689e31d22f2ca852add574ce1b36f1ea",
     "grade": false,
     "grade_id": "cell-fe271d986d99dd1f",
     "locked": false,
     "schema_version": 3,
     "solution": true,
     "task": false
    }
   },
   "outputs": [],
   "source": [
    "import numpy as np\n",
    "\n",
    "\n",
    "def pv_gauss_eliminate(A, b):\n",
    "    # YOUR CODE HERE\n",
    "    raise NotImplementedError()"
   ]
  },
  {
   "cell_type": "code",
   "execution_count": null,
   "id": "97010ad2",
   "metadata": {
    "deletable": false,
    "editable": false,
    "nbgrader": {
     "cell_type": "code",
     "checksum": "54524c3f0d8b776ce2a381fbfd82d70f",
     "grade": true,
     "grade_id": "cell-104bcd844790831f",
     "locked": true,
     "points": 5,
     "schema_version": 3,
     "solution": false,
     "task": false
    }
   },
   "outputs": [],
   "source": [
    "## Do not remove\n",
    "A = np.array([\n",
    "    [3, -13, 9, 3],\n",
    "    [-6, 4, 1, -18],\n",
    "    [6, -2, 2, 4],\n",
    "    [12, -8, 6, 10]\n",
    "])\n",
    "\n",
    "b = np.array([-19, -34, 16, 26])\n",
    "x, l = pv_gauss_eliminate(A, b)\n",
    "\n",
    "# Check your result\n",
    "assert np.linalg.norm(x - np.array([3, 1, -2, 1])) < 1e-6\n",
    "assert np.linalg.norm(l - np.array([3, 0, 1, 2])) < 1e-6"
   ]
  },
  {
   "cell_type": "markdown",
   "id": "fecf4984",
   "metadata": {
    "deletable": false,
    "editable": false,
    "nbgrader": {
     "cell_type": "markdown",
     "checksum": "10260e67aa8c413817b24b68b45154b1",
     "grade": false,
     "grade_id": "cell-72ed34c3f87f3f0d",
     "locked": true,
     "schema_version": 3,
     "solution": false,
     "task": false
    }
   },
   "source": [
    "## Problem #2\n",
    "Write two functions to perform LU decomposition ($A=LU$) and substitutions to solve $Ax=b$ using forward and backward substitutions with the following specifications:\n",
    "\n",
    "- LU decomposition function\n",
    "    * Convert matrix A into its LU decomposed form.\n",
    "    \n",
    "- LU substitution function\n",
    "    * Input parameters\n",
    "       * Matrix *LU* (from the LU decomposition)\n",
    "       * vector *b* (right-hand side of the equation)\n",
    "       \n",
    "    - Return parameters\n",
    "       * solution vector *x* (final solution to $Ax=b$)\n",
    "       * Intermediate result of forward substitution $Lc=b$\n",
    "       \n",
    "- Additionally, include a proper docstring to describe the function's behavior, parameters, and return values."
   ]
  },
  {
   "cell_type": "code",
   "execution_count": null,
   "id": "042bb4e4-a324-437e-85f0-4bd6b37548ed",
   "metadata": {
    "deletable": false,
    "nbgrader": {
     "cell_type": "code",
     "checksum": "1971821c0f92fa96146448b5082eae85",
     "grade": false,
     "grade_id": "cell-e6fa2705e67c6109",
     "locked": false,
     "schema_version": 3,
     "solution": true,
     "task": false
    }
   },
   "outputs": [],
   "source": [
    "def lu_decompose(A):\n",
    "    # YOUR CODE HERE\n",
    "    raise NotImplementedError()\n",
    "\n",
    "def lu_subs(A, b):\n",
    "    # YOUR CODE HERE\n",
    "    raise NotImplementedError()"
   ]
  },
  {
   "cell_type": "code",
   "execution_count": null,
   "id": "45aac9f3",
   "metadata": {
    "deletable": false,
    "editable": false,
    "nbgrader": {
     "cell_type": "code",
     "checksum": "fd2089f0daac4366431cede2f783e095",
     "grade": true,
     "grade_id": "cell-e1ccf1c13c7ac806",
     "locked": true,
     "points": 5,
     "schema_version": 3,
     "solution": false,
     "task": false
    }
   },
   "outputs": [],
   "source": [
    "## Do not remove\n",
    "A = np.array([[2, 1, 1], [4, -6, 0], [-2, 7, 2]])\n",
    "LU = A.copy()\n",
    "\n",
    "# LU decomposition\n",
    "lu_decompose(LU)\n",
    "\n",
    "# Solve Ax=b\n",
    "b = np.array([5, -2, 9])\n",
    "x, c = lu_subs(LU, b)\n",
    "\n",
    "# Check your result\n",
    "assert np.linalg.norm(LU - np.array([[2, 1, 1], [2, -8, -2], [-1, -1, 1]])) < 1e-6\n",
    "assert np.linalg.norm(x - np.array([1, 1, 2])) < 1e-6\n",
    "assert np.linalg.norm(c - np.array([5, -12, 2])) < 1e-6"
   ]
  },
  {
   "cell_type": "markdown",
   "id": "a7db9579",
   "metadata": {
    "deletable": false,
    "editable": false,
    "nbgrader": {
     "cell_type": "markdown",
     "checksum": "02d456233b832d2757af75e3b7dbf0ff",
     "grade": false,
     "grade_id": "cell-045b5e1ca6656c0d",
     "locked": true,
     "schema_version": 3,
     "solution": false,
     "task": false
    }
   },
   "source": [
    "## Problem #3\n",
    "Write a function to compute the inverse of matrix AA using LU decomposition and substitution."
   ]
  },
  {
   "cell_type": "code",
   "execution_count": null,
   "id": "9c5372b3",
   "metadata": {
    "deletable": false,
    "nbgrader": {
     "cell_type": "code",
     "checksum": "1556f1ba83e3de1919d4e383f5df072a",
     "grade": false,
     "grade_id": "cell-06d903be04fc19c3",
     "locked": false,
     "schema_version": 3,
     "solution": true,
     "task": false
    }
   },
   "outputs": [],
   "source": [
    "def inverse(A):\n",
    "    # YOUR CODE HERE\n",
    "    raise NotImplementedError()"
   ]
  },
  {
   "cell_type": "code",
   "execution_count": null,
   "id": "9a0b3879",
   "metadata": {
    "deletable": false,
    "editable": false,
    "nbgrader": {
     "cell_type": "code",
     "checksum": "734a6fe59cc61daf13c6e2f64de273ba",
     "grade": true,
     "grade_id": "cell-26344620df2a1a57",
     "locked": true,
     "points": 0,
     "schema_version": 3,
     "solution": false,
     "task": false
    }
   },
   "outputs": [],
   "source": [
    "## Do not remove\n",
    "A = np.array([[2,1,1],[4,-6,0],[-2,7,2]])\n",
    "A_inv = inverse(A)\n",
    "\n",
    "# Check your result\n",
    "assert np.linalg.norm(A @ A_inv - np.eye(len(A))) < 1e-6"
   ]
  },
  {
   "cell_type": "markdown",
   "id": "383c7235",
   "metadata": {
    "deletable": false,
    "editable": false,
    "nbgrader": {
     "cell_type": "markdown",
     "checksum": "45be43240a251527a8186525ed74ce3e",
     "grade": false,
     "grade_id": "cell-9c9d18d3bce73676",
     "locked": true,
     "schema_version": 3,
     "solution": false,
     "task": false
    }
   },
   "source": [
    "## Problem #4\n",
    "Write a function to solve a tri-diagonal system using the Thomas algorithm to solve the following problem:\n",
    "\n",
    "$$\n",
    "\\begin{bmatrix}\n",
    "2.01475 & -0.020875 & & \\\\\n",
    "-0.020875 & 2.01475 & -0.020875 & \\\\\n",
    "& -0.020875 & 2.01475 & -0.020875 \\\\\n",
    "& & -0.020875 & 2.01475\n",
    "\\end{bmatrix}\n",
    "T \n",
    "= \n",
    "\\begin{bmatrix}\n",
    "4.175 \\\\ 0 \\\\ 0 \\\\ 2.0875\n",
    "\\end{bmatrix}\n",
    "$$"
   ]
  },
  {
   "cell_type": "code",
   "execution_count": null,
   "id": "b84ac06d",
   "metadata": {
    "deletable": false,
    "nbgrader": {
     "cell_type": "code",
     "checksum": "abe97362df1da825a0c773312e6f0d85",
     "grade": false,
     "grade_id": "cell-0923faedc04f947c",
     "locked": false,
     "schema_version": 3,
     "solution": true,
     "task": false
    }
   },
   "outputs": [],
   "source": [
    "def thomas(a, b, c, d):\n",
    "    # YOUR CODE HERE\n",
    "    raise NotImplementedError()"
   ]
  },
  {
   "cell_type": "code",
   "execution_count": null,
   "id": "bb140b89",
   "metadata": {
    "deletable": false,
    "nbgrader": {
     "cell_type": "code",
     "checksum": "62a57ef06f710caaa1e629cec50476c0",
     "grade": false,
     "grade_id": "cell-7db0ce8d66c18a84",
     "locked": false,
     "schema_version": 3,
     "solution": true,
     "task": false
    }
   },
   "outputs": [],
   "source": [
    "# Solve the given linear system, store the solution in the vector x.\n",
    "# print(x)\n",
    "# YOUR CODE HERE\n",
    "raise NotImplementedError()"
   ]
  },
  {
   "cell_type": "code",
   "execution_count": null,
   "id": "0b893abc",
   "metadata": {
    "deletable": false,
    "editable": false,
    "nbgrader": {
     "cell_type": "code",
     "checksum": "e14332d2d494f2aa874926d03dcc4c97",
     "grade": true,
     "grade_id": "cell-3913d02b393042c3",
     "locked": true,
     "points": 5,
     "schema_version": 3,
     "solution": false,
     "task": false
    }
   },
   "outputs": [],
   "source": [
    "# Do not remove!!!"
   ]
  }
 ],
 "metadata": {
  "kernelspec": {
   "display_name": "Python 3 (ipykernel)",
   "language": "python",
   "name": "python3"
  },
  "language_info": {
   "codemirror_mode": {
    "name": "ipython",
    "version": 3
   },
   "file_extension": ".py",
   "mimetype": "text/x-python",
   "name": "python",
   "nbconvert_exporter": "python",
   "pygments_lexer": "ipython3",
   "version": "3.11.2"
  },
  "widgets": {
   "application/vnd.jupyter.widget-state+json": {
    "state": {},
    "version_major": 1,
    "version_minor": 0
   }
  }
 },
 "nbformat": 4,
 "nbformat_minor": 5
}
