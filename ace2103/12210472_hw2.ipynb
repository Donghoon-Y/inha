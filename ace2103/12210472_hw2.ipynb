{
  "cells": [
    {
      "cell_type": "markdown",
      "id": "4f46c49c",
      "metadata": {
        "deletable": false,
        "editable": false,
        "id": "4f46c49c",
        "nbgrader": {
          "cell_type": "markdown",
          "checksum": "34d1778ea98e1d525f0909b8248c7f1b",
          "grade": false,
          "grade_id": "cell-7e1ed028fd887dfd",
          "locked": true,
          "schema_version": 3,
          "solution": false,
          "task": false
        }
      },
      "source": [
        "# Exercise: Root Finding 1\n",
        "**강좌**: *Numerical Analysis*\n",
        "\n",
        "**Due**: 2024/10/1"
      ]
    },
    {
      "cell_type": "markdown",
      "id": "381e5f6a",
      "metadata": {
        "deletable": false,
        "editable": false,
        "id": "381e5f6a",
        "nbgrader": {
          "cell_type": "markdown",
          "checksum": "65aed5b0baf8c3ea9192284258b88c40",
          "grade": false,
          "grade_id": "cell-f68fb90ec9f75fe1",
          "locked": true,
          "schema_version": 3,
          "solution": false,
          "task": false
        }
      },
      "source": [
        "## Problem #1\n",
        "Write a function to find a root using the Bisection method with the following specifications:\n",
        "- Use a for loop with a specified maximum number of iterations.\n",
        "- Input parameters\n",
        "   * start and end of the braket (*a* and *b*)\n",
        "   * function *f*\n",
        "   * tolerance *tol*\n",
        "   * maximum iterations *iter_max*\n",
        "   * (Optional) Boolean verbose keyword to print intermediate results. The default is False.\n",
        "- Additionally, include a proper docstring to describe the function's behavior, parameters, and return values."
      ]
    },
    {
      "cell_type": "code",
      "execution_count": 1,
      "id": "627f1ba4",
      "metadata": {
        "deletable": false,
        "id": "627f1ba4",
        "nbgrader": {
          "cell_type": "code",
          "checksum": "c16f2bca6d097e6d13dc7896073178b9",
          "grade": false,
          "grade_id": "cell-fe271d986d99dd1f",
          "locked": false,
          "schema_version": 3,
          "solution": true,
          "task": false
        }
      },
      "outputs": [],
      "source": [
        "# Write your answer\n",
        "# Write your answer\n",
        "def bisect(a, b, f, tol=1e-6, iter_max=50):\n",
        "    # YOUR CODE HERE\n",
        "    '''\n",
        "    Bisection method\n",
        "\n",
        "    Parameters\n",
        "    ----------\n",
        "    a : float\n",
        "        lower limit\n",
        "    b : float\n",
        "        upper limit\n",
        "    f : function\n",
        "        함수\n",
        "    tol : float\n",
        "        tolerance\n",
        "    iter_max : int\n",
        "        maximun iterations\n",
        "    '''\n",
        "    fa,  fb = f(a), f(b)\n",
        "    product = f(a)*f(b)\n",
        "    #구간 경계에서 해가 존재하는 경우\n",
        "    if product == 0 :\n",
        "      if fa == 0 :\n",
        "        print(f'Converged : {a}')\n",
        "        return a\n",
        "\n",
        "      else :\n",
        "        print(f'Converged : {b}')\n",
        "        return b\n",
        "\n",
        "    #구간 내에 해가 없을 경우\n",
        "    elif product > 0 :\n",
        "       raise ValueError('Wrong Intervals')\n",
        "\n",
        "    else : #구간 내 해가 있고 경계가 해가 아닐 때 bisection method를 진행\n",
        "      #Compute midpoint\n",
        "      c = 0.5*(a+b)\n",
        "      for i in range(iter_max) :\n",
        "        if f(a)*f(c) < 0 :\n",
        "          b = c\n",
        "\n",
        "        elif f(b)*f(c) < 0 :\n",
        "          a = c\n",
        "        #Save old midpoint\n",
        "        c0 = c\n",
        "\n",
        "        #Compute new midpoint\n",
        "        c = 0.5*(a+b)\n",
        "\n",
        "        eps_ai = abs(c-c0)/max(abs(c), tol)\n",
        "        if eps_ai < tol :\n",
        "          print(f'Converged at {c}')\n",
        "\n",
        "          return c"
      ]
    },
    {
      "cell_type": "code",
      "execution_count": 2,
      "id": "1023b5fa-9c29-4d13-beb8-1150436797f3",
      "metadata": {
        "colab": {
          "base_uri": "https://localhost:8080/"
        },
        "deletable": false,
        "editable": false,
        "id": "1023b5fa-9c29-4d13-beb8-1150436797f3",
        "nbgrader": {
          "cell_type": "code",
          "checksum": "26d60f629e4a6639a41c5fd4b6312a11",
          "grade": true,
          "grade_id": "cell-962d2cf9716a6461",
          "locked": true,
          "points": 5,
          "schema_version": 3,
          "solution": false,
          "task": false
        },
        "outputId": "6d248aa6-1e1a-43a9-ec09-7ca41b143b01"
      },
      "outputs": [
        {
          "name": "stdout",
          "output_type": "stream",
          "text": [
            "Converged at -2.479482889175415\n",
            "Converged at 0.0\n",
            "Converged : 0\n"
          ]
        }
      ],
      "source": [
        "import numpy as np\n",
        "f = lambda x: x**2 + 10*np.sin(x)\n",
        "\n",
        "assert abs(bisect(-10, -1,  f) - (-2.47948)) < 5e-5\n",
        "assert abs(bisect(-1, 1,  f) - (0.0)) < 1e-6\n",
        "assert abs(bisect(-1, 0,  f) - (0.0)) < 1e-6"
      ]
    },
    {
      "cell_type": "markdown",
      "id": "5ede5245",
      "metadata": {
        "deletable": false,
        "editable": false,
        "id": "5ede5245",
        "nbgrader": {
          "cell_type": "markdown",
          "checksum": "d4836fbcca3d1165bc5c386bccfbda8f",
          "grade": false,
          "grade_id": "cell-cee5d5bcc4cb6723",
          "locked": true,
          "schema_version": 3,
          "solution": false,
          "task": false
        }
      },
      "source": [
        "## Problem #2\n",
        "Write a function to find a root using the False position method with the following specifications:\n",
        "- Use a for loop with a specified maximum number of iterations.\n",
        "- Input parameters\n",
        "   * start and end of the braket (*a* and *b*)\n",
        "   * function *f*\n",
        "   * tolerance *tol*\n",
        "   * maximum iterations *iter_max*\n",
        "   * (Optional) Boolean verbose keyword to print intermediate results. The default is False.\n",
        "- Additionally, include a proper docstring to describe the function's behavior, parameters, and return values."
      ]
    },
    {
      "cell_type": "code",
      "execution_count": 3,
      "id": "ab2cafec",
      "metadata": {
        "deletable": false,
        "id": "ab2cafec",
        "nbgrader": {
          "cell_type": "code",
          "checksum": "c115e5016d676cdf7d05e591fcf0bb1d",
          "grade": false,
          "grade_id": "cell-604cece7f9e1450f",
          "locked": false,
          "schema_version": 3,
          "solution": true,
          "task": false
        }
      },
      "outputs": [],
      "source": [
        "# Write your answer\n",
        "def falseposition(a, b, f, tol=1e-6, iter_max=50):\n",
        "    # Write your answer\n",
        "    '''\n",
        "    False position\n",
        "\n",
        "    Parameters\n",
        "    ----------\n",
        "    a : float\n",
        "        lower limit\n",
        "    b : float\n",
        "        upper limit\n",
        "    f : function\n",
        "        함수\n",
        "    tol : float\n",
        "        tolerance\n",
        "    iter_max : int\n",
        "        maximun iterations\n",
        "    '''\n",
        "    fa,  fb = f(a), f(b)\n",
        "    product = f(a)*f(b)\n",
        "    #구간 경계에서 해가 존재하는 경우\n",
        "    if product == 0 :\n",
        "      if fa == 0 :\n",
        "        print(f'Converged : {a}')\n",
        "        return a\n",
        "\n",
        "      else :\n",
        "        print(f'Converged : {b}')\n",
        "        return b\n",
        "\n",
        "    #구간 내에 해가 없을 경우\n",
        "    elif product > 0 :\n",
        "       raise ValueError('Wrong Intervals')\n",
        "\n",
        "    else : #구간 내 해가 있고 경계가 해가 아닐 때 bisection method를 진행\n",
        "      #Compute midpoint\n",
        "      c = b - f(b)*(a-b)/(f(a)-f(b))\n",
        "      for i in range(iter_max) :\n",
        "        if f(a)*f(c) < 0 :\n",
        "          b = c\n",
        "\n",
        "        elif f(b)*f(c) < 0 :\n",
        "          a = c\n",
        "        #Save old midpoint\n",
        "        c0 = c\n",
        "\n",
        "        #Compute new midpoint\n",
        "        c =  b - f(b)*(a-b)/(f(a)-f(b))\n",
        "\n",
        "        eps_ai = abs(c-c0)/max(abs(c), tol)\n",
        "        if eps_ai < tol :\n",
        "          print(f'Converged at {c}')\n",
        "\n",
        "          return c\n",
        "\n"
      ]
    },
    {
      "cell_type": "code",
      "execution_count": 4,
      "id": "148884ab-3434-41a2-9574-fbf8ef485383",
      "metadata": {
        "colab": {
          "base_uri": "https://localhost:8080/"
        },
        "deletable": false,
        "editable": false,
        "id": "148884ab-3434-41a2-9574-fbf8ef485383",
        "nbgrader": {
          "cell_type": "code",
          "checksum": "512c94b8f5773f6ecb8e2b476e256e5c",
          "grade": true,
          "grade_id": "cell-f84270eb85482c08",
          "locked": true,
          "points": 5,
          "schema_version": 3,
          "solution": false,
          "task": false
        },
        "outputId": "9c585e50-1ee2-47cb-8f1f-b6fc2f82a388"
      },
      "outputs": [
        {
          "name": "stdout",
          "output_type": "stream",
          "text": [
            "Converged at -2.479481807584437\n",
            "Converged at -3.469446951953614e-18\n",
            "Converged : 0\n"
          ]
        }
      ],
      "source": [
        "import numpy as np\n",
        "f = lambda x: x**2 + 10*np.sin(x)\n",
        "\n",
        "assert abs(falseposition(-10, -1,  f) - (-2.47948)) < 5e-5\n",
        "assert abs(falseposition(-1, 1,  f) - (0.0)) < 1e-6\n",
        "assert abs(falseposition(-1, 0,  f) - (0.0)) < 1e-6"
      ]
    },
    {
      "cell_type": "markdown",
      "id": "e61dc867",
      "metadata": {
        "deletable": false,
        "editable": false,
        "id": "e61dc867",
        "nbgrader": {
          "cell_type": "markdown",
          "checksum": "95543299661323ee3852a80d2357da00",
          "grade": false,
          "grade_id": "cell-8be80bcd040bc00e",
          "locked": true,
          "schema_version": 3,
          "solution": false,
          "task": false
        }
      },
      "source": [
        "## Problem #3\n",
        "Determine the real root of $f(x)=(0.8-0.3x)/x$\n",
        "\n",
        "(a) Graphically.\n",
        "\n",
        "(b) Bisection method\n",
        "\n",
        "(c) False position method\n",
        "\n",
        "For (b) and (c) use initial guesses of $a=1$ and $b=3$, and iterate until the approximate error falls below $0.1%$ or the number of iterations exceeds 50."
      ]
    },
    {
      "cell_type": "code",
      "execution_count": 5,
      "id": "8ef378c3",
      "metadata": {
        "colab": {
          "base_uri": "https://localhost:8080/",
          "height": 510
        },
        "deletable": false,
        "id": "8ef378c3",
        "nbgrader": {
          "cell_type": "code",
          "checksum": "5605b7ef1b9e4b7458219452049ae2e5",
          "grade": true,
          "grade_id": "cell-f6c57147fce4c063",
          "locked": false,
          "points": 1,
          "schema_version": 3,
          "solution": true,
          "task": false
        },
        "outputId": "a61ce38f-85ea-4f0d-b85a-caab0e2ee13e"
      },
      "outputs": [
        {
          "name": "stderr",
          "output_type": "stream",
          "text": [
            "/var/folders/ww/99v1qpcs4l16gwsgl9c7j_cm0000gn/T/ipykernel_15018/3707516515.py:4: RuntimeWarning: divide by zero encountered in divide\n",
            "  f = lambda x : (0.8 - 0.3*x)/x\n"
          ]
        },
        {
          "data": {
            "image/png": "[encoded data removed]",
            "text/plain": [
              "<Figure size 640x480 with 1 Axes>"
            ]
          },
          "metadata": {},
          "output_type": "display_data"
        }
      ],
      "source": [
        "# YOUR CODE HERE\n",
        "import numpy as np\n",
        "from matplotlib import pyplot as plt\n",
        "f = lambda x : (0.8 - 0.3*x)/x\n",
        "\n",
        "x = np.linspace(0,5,101)\n",
        "\n",
        "plt.plot(x, f(x), color='r')\n",
        "plt.scatter(8/3,f(8/3))\n",
        "plt.axhline(0, color='black',linewidth=1)\n",
        "plt.xlim(2,3)\n",
        "plt.title(\"Graphical Method: Roots of $f(x)$\")\n",
        "plt.legend(['$(0.8 - 0.3x)/x$', 'Graphically answer'])\n",
        "plt.xlabel('x')\n",
        "plt.ylabel('y')\n",
        "plt.grid(True)\n",
        "plt.show()\n"
      ]
    },
    {
      "cell_type": "code",
      "execution_count": 6,
      "id": "eacb3f96-41bc-41c1-a291-b82a07080814",
      "metadata": {
        "colab": {
          "base_uri": "https://localhost:8080/"
        },
        "deletable": false,
        "id": "eacb3f96-41bc-41c1-a291-b82a07080814",
        "nbgrader": {
          "cell_type": "code",
          "checksum": "f2fade6484ff79a7de728bbac60e91f9",
          "grade": false,
          "grade_id": "cell-57a9b7c6abe35785",
          "locked": false,
          "schema_version": 3,
          "solution": true,
          "task": false
        },
        "outputId": "77878771-4fc6-4941-aedb-6bd2a417b535"
      },
      "outputs": [
        {
          "name": "stdout",
          "output_type": "stream",
          "text": [
            "Converged at 2.666015625\n"
          ]
        }
      ],
      "source": [
        "# Write your answers (b)\n",
        "# Save the result in ans_b\n",
        "\n",
        "# YOUR CODE HERE\n",
        "f = lambda x: (0.8 - 0.3*x) / x\n",
        "def bisect(a, b, f, tol=0.001, iter_max=30):\n",
        "    '''\n",
        "    Bisection method\n",
        "\n",
        "    Parameters\n",
        "    ----------\n",
        "    a : float\n",
        "        lower limit\n",
        "    b : float\n",
        "        upper limit\n",
        "    f : function\n",
        "        함수\n",
        "    tol : float\n",
        "        tolerance\n",
        "    iter_max : int\n",
        "        maximun iterations\n",
        "    '''\n",
        "    fa,  fb = f(a), f(b)\n",
        "    product = f(a)*f(b)\n",
        "    #구간 경계에서 해가 존재하는 경우\n",
        "    if product == 0 :\n",
        "      if fa == 0 :\n",
        "        print(f'Converged : {a}')\n",
        "        return a\n",
        "\n",
        "      else :\n",
        "        print(f'Converged : {b}')\n",
        "        return b\n",
        "\n",
        "    #구간 내에 해가 없을 경우\n",
        "    elif product > 0 :\n",
        "       raise ValueError('Wrong Intervals')\n",
        "\n",
        "    else : #구간 내 해가 있고 경계가 해가 아닐 때 bisection method를 진행\n",
        "      #Compute midpoint\n",
        "      c = 0.5*(a+b)\n",
        "      for i in range(iter_max) :\n",
        "        if f(a)*f(c) < 0 :\n",
        "          b = c\n",
        "\n",
        "        elif f(b)*f(c) < 0 :\n",
        "          a = c\n",
        "        #Save old midpoint\n",
        "        c0 = c\n",
        "\n",
        "        #Compute new midpoint\n",
        "        c = 0.5*(a+b)\n",
        "\n",
        "        eps_ai = abs(c-c0)/max(abs(c), tol)\n",
        "        if eps_ai < tol :\n",
        "          print(f'Converged at {c}')\n",
        "          return c\n",
        "ans_b = bisect(1, 3, f, tol=1e-3, iter_max=50)"
      ]
    },
    {
      "cell_type": "code",
      "execution_count": null,
      "id": "a557d5a2-a05d-4061-952a-dd026eb3a740",
      "metadata": {
        "deletable": false,
        "editable": false,
        "id": "a557d5a2-a05d-4061-952a-dd026eb3a740",
        "nbgrader": {
          "cell_type": "code",
          "checksum": "5cad190c3210e3da307a426de543c6e0",
          "grade": true,
          "grade_id": "cell-5b6fd022369d37ae",
          "locked": true,
          "points": 2,
          "schema_version": 3,
          "solution": false,
          "task": false
        }
      },
      "outputs": [],
      "source": []
    },
    {
      "cell_type": "code",
      "execution_count": 7,
      "id": "5f095798-ca4b-4c74-9eff-ff0eb8b096a5",
      "metadata": {
        "colab": {
          "base_uri": "https://localhost:8080/"
        },
        "deletable": false,
        "id": "5f095798-ca4b-4c74-9eff-ff0eb8b096a5",
        "nbgrader": {
          "cell_type": "code",
          "checksum": "4e942d268f5423d0939d60e62f1084f6",
          "grade": false,
          "grade_id": "cell-ccc08edda3d585d2",
          "locked": false,
          "schema_version": 3,
          "solution": true,
          "task": false
        },
        "outputId": "69cdb320-284a-4006-972c-2e58d823ff7f"
      },
      "outputs": [
        {
          "name": "stdout",
          "output_type": "stream",
          "text": [
            "Converged at 2.6696983156725764\n"
          ]
        }
      ],
      "source": [
        "# Write your answers (c)\n",
        "# Save the result in ans_c\n",
        "\n",
        "# YOUR CODE HERE\n",
        "f = lambda x: (0.8 - 0.3*x) / x\n",
        "\n",
        "def falseposition(a, b, f, tol=0.001, iter_max=50):\n",
        "    # Write your answer\n",
        "    '''\n",
        "    False position\n",
        "\n",
        "    Parameters\n",
        "    ----------\n",
        "    a : float\n",
        "        lower limit\n",
        "    b : float\n",
        "        upper limit\n",
        "    f : function\n",
        "        함수\n",
        "    tol : float\n",
        "        tolerance\n",
        "    iter_max : int\n",
        "        maximun iterations\n",
        "    '''\n",
        "    fa,  fb = f(a), f(b)\n",
        "    product = f(a)*f(b)\n",
        "    #구간 경계에서 해가 존재하는 경우\n",
        "    if product == 0 :\n",
        "      if fa == 0 :\n",
        "        print(f'Converged : {a}')\n",
        "        return a\n",
        "\n",
        "      else :\n",
        "        print(f'Converged : {b}')\n",
        "        return b\n",
        "\n",
        "    #구간 내에 해가 없을 경우\n",
        "    elif product > 0 :\n",
        "       raise ValueError('Wrong Intervals')\n",
        "\n",
        "    else : #구간 내 해가 있고 경계가 해가 아닐 때 bisection method를 진행\n",
        "      #Compute midpoint\n",
        "      c = b - f(b)*(a-b)/(f(a)-f(b))\n",
        "      for i in range(iter_max) :\n",
        "        if f(a)*f(c) < 0 :\n",
        "          b = c\n",
        "\n",
        "        elif f(b)*f(c) < 0 :\n",
        "          a = c\n",
        "        #Save old midpoint\n",
        "        c0 = c\n",
        "\n",
        "        #Compute new midpoint\n",
        "        c =  b - f(b)*(a-b)/(f(a)-f(b))\n",
        "\n",
        "        eps_ai = abs(c-c0)/max(abs(c), tol)\n",
        "        if eps_ai < tol :\n",
        "          print(f'Converged at {c}')\n",
        "\n",
        "          return c\n",
        "ans_c = falseposition(1, 3, f, tol=1e-3, iter_max=50)"
      ]
    },
    {
      "cell_type": "code",
      "execution_count": null,
      "id": "b5ccbc9a-4b58-4c5a-b7c4-9f3828ce6a9b",
      "metadata": {
        "deletable": false,
        "editable": false,
        "id": "b5ccbc9a-4b58-4c5a-b7c4-9f3828ce6a9b",
        "nbgrader": {
          "cell_type": "code",
          "checksum": "455278c1985edca691860e31a390b97c",
          "grade": true,
          "grade_id": "cell-01ff38e473ed2c83",
          "locked": true,
          "points": 2,
          "schema_version": 3,
          "solution": false,
          "task": false
        }
      },
      "outputs": [],
      "source": []
    },
    {
      "cell_type": "markdown",
      "id": "b579a401",
      "metadata": {
        "deletable": false,
        "editable": false,
        "id": "b579a401",
        "nbgrader": {
          "cell_type": "markdown",
          "checksum": "3295074c467fe5722b0d8cba28730ceb",
          "grade": false,
          "grade_id": "cell-74f8ce63076a76a4",
          "locked": true,
          "schema_version": 3,
          "solution": false,
          "task": false
        }
      },
      "source": [
        "## Problem #4\n",
        "Water is flowing in a trapezoidal channel at a rate of $Q=20m^3/s$. The critical depth y for such a channel must satisfy the equation\n",
        "$$\n",
        "0 = 1 - \\frac{Q^2}{gA_c^3} B\n",
        "$$\n",
        "where $g=9.81 m/s2$, $A_c =$ the cross-sectional area ($m^2$), and $B=$ the width of the channel at the surface (*m*). For this case, the width and the cross-sectional area can be related to depth *y* by\n",
        "$$\n",
        "B = 3 + y, A_c  = 3y + \\frac{y^2}{2}\n",
        "$$\n",
        "Solve for the critical depth using\n",
        "(a) the graphical method, (b) bisection, and (c) false position.\n",
        "For (b) and (c) use initial guesses of $a=0.5$ and $b=2.5$, and iterate until the approximate error falls below $0.1 \\%$."
      ]
    },
    {
      "cell_type": "code",
      "execution_count": 8,
      "id": "06ee6150-39d8-4827-bbdc-14bfd46198ef",
      "metadata": {
        "colab": {
          "base_uri": "https://localhost:8080/",
          "height": 474
        },
        "deletable": false,
        "id": "06ee6150-39d8-4827-bbdc-14bfd46198ef",
        "nbgrader": {
          "cell_type": "code",
          "checksum": "33a8fe3b77276a76da0b99946255a5cc",
          "grade": true,
          "grade_id": "cell-9b7cadf3621cc1ce",
          "locked": false,
          "points": 1,
          "schema_version": 3,
          "solution": true,
          "task": false
        },
        "outputId": "f22a578f-5d7e-4407-dd8f-a048ef0ddf08"
      },
      "outputs": [
        {
          "data": {
            "image/png": "[encoded data removed]",
            "text/plain": [
              "<Figure size 640x480 with 1 Axes>"
            ]
          },
          "metadata": {},
          "output_type": "display_data"
        }
      ],
      "source": [
        "# YOUR CODE HERE\n",
        "from matplotlib import pyplot as plt\n",
        "import numpy as np\n",
        "Q = 20\n",
        "g = 9.81\n",
        "\n",
        "def f(y):\n",
        "    B = 3+y\n",
        "    Ac = 3*y + y**2/2\n",
        "\n",
        "    return 1 - Q**2 / (g*Ac**3) * B\n",
        "\n",
        "y = np.linspace(0.5,2.5,101)\n",
        "\n",
        "plt.plot(y, f(y), color='r')\n",
        "plt.scatter(1.5146484375, f(1.5146484375), color ='b')\n",
        "plt.axhline(0, color='black',linewidth=1)\n",
        "#plt.xlim(1.25,1.75)\n",
        "plt.title(\"Graphical Method: Roots of $f(x)$\")\n",
        "plt.legend(['$function', 'Graphically answer'])\n",
        "plt.xlabel('x')\n",
        "plt.ylabel('y')\n",
        "plt.grid(True)\n",
        "plt.show()"
      ]
    },
    {
      "cell_type": "code",
      "execution_count": 9,
      "id": "48e6c6c0",
      "metadata": {
        "colab": {
          "base_uri": "https://localhost:8080/"
        },
        "deletable": false,
        "id": "48e6c6c0",
        "nbgrader": {
          "cell_type": "code",
          "checksum": "e3cc45eaf71e4f49bf8583901aa0d0d4",
          "grade": false,
          "grade_id": "cell-7e4cca84c8892f74",
          "locked": false,
          "schema_version": 3,
          "solution": true,
          "task": false
        },
        "outputId": "faad98c6-cf88-4745-eea3-0f0df331bce5"
      },
      "outputs": [
        {
          "name": "stdout",
          "output_type": "stream",
          "text": [
            "Converged at 1.5146484375\n"
          ]
        }
      ],
      "source": [
        "# Write your answers (b)\n",
        "# Save the result in ans_b\n",
        "\n",
        "# YOUR CODE HERE\n",
        "Q = 20\n",
        "g = 9.81\n",
        "\n",
        "def f(y):\n",
        "    B = 3+y\n",
        "    Ac = 3*y + y**2/2\n",
        "\n",
        "    return 1 - Q**2 / (g*Ac**3) * B\n",
        "\n",
        "def bisect(a, b, f, tol=0.001, iter_max=50):\n",
        "    '''\n",
        "    Bisection method\n",
        "\n",
        "    Parameters\n",
        "    ----------\n",
        "    a : float\n",
        "        lower limit\n",
        "    b : float\n",
        "        upper limit\n",
        "    f : function\n",
        "        함수\n",
        "    tol : float\n",
        "        tolerance\n",
        "    iter_max : int\n",
        "        maximun iterations\n",
        "    '''\n",
        "    fa,  fb = f(a), f(b)\n",
        "    product = f(a)*f(b)\n",
        "    #구간 경계에서 해가 존재하는 경우\n",
        "    if product == 0 :\n",
        "      if fa == 0 :\n",
        "        print(f'Converged : {a}')\n",
        "        return a\n",
        "\n",
        "      else :\n",
        "        print(f'Converged : {b}')\n",
        "        return b\n",
        "\n",
        "    #구간 내에 해가 없을 경우\n",
        "    elif product > 0 :\n",
        "       raise ValueError('Wrong Intervals')\n",
        "\n",
        "    else : #구간 내 해가 있고 경계가 해가 아닐 때 bisection method를 진행\n",
        "      #Compute midpoint\n",
        "      c = 0.5*(a+b)\n",
        "      for i in range(iter_max) :\n",
        "        if f(a)*f(c) < 0 :\n",
        "          b = c\n",
        "\n",
        "        elif f(b)*f(c) < 0 :\n",
        "          a = c\n",
        "        #Save old midpoint\n",
        "        c0 = c\n",
        "\n",
        "        #Compute new midpoint\n",
        "        c = 0.5*(a+b)\n",
        "\n",
        "        eps_ai = abs(c-c0)/max(abs(c), tol)\n",
        "        if eps_ai < tol :\n",
        "          print(f'Converged at {c}')\n",
        "\n",
        "          return c\n",
        "\n",
        "\n",
        "ans_b = bisect(0.5, 2.5, f, iter_max=100, tol=1e-3)"
      ]
    },
    {
      "cell_type": "code",
      "execution_count": null,
      "id": "40ca2564-e2ee-412e-863d-70274652f47d",
      "metadata": {
        "deletable": false,
        "editable": false,
        "id": "40ca2564-e2ee-412e-863d-70274652f47d",
        "nbgrader": {
          "cell_type": "code",
          "checksum": "3caa20b220da04ee29071756f53aed05",
          "grade": true,
          "grade_id": "cell-19245e5c403472e1",
          "locked": true,
          "points": 2,
          "schema_version": 3,
          "solution": false,
          "task": false
        }
      },
      "outputs": [],
      "source": []
    },
    {
      "cell_type": "code",
      "execution_count": 10,
      "id": "daeb43d5-d7cd-4990-90a5-f93148617be9",
      "metadata": {
        "colab": {
          "base_uri": "https://localhost:8080/"
        },
        "deletable": false,
        "id": "daeb43d5-d7cd-4990-90a5-f93148617be9",
        "nbgrader": {
          "cell_type": "code",
          "checksum": "8bb4ad1d361885210f863f9d5d4c2a31",
          "grade": false,
          "grade_id": "cell-0a8e1726660934e0",
          "locked": false,
          "schema_version": 3,
          "solution": true,
          "task": false
        },
        "outputId": "740d9f6e-a5bc-484e-e2a4-6dcceeaf6f37"
      },
      "outputs": [
        {
          "name": "stdout",
          "output_type": "stream",
          "text": [
            "Converged at 1.5347323625278309\n"
          ]
        }
      ],
      "source": [
        "# Write your answers (c)\n",
        "# Save the result in ans_c\n",
        "\n",
        "# YOUR CODE HERE\n",
        "Q = 20\n",
        "g = 9.81\n",
        "\n",
        "def f(y):\n",
        "    B = 3+y\n",
        "    Ac = 3*y + y**2/2\n",
        "\n",
        "    return 1 - Q**2 / (g*Ac**3) * B\n",
        "\n",
        "def falseposition(a, b, f, tol=0.001, iter_max=100):\n",
        "    '''\n",
        "    False position\n",
        "\n",
        "    Parameters\n",
        "    ----------\n",
        "    a : float\n",
        "        lower limit\n",
        "    b : float\n",
        "        upper limit\n",
        "    f : function\n",
        "        함수\n",
        "    tol : float\n",
        "        tolerance\n",
        "    iter_max : int\n",
        "        maximun iterations\n",
        "    '''\n",
        "    fa,  fb = f(a), f(b)\n",
        "    product = f(a)*f(b)\n",
        "    #구간 경계에서 해가 존재하는 경우\n",
        "    if product == 0 :\n",
        "      if fa == 0 :\n",
        "        print(f'Converged : {a}')\n",
        "        return a\n",
        "\n",
        "      else :\n",
        "        print(f'Converged : {b}')\n",
        "        return b\n",
        "\n",
        "    #구간 내에 해가 없을 경우\n",
        "    elif product > 0 :\n",
        "       raise ValueError('Wrong Intervals')\n",
        "\n",
        "    else : #구간 내 해가 있고 경계가 해가 아닐 때 bisection method를 진행\n",
        "      #Compute midpoint\n",
        "      c = b - f(b)*(a-b)/(f(a)-f(b))\n",
        "      for i in range(iter_max) :\n",
        "        if f(a)*f(c) < 0 :\n",
        "          b = c\n",
        "\n",
        "        elif f(b)*f(c) < 0 :\n",
        "          a = c\n",
        "        #Save old midpoint\n",
        "        c0 = c\n",
        "\n",
        "        #Compute new midpoint\n",
        "        c =  b - f(b)*(a-b)/(f(a)-f(b))\n",
        "\n",
        "        eps_ai = abs(c-c0)/max(abs(c), tol)\n",
        "        if eps_ai < tol :\n",
        "          print(f'Converged at {c}')\n",
        "          return c\n",
        "\n",
        "\n",
        "ans_c = falseposition(0.5, 2.5, f, iter_max=100, tol=1e-3)\n",
        "### END SOLUTION"
      ]
    },
    {
      "cell_type": "code",
      "execution_count": null,
      "id": "13b95265-f895-4614-9912-73d36b1cbc1b",
      "metadata": {
        "deletable": false,
        "editable": false,
        "id": "13b95265-f895-4614-9912-73d36b1cbc1b",
        "nbgrader": {
          "cell_type": "code",
          "checksum": "216d5ca96f94ee1988f5b415d34d3681",
          "grade": true,
          "grade_id": "cell-66cb9bdb83a8bfd4",
          "locked": true,
          "points": 2,
          "schema_version": 3,
          "solution": false,
          "task": false
        }
      },
      "outputs": [],
      "source": []
    }
  ],
  "metadata": {
    "colab": {
      "provenance": []
    },
    "kernelspec": {
      "display_name": "Python 3",
      "language": "python",
      "name": "python3"
    },
    "language_info": {
      "codemirror_mode": {
        "name": "ipython",
        "version": 3
      },
      "file_extension": ".py",
      "mimetype": "text/x-python",
      "name": "python",
      "nbconvert_exporter": "python",
      "pygments_lexer": "ipython3",
      "version": "3.13.7"
    }
  },
  "nbformat": 4,
  "nbformat_minor": 5
}
